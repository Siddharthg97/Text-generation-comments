{
  "nbformat": 4,
  "nbformat_minor": 0,
  "metadata": {
    "colab": {
      "provenance": [],
      "gpuType": "T4",
      "mount_file_id": "1mkN8T63kuS6ZmMK-vY2CJMBv0oOfuKdZ",
      "authorship_tag": "ABX9TyMJ9DnVjlkykhLBbfafh/zd",
      "include_colab_link": true
    },
    "kernelspec": {
      "name": "python3",
      "display_name": "Python 3"
    },
    "language_info": {
      "name": "python"
    },
    "accelerator": "GPU"
  },
  "cells": [
    {
      "cell_type": "markdown",
      "metadata": {
        "id": "view-in-github",
        "colab_type": "text"
      },
      "source": [
        "<a href=\"https://colab.research.google.com/github/Siddharthg97/Text-generation-comments/blob/main/Supervised_finetuning_for_text_completion.ipynb\" target=\"_parent\"><img src=\"https://colab.research.google.com/assets/colab-badge.svg\" alt=\"Open In Colab\"/></a>"
      ]
    },
    {
      "cell_type": "code",
      "execution_count": 3,
      "metadata": {
        "id": "Uvd3mwthd6NU"
      },
      "outputs": [],
      "source": [
        "# !pip install accelerate -U"
      ]
    },
    {
      "cell_type": "code",
      "source": [
        "Here we perform supervise fine tuning for text completion using GPT2LMHeadModel & T5ForConditionalGeneration.\n",
        "We apped the the prompt and comment while training and in testing we keep only prompt.Specify the length of text generation as\n",
        "200.\n",
        "Now we notice that comments of analyst not only contains anchors used for discounting about also some other information in form\n",
        "of narration like watch-list is a also customer and then start giving description of information of account and transactions.\n",
        ", can got other sources like host,EBPP ,APEX etc.\n",
        "So they use to perform an exercise.\n",
        "2)Further they may give information about parties related to watchlist which has nothing to with discounting.Any\n",
        "surplus information.Information/KYC of other parties\n",
        "3) Giving info of irrelevant sources, miscellanous anchors that were not useful in discounting etc."
      ],
      "metadata": {
        "id": "I7iRotoTPCHs"
      },
      "execution_count": null,
      "outputs": []
    },
    {
      "cell_type": "code",
      "execution_count": 1,
      "metadata": {
        "scrolled": false,
        "id": "28e33ee3"
      },
      "outputs": [],
      "source": [
        "import pandas as pd\n",
        "from transformers import GPT2LMHeadModel, GPT2Tokenizer,T5ForConditionalGeneration,T5Tokenizer\n",
        "import numpy as np\n",
        "import random\n",
        "import torch\n",
        "from torch.utils.data import Dataset, DataLoader\n",
        "from transformers import GPT2Tokenizer, GPT2LMHeadModel, AdamW, get_linear_schedule_with_warmup\n",
        "from tqdm import tqdm, trange\n",
        "import torch.nn.functional as F\n",
        "import csv\n",
        "import os\n",
        "import re\n",
        "from transformers import TextDataset\n",
        "from transformers import Trainer, TrainingArguments, DataCollatorForLanguageModeling"
      ]
    },
    {
      "cell_type": "code",
      "execution_count": 2,
      "metadata": {
        "id": "0f03c9b2"
      },
      "outputs": [],
      "source": [
        "import pandas as pd\n",
        "from transformers import GPT2LMHeadModel, GPT2Tokenizer\n",
        "import numpy as np\n",
        "import random\n",
        "import torch\n",
        "from torch.utils.data import Dataset, DataLoader\n",
        "from transformers import GPT2Tokenizer, GPT2LMHeadModel, AdamW, get_linear_schedule_with_warmup\n",
        "from tqdm import tqdm, trange\n",
        "import torch.nn.functional as F\n",
        "import csv\n",
        "import pandas as pd\n",
        "import numpy as np\n",
        "import random\n",
        "from transformers import GPT2Tokenizer, GPT2LMHeadModel, AdamW, get_linear_schedule_with_warmup\n",
        "from tqdm import tqdm, trange\n",
        "import torch.nn.functional as F\n",
        "import csv\n",
        "import ast\n",
        "pd.set_option(\"Display.max_colwidth\",None)"
      ]
    },
    {
      "cell_type": "code",
      "execution_count": 4,
      "metadata": {
        "scrolled": true,
        "id": "f08af25a"
      },
      "outputs": [],
      "source": [
        "device = 'cpu'\n"
      ]
    },
    {
      "cell_type": "code",
      "execution_count": 3,
      "metadata": {
        "id": "78a06ac5"
      },
      "outputs": [],
      "source": [
        "# l_samp=pd.read_csv(\"/content/complete_prompt.csv\")\n",
        "l_samp=pd.read_csv(\"/content/sample_columns_prompt_with_dob_name_data (1).csv\")"
      ]
    },
    {
      "cell_type": "code",
      "source": [
        "l_samp.shape\n",
        "l_samp.columns"
      ],
      "metadata": {
        "id": "qtY1C-nsu8BR"
      },
      "execution_count": null,
      "outputs": []
    },
    {
      "cell_type": "code",
      "source": [
        "l_samp[\"prompt_&_comment\"]"
      ],
      "metadata": {
        "id": "750k7w-fyXee",
        "colab": {
          "base_uri": "https://localhost:8080/"
        },
        "outputId": "639d2f89-e830-4c5a-a841-baf24648a576"
      },
      "execution_count": 6,
      "outputs": [
        {
          "output_type": "execute_result",
          "data": {
            "text/plain": [
              "0                The customer and watch person date of birth is 1982/03/13 and 1982/03/05 respectively, with their date of birth similarity score as 0.8.Their names are ZHANGA TING and BING ZHANG respectively, with  their string based name matching scores as 7.588658000601267e-12, 90.0 and sound based name matching score as 0.6.Thus, customer and watchlist are a mis-match.Mismatch Full Legal Name_Name Does Not Sound Similar\n",
              "1                        The customer and watch person date of birth is 1993/12/16 and  respectively, with their date of birth similarity score as -1.0.Their names are TRAN THI HA and THI HOA TRAN respectively, with  their string based name matching scores as 5.03639903115527e-08, 92.0 and sound based name matching score as 0.5.Thus, customer and watchlist are a mis-match.Mismatch Full Legal Name_Name Does Not Sound Similar\n",
              "2                          The customer and watch person date of birth is 1982/03/13 and  respectively, with their date of birth similarity score as -1.0.Their names are ZHANGA TING and YING ZHANG respectively, with  their string based name matching scores as 2.44108775859786e-07, 90.0 and sound based name matching score as 0.6.Thus, customer and watchlist are a mis-match.Mismatch Full Legal Name_Name Does Not Sound Similar\n",
              "3                         The customer and watch person date of birth is 1982/03/13 and  respectively, with their date of birth similarity score as -1.0.Their names are ZHANGA TING and PING ZHANG respectively, with  their string based name matching scores as 2.933758376614526e-19, 90.0 and sound based name matching score as 0.6.Thus, customer and watchlist are a mis-match.Mismatch Full Legal Name_Name Does Not Sound Similar\n",
              "4                          The customer and watch person date of birth is 1982/03/13 and  respectively, with their date of birth similarity score as -1.0.Their names are ZHANGA TING and YING ZHANG respectively, with  their string based name matching scores as 2.44108775859786e-07, 90.0 and sound based name matching score as 0.6.Thus, customer and watchlist are a mis-match.Mismatch Full Legal Name_Name Does Not Sound Similar\n",
              "                                                                                                                                                                                                                        ...                                                                                                                                                                                                                \n",
              "64322             The customer and watch person date of birth is 1986/04/20 and 1986/12/09 respectively, with their date of birth similarity score as 0.6.Their names are NORHAYATI  ABDUL HAMID and NORHAYATI  ABDUL HAMID respectively, with  their string based name matching scores as 0.8819791674613953, 100.0 and sound based name matching score as 1.0.Thus, customer and watchlist are a mis-match.Mismatch - NRIC, Date of birth\n",
              "64323    The customer and watch person date of birth is 1985/03/29 and 1985/08/06 respectively, with their date of birth similarity score as 0.6.Their names are ASRI BIN MOHAMAD and MOHD BASRI BIN AWANG respectively, with  their string based name matching scores as 5.155948367904786e-13, 90.0 and sound based name matching score as 0.6176470588235294.Thus, customer and watchlist are a mis-match.Mismatch - NRIC, Date of birth\n",
              "64324                     The customer and watch person date of birth is 1964/11/18 and 1964/07/17 respectively, with their date of birth similarity score as 0.6.Their names are AZIZAH  ABDUL AZIZ and AZIZAH  ABDUL AZIZ respectively, with  their string based name matching scores as 0.8841778635978699, 100.0 and sound based name matching score as 1.0.Thus, customer and watchlist are a mis-match.Mismatch - NRIC, Date of birth\n",
              "64325                     The customer and watch person date of birth is 1964/11/01 and 1964/07/17 respectively, with their date of birth similarity score as 0.6.Their names are AZIZAH  ABDUL AZIZ and AZIZAH  ABDUL AZIZ respectively, with  their string based name matching scores as 0.8841778635978699, 100.0 and sound based name matching score as 1.0.Thus, customer and watchlist are a mis-match.Mismatch - NRIC, Date of birth\n",
              "64326       The customer and watch person date of birth is 1983/09/16 and 1983/03/26 respectively, with their date of birth similarity score as 0.6.Their names are AZHAR BIN HASSAN and AZAHAR BIN HASSAN respectively, with  their string based name matching scores as 1.694488882542089e-09, 93.0 and sound based name matching score as 0.8666666666666667.Thus, customer and watchlist are a mis-match.Mismatch - NRIC, Date of birth\n",
              "Name: prompt_&_comment, Length: 64327, dtype: object"
            ]
          },
          "metadata": {},
          "execution_count": 6
        }
      ]
    },
    {
      "cell_type": "code",
      "execution_count": null,
      "metadata": {
        "id": "67ca61b6"
      },
      "outputs": [],
      "source": [
        "### Train & Test dataset"
      ]
    },
    {
      "cell_type": "code",
      "execution_count": 5,
      "metadata": {
        "id": "cacf8ff0"
      },
      "outputs": [],
      "source": [
        "#Create a very small test set to compare generated text with the reality\n",
        "l_test= l_samp.sample(100)\n",
        "l_train = l_samp.loc[~l_samp.index.isin(l_test.index)]\n",
        "\n",
        "#Reset the indexes\n",
        "l_test = l_test.reset_index()\n"
      ]
    },
    {
      "cell_type": "code",
      "execution_count": 6,
      "metadata": {
        "id": "48360545",
        "colab": {
          "base_uri": "https://localhost:8080/"
        },
        "outputId": "d9b61107-ef07-4335-ee89-1f681f12a899"
      },
      "outputs": [
        {
          "output_type": "execute_result",
          "data": {
            "text/plain": [
              "((64227, 4), (64327, 4), (100, 5))"
            ]
          },
          "metadata": {},
          "execution_count": 6
        }
      ],
      "source": [
        "l_train.shape,l_samp.shape,l_test.shape"
      ]
    },
    {
      "cell_type": "markdown",
      "source": [
        "GPT2 Model"
      ],
      "metadata": {
        "id": "RTd42ut2vBDi"
      }
    },
    {
      "cell_type": "code",
      "execution_count": null,
      "metadata": {
        "id": "9f2be693"
      },
      "outputs": [],
      "source": [
        "package=\"gpt2\"\n",
        "tokenizer=GPT2Tokenizer.from_pretrained(\"gpt2\")\n",
        "model=GPT2LMHeadModel.from_pretrained(\"gpt2\")"
      ]
    },
    {
      "cell_type": "code",
      "source": [
        "l_train[\"prompt_&_comment\"].to_csv(\"Train_dataset.csv\")"
      ],
      "metadata": {
        "id": "h3q9rKJ6yBlL"
      },
      "execution_count": 12,
      "outputs": []
    },
    {
      "cell_type": "code",
      "source": [],
      "metadata": {
        "id": "Rw4vOvsZgyBU"
      },
      "execution_count": null,
      "outputs": []
    },
    {
      "cell_type": "code",
      "execution_count": 13,
      "metadata": {
        "id": "8502a2f8",
        "colab": {
          "base_uri": "https://localhost:8080/"
        },
        "outputId": "45af9b86-fa17-4207-e53e-897582be328d"
      },
      "outputs": [
        {
          "output_type": "stream",
          "name": "stderr",
          "text": [
            "/usr/local/lib/python3.10/dist-packages/transformers/data/datasets/language_modeling.py:53: FutureWarning: This dataset will be removed from the library soon, preprocessing should be handled with the 🤗 Datasets library. You can have a look at this example script for pointers: https://github.com/huggingface/transformers/blob/main/examples/pytorch/language-modeling/run_mlm.py\n",
            "  warnings.warn(\n"
          ]
        }
      ],
      "source": [
        "\n",
        "\n",
        "train_path = \"Train_dataset.csv\"\n",
        "train_dataset = TextDataset(\n",
        "    tokenizer=tokenizer,\n",
        "    file_path=train_path,\n",
        "    block_size=1024  # Adjust as needed\n",
        ")"
      ]
    },
    {
      "cell_type": "code",
      "source": [
        "data_collator = DataCollatorForLanguageModeling(\n",
        "    tokenizer=tokenizer,\n",
        "    mlm=False\n",
        ")"
      ],
      "metadata": {
        "id": "l4fyNQizgrN6"
      },
      "execution_count": 14,
      "outputs": []
    },
    {
      "cell_type": "code",
      "source": [
        "device = 'cpu'\n",
        "if torch.cuda.is_available():\n",
        "    device = 'cuda'\n",
        "print(device)"
      ],
      "metadata": {
        "id": "HzkOhJ5Gn3H-",
        "colab": {
          "base_uri": "https://localhost:8080/"
        },
        "outputId": "59078217-8cad-40b1-90cf-fbcfb8d5f9fe"
      },
      "execution_count": 15,
      "outputs": [
        {
          "output_type": "stream",
          "name": "stdout",
          "text": [
            "cpu\n"
          ]
        }
      ]
    },
    {
      "cell_type": "code",
      "source": [
        "training_args = TrainingArguments(\n",
        "    output_dir=\"./gpt2-finetuned\",\n",
        "    overwrite_output_dir=True,\n",
        "    num_train_epochs=3,\n",
        "    per_device_train_batch_size=4,\n",
        "    save_steps=10_000,\n",
        "    save_total_limit=2,\n",
        ")"
      ],
      "metadata": {
        "id": "4kzlnInVyXg8"
      },
      "execution_count": 16,
      "outputs": []
    },
    {
      "cell_type": "code",
      "source": [
        "trainer = Trainer(\n",
        "    model=model,\n",
        "    args=training_args,\n",
        "    data_collator=data_collator,\n",
        "    train_dataset=train_dataset,\n",
        ")\n",
        "trainer.train()\n",
        "model.save_pretrained(\"./gpt2-finetuned\")"
      ],
      "metadata": {
        "colab": {
          "base_uri": "https://localhost:8080/",
          "height": 431
        },
        "id": "Jle07q63Fu-v",
        "outputId": "34810201-e106-47fc-86cd-53dcf6806b74"
      },
      "execution_count": 14,
      "outputs": [
        {
          "output_type": "display_data",
          "data": {
            "text/plain": [
              "<IPython.core.display.HTML object>"
            ],
            "text/html": [
              "\n",
              "    <div>\n",
              "      \n",
              "      <progress value='6' max='6045' style='width:300px; height:20px; vertical-align: middle;'></progress>\n",
              "      [   6/6045 00:05 < 2:14:55, 0.75 it/s, Epoch 0.00/3]\n",
              "    </div>\n",
              "    <table border=\"1\" class=\"dataframe\">\n",
              "  <thead>\n",
              " <tr style=\"text-align: left;\">\n",
              "      <th>Step</th>\n",
              "      <th>Training Loss</th>\n",
              "    </tr>\n",
              "  </thead>\n",
              "  <tbody>\n",
              "  </tbody>\n",
              "</table><p>"
            ]
          },
          "metadata": {}
        },
        {
          "output_type": "error",
          "ename": "KeyboardInterrupt",
          "evalue": "",
          "traceback": [
            "\u001b[0;31m---------------------------------------------------------------------------\u001b[0m",
            "\u001b[0;31mKeyboardInterrupt\u001b[0m                         Traceback (most recent call last)",
            "\u001b[0;32m<ipython-input-14-766fe58963bf>\u001b[0m in \u001b[0;36m<cell line: 7>\u001b[0;34m()\u001b[0m\n\u001b[1;32m      5\u001b[0m     \u001b[0mtrain_dataset\u001b[0m\u001b[0;34m=\u001b[0m\u001b[0mtrain_dataset\u001b[0m\u001b[0;34m,\u001b[0m\u001b[0;34m\u001b[0m\u001b[0;34m\u001b[0m\u001b[0m\n\u001b[1;32m      6\u001b[0m )\n\u001b[0;32m----> 7\u001b[0;31m \u001b[0mtrainer\u001b[0m\u001b[0;34m.\u001b[0m\u001b[0mtrain\u001b[0m\u001b[0;34m(\u001b[0m\u001b[0;34m)\u001b[0m\u001b[0;34m\u001b[0m\u001b[0;34m\u001b[0m\u001b[0m\n\u001b[0m\u001b[1;32m      8\u001b[0m \u001b[0mmodel\u001b[0m\u001b[0;34m.\u001b[0m\u001b[0msave_pretrained\u001b[0m\u001b[0;34m(\u001b[0m\u001b[0;34m\"./gpt2-finetuned\"\u001b[0m\u001b[0;34m)\u001b[0m\u001b[0;34m\u001b[0m\u001b[0;34m\u001b[0m\u001b[0m\n",
            "\u001b[0;32m/usr/local/lib/python3.10/dist-packages/transformers/trainer.py\u001b[0m in \u001b[0;36mtrain\u001b[0;34m(self, resume_from_checkpoint, trial, ignore_keys_for_eval, **kwargs)\u001b[0m\n\u001b[1;32m   1883\u001b[0m                 \u001b[0mhf_hub_utils\u001b[0m\u001b[0;34m.\u001b[0m\u001b[0menable_progress_bars\u001b[0m\u001b[0;34m(\u001b[0m\u001b[0;34m)\u001b[0m\u001b[0;34m\u001b[0m\u001b[0;34m\u001b[0m\u001b[0m\n\u001b[1;32m   1884\u001b[0m         \u001b[0;32melse\u001b[0m\u001b[0;34m:\u001b[0m\u001b[0;34m\u001b[0m\u001b[0;34m\u001b[0m\u001b[0m\n\u001b[0;32m-> 1885\u001b[0;31m             return inner_training_loop(\n\u001b[0m\u001b[1;32m   1886\u001b[0m                 \u001b[0margs\u001b[0m\u001b[0;34m=\u001b[0m\u001b[0margs\u001b[0m\u001b[0;34m,\u001b[0m\u001b[0;34m\u001b[0m\u001b[0;34m\u001b[0m\u001b[0m\n\u001b[1;32m   1887\u001b[0m                 \u001b[0mresume_from_checkpoint\u001b[0m\u001b[0;34m=\u001b[0m\u001b[0mresume_from_checkpoint\u001b[0m\u001b[0;34m,\u001b[0m\u001b[0;34m\u001b[0m\u001b[0;34m\u001b[0m\u001b[0m\n",
            "\u001b[0;32m/usr/local/lib/python3.10/dist-packages/transformers/trainer.py\u001b[0m in \u001b[0;36m_inner_training_loop\u001b[0;34m(self, batch_size, args, resume_from_checkpoint, trial, ignore_keys_for_eval)\u001b[0m\n\u001b[1;32m   2214\u001b[0m \u001b[0;34m\u001b[0m\u001b[0m\n\u001b[1;32m   2215\u001b[0m                 \u001b[0;32mwith\u001b[0m \u001b[0mself\u001b[0m\u001b[0;34m.\u001b[0m\u001b[0maccelerator\u001b[0m\u001b[0;34m.\u001b[0m\u001b[0maccumulate\u001b[0m\u001b[0;34m(\u001b[0m\u001b[0mmodel\u001b[0m\u001b[0;34m)\u001b[0m\u001b[0;34m:\u001b[0m\u001b[0;34m\u001b[0m\u001b[0;34m\u001b[0m\u001b[0m\n\u001b[0;32m-> 2216\u001b[0;31m                     \u001b[0mtr_loss_step\u001b[0m \u001b[0;34m=\u001b[0m \u001b[0mself\u001b[0m\u001b[0;34m.\u001b[0m\u001b[0mtraining_step\u001b[0m\u001b[0;34m(\u001b[0m\u001b[0mmodel\u001b[0m\u001b[0;34m,\u001b[0m \u001b[0minputs\u001b[0m\u001b[0;34m)\u001b[0m\u001b[0;34m\u001b[0m\u001b[0;34m\u001b[0m\u001b[0m\n\u001b[0m\u001b[1;32m   2217\u001b[0m \u001b[0;34m\u001b[0m\u001b[0m\n\u001b[1;32m   2218\u001b[0m                 if (\n",
            "\u001b[0;32m/usr/local/lib/python3.10/dist-packages/transformers/trainer.py\u001b[0m in \u001b[0;36mtraining_step\u001b[0;34m(***failed resolving arguments***)\u001b[0m\n\u001b[1;32m   3248\u001b[0m                 \u001b[0mscaled_loss\u001b[0m\u001b[0;34m.\u001b[0m\u001b[0mbackward\u001b[0m\u001b[0;34m(\u001b[0m\u001b[0;34m)\u001b[0m\u001b[0;34m\u001b[0m\u001b[0;34m\u001b[0m\u001b[0m\n\u001b[1;32m   3249\u001b[0m         \u001b[0;32melse\u001b[0m\u001b[0;34m:\u001b[0m\u001b[0;34m\u001b[0m\u001b[0;34m\u001b[0m\u001b[0m\n\u001b[0;32m-> 3250\u001b[0;31m             \u001b[0mself\u001b[0m\u001b[0;34m.\u001b[0m\u001b[0maccelerator\u001b[0m\u001b[0;34m.\u001b[0m\u001b[0mbackward\u001b[0m\u001b[0;34m(\u001b[0m\u001b[0mloss\u001b[0m\u001b[0;34m)\u001b[0m\u001b[0;34m\u001b[0m\u001b[0;34m\u001b[0m\u001b[0m\n\u001b[0m\u001b[1;32m   3251\u001b[0m \u001b[0;34m\u001b[0m\u001b[0m\n\u001b[1;32m   3252\u001b[0m         \u001b[0;32mreturn\u001b[0m \u001b[0mloss\u001b[0m\u001b[0;34m.\u001b[0m\u001b[0mdetach\u001b[0m\u001b[0;34m(\u001b[0m\u001b[0;34m)\u001b[0m \u001b[0;34m/\u001b[0m \u001b[0mself\u001b[0m\u001b[0;34m.\u001b[0m\u001b[0margs\u001b[0m\u001b[0;34m.\u001b[0m\u001b[0mgradient_accumulation_steps\u001b[0m\u001b[0;34m\u001b[0m\u001b[0;34m\u001b[0m\u001b[0m\n",
            "\u001b[0;32m/usr/local/lib/python3.10/dist-packages/accelerate/accelerator.py\u001b[0m in \u001b[0;36mbackward\u001b[0;34m(self, loss, **kwargs)\u001b[0m\n\u001b[1;32m   2123\u001b[0m             \u001b[0mself\u001b[0m\u001b[0;34m.\u001b[0m\u001b[0mlomo_backward\u001b[0m\u001b[0;34m(\u001b[0m\u001b[0mloss\u001b[0m\u001b[0;34m,\u001b[0m \u001b[0mlearning_rate\u001b[0m\u001b[0;34m)\u001b[0m\u001b[0;34m\u001b[0m\u001b[0;34m\u001b[0m\u001b[0m\n\u001b[1;32m   2124\u001b[0m         \u001b[0;32melse\u001b[0m\u001b[0;34m:\u001b[0m\u001b[0;34m\u001b[0m\u001b[0;34m\u001b[0m\u001b[0m\n\u001b[0;32m-> 2125\u001b[0;31m             \u001b[0mloss\u001b[0m\u001b[0;34m.\u001b[0m\u001b[0mbackward\u001b[0m\u001b[0;34m(\u001b[0m\u001b[0;34m**\u001b[0m\u001b[0mkwargs\u001b[0m\u001b[0;34m)\u001b[0m\u001b[0;34m\u001b[0m\u001b[0;34m\u001b[0m\u001b[0m\n\u001b[0m\u001b[1;32m   2126\u001b[0m \u001b[0;34m\u001b[0m\u001b[0m\n\u001b[1;32m   2127\u001b[0m     \u001b[0;32mdef\u001b[0m \u001b[0mset_trigger\u001b[0m\u001b[0;34m(\u001b[0m\u001b[0mself\u001b[0m\u001b[0;34m)\u001b[0m\u001b[0;34m:\u001b[0m\u001b[0;34m\u001b[0m\u001b[0;34m\u001b[0m\u001b[0m\n",
            "\u001b[0;32m/usr/local/lib/python3.10/dist-packages/torch/_tensor.py\u001b[0m in \u001b[0;36mbackward\u001b[0;34m(self, gradient, retain_graph, create_graph, inputs)\u001b[0m\n\u001b[1;32m    523\u001b[0m                 \u001b[0minputs\u001b[0m\u001b[0;34m=\u001b[0m\u001b[0minputs\u001b[0m\u001b[0;34m,\u001b[0m\u001b[0;34m\u001b[0m\u001b[0;34m\u001b[0m\u001b[0m\n\u001b[1;32m    524\u001b[0m             )\n\u001b[0;32m--> 525\u001b[0;31m         torch.autograd.backward(\n\u001b[0m\u001b[1;32m    526\u001b[0m             \u001b[0mself\u001b[0m\u001b[0;34m,\u001b[0m \u001b[0mgradient\u001b[0m\u001b[0;34m,\u001b[0m \u001b[0mretain_graph\u001b[0m\u001b[0;34m,\u001b[0m \u001b[0mcreate_graph\u001b[0m\u001b[0;34m,\u001b[0m \u001b[0minputs\u001b[0m\u001b[0;34m=\u001b[0m\u001b[0minputs\u001b[0m\u001b[0;34m\u001b[0m\u001b[0;34m\u001b[0m\u001b[0m\n\u001b[1;32m    527\u001b[0m         )\n",
            "\u001b[0;32m/usr/local/lib/python3.10/dist-packages/torch/autograd/__init__.py\u001b[0m in \u001b[0;36mbackward\u001b[0;34m(tensors, grad_tensors, retain_graph, create_graph, grad_variables, inputs)\u001b[0m\n\u001b[1;32m    265\u001b[0m     \u001b[0;31m# some Python versions print out the first line of a multi-line function\u001b[0m\u001b[0;34m\u001b[0m\u001b[0;34m\u001b[0m\u001b[0m\n\u001b[1;32m    266\u001b[0m     \u001b[0;31m# calls in the traceback and some print out the last line\u001b[0m\u001b[0;34m\u001b[0m\u001b[0;34m\u001b[0m\u001b[0m\n\u001b[0;32m--> 267\u001b[0;31m     _engine_run_backward(\n\u001b[0m\u001b[1;32m    268\u001b[0m         \u001b[0mtensors\u001b[0m\u001b[0;34m,\u001b[0m\u001b[0;34m\u001b[0m\u001b[0;34m\u001b[0m\u001b[0m\n\u001b[1;32m    269\u001b[0m         \u001b[0mgrad_tensors_\u001b[0m\u001b[0;34m,\u001b[0m\u001b[0;34m\u001b[0m\u001b[0;34m\u001b[0m\u001b[0m\n",
            "\u001b[0;32m/usr/local/lib/python3.10/dist-packages/torch/autograd/graph.py\u001b[0m in \u001b[0;36m_engine_run_backward\u001b[0;34m(t_outputs, *args, **kwargs)\u001b[0m\n\u001b[1;32m    742\u001b[0m         \u001b[0munregister_hooks\u001b[0m \u001b[0;34m=\u001b[0m \u001b[0m_register_logging_hooks_on_whole_graph\u001b[0m\u001b[0;34m(\u001b[0m\u001b[0mt_outputs\u001b[0m\u001b[0;34m)\u001b[0m\u001b[0;34m\u001b[0m\u001b[0;34m\u001b[0m\u001b[0m\n\u001b[1;32m    743\u001b[0m     \u001b[0;32mtry\u001b[0m\u001b[0;34m:\u001b[0m\u001b[0;34m\u001b[0m\u001b[0;34m\u001b[0m\u001b[0m\n\u001b[0;32m--> 744\u001b[0;31m         return Variable._execution_engine.run_backward(  # Calls into the C++ engine to run the backward pass\n\u001b[0m\u001b[1;32m    745\u001b[0m             \u001b[0mt_outputs\u001b[0m\u001b[0;34m,\u001b[0m \u001b[0;34m*\u001b[0m\u001b[0margs\u001b[0m\u001b[0;34m,\u001b[0m \u001b[0;34m**\u001b[0m\u001b[0mkwargs\u001b[0m\u001b[0;34m\u001b[0m\u001b[0;34m\u001b[0m\u001b[0m\n\u001b[1;32m    746\u001b[0m         )  # Calls into the C++ engine to run the backward pass\n",
            "\u001b[0;31mKeyboardInterrupt\u001b[0m: "
          ]
        }
      ]
    },
    {
      "cell_type": "code",
      "source": [
        "def generate(\n",
        "    model,\n",
        "    tokenizer,\n",
        "    prompt,\n",
        "    entry_count=10,\n",
        "    entry_length=50, #maximum number of words\n",
        "    top_p=0.8,\n",
        "    temperature=1.,\n",
        "):\n",
        "    model.eval()\n",
        "    generated_num = 0\n",
        "    generated_list = []\n",
        "\n",
        "    filter_value = -float(\"Inf\")\n",
        "\n",
        "    with torch.no_grad():\n",
        "\n",
        "        for entry_idx in trange(entry_count):\n",
        "\n",
        "            entry_finished = False\n",
        "            generated = torch.tensor(tokenizer.encode(prompt)).unsqueeze(0)\n",
        "\n",
        "            for i in range(entry_length):\n",
        "                outputs = model(generated, labels=generated)\n",
        "                loss, logits = outputs[:2]\n",
        "                logits = logits[:, -1, :] / (temperature if temperature > 0 else 1.0)\n",
        "\n",
        "                sorted_logits, sorted_indices = torch.sort(logits, descending=True)\n",
        "                cumulative_probs = torch.cumsum(F.softmax(sorted_logits, dim=-1), dim=-1)\n",
        "\n",
        "                sorted_indices_to_remove = cumulative_probs > top_p\n",
        "                sorted_indices_to_remove[..., 1:] = sorted_indices_to_remove[\n",
        "                    ..., :-1\n",
        "                ].clone()\n",
        "                sorted_indices_to_remove[..., 0] = 0\n",
        "\n",
        "                indices_to_remove = sorted_indices[sorted_indices_to_remove]\n",
        "                logits[:, indices_to_remove] = filter_value\n",
        "\n",
        "                next_token = torch.multinomial(F.softmax(logits, dim=-1), num_samples=1)\n",
        "                generated = torch.cat((generated, next_token), dim=1)\n",
        "\n",
        "                if next_token in tokenizer.encode(\"<|endoftext|>\"):\n",
        "                    entry_finished = True\n",
        "\n",
        "                if entry_finished:\n",
        "\n",
        "                    generated_num = generated_num + 1\n",
        "\n",
        "                    output_list = list(generated.squeeze().numpy())\n",
        "                    output_text = tokenizer.decode(output_list)\n",
        "                    generated_list.append(output_text)\n",
        "                    break\n",
        "\n",
        "            if not entry_finished:\n",
        "              output_list = list(generated.squeeze().numpy())\n",
        "              output_text = f\"{tokenizer.decode(output_list)}<|endoftext|>\"\n",
        "              generated_list.append(output_text)\n",
        "\n",
        "    return generated_list\n",
        "\n",
        "#Function to generate multiple sentences. Test data should be a dataframe\n",
        "def text_generation(test_data):\n",
        "  generated_comments = []\n",
        "  for i in range(2):\n",
        "    x = generate(model.to(\"cpu\"), tokenizer, test_data[\"prompt\"][i], entry_count=1)\n",
        "    generated_comments.append(x)\n",
        "\n",
        "  return generated_comments"
      ],
      "metadata": {
        "id": "Bq4MLTsQt8dh"
      },
      "execution_count": 16,
      "outputs": []
    },
    {
      "cell_type": "code",
      "source": [
        "l_test.columns"
      ],
      "metadata": {
        "colab": {
          "base_uri": "https://localhost:8080/"
        },
        "id": "7UXlOmlJ6Mn_",
        "outputId": "67c3d0e9-8745-4bbb-a899-71a0f73077a6"
      },
      "execution_count": 21,
      "outputs": [
        {
          "output_type": "execute_result",
          "data": {
            "text/plain": [
              "Index(['index', 'Unnamed: 0', 'prompt', 'comments', 'prompt_&_comment',\n",
              "       'comments_gen'],\n",
              "      dtype='object')"
            ]
          },
          "metadata": {},
          "execution_count": 21
        }
      ]
    },
    {
      "cell_type": "code",
      "source": [
        "l_test_2=l_test[:2]"
      ],
      "metadata": {
        "id": "vsFRXj1x_Jru"
      },
      "execution_count": 34,
      "outputs": []
    },
    {
      "cell_type": "code",
      "source": [
        "l_test_2"
      ],
      "metadata": {
        "colab": {
          "base_uri": "https://localhost:8080/",
          "height": 684
        },
        "id": "FOX_Gzh3_PPq",
        "outputId": "4c7332b3-445f-4796-b5f2-df9a613c32b1"
      },
      "execution_count": 35,
      "outputs": [
        {
          "output_type": "execute_result",
          "data": {
            "text/plain": [
              "   index  Unnamed: 0  \\\n",
              "0  42172       42172   \n",
              "1  10474       10474   \n",
              "\n",
              "                                                                                                                                                                                                                                                                                                                                                                                                                                   prompt  \\\n",
              "0  The customer date of birth  and watch person  year of birth is 1980/09/11['1964', '1965', '1966', '1967', '1968'] respectively,with their date of birth similarity score as 0.0.Their names are MUHAIMI BIN HARUN and SUHAIMI HARUN respectively, with  their string based name matching scores as 2.917718289197068e-09, 93.0 and sound based name matching score as 0.6333333333333333.Thus, customer and watchlist are a mis-match.   \n",
              "1                                                      The customer and watch person date of birth is 1984/10/24 and  respectively, with their date of birth similarity score as -1.0.Their names are MUHAMMAD ASIM and MUHAMMAD QASIM respectively, with  their string based name matching scores as 6.294637255876978e-09, 90.0 and sound based name matching score as 0.8846153846153846.Thus, customer and watchlist are a mis-match.   \n",
              "\n",
              "                                               comments  \\\n",
              "0                          Mismatch Year of Birth (YOB)   \n",
              "1  Mismatch Full Legal Name_Name Does Not Sound Similar   \n",
              "\n",
              "                                                                                                                                                                                                                                                                                                                                                                                                                                                     prompt_&_comment  \\\n",
              "0  The customer date of birth  and watch person  year of birth is 1980/09/11['1964', '1965', '1966', '1967', '1968'] respectively,with their date of birth similarity score as 0.0.Their names are MUHAIMI BIN HARUN and SUHAIMI HARUN respectively, with  their string based name matching scores as 2.917718289197068e-09, 93.0 and sound based name matching score as 0.6333333333333333.Thus, customer and watchlist are a mis-match.Mismatch Year of Birth (YOB)   \n",
              "1                              The customer and watch person date of birth is 1984/10/24 and  respectively, with their date of birth similarity score as -1.0.Their names are MUHAMMAD ASIM and MUHAMMAD QASIM respectively, with  their string based name matching scores as 6.294637255876978e-09, 90.0 and sound based name matching score as 0.8846153846153846.Thus, customer and watchlist are a mis-match.Mismatch Full Legal Name_Name Does Not Sound Similar   \n",
              "\n",
              "  comments_gen  \n",
              "0               \n",
              "1               "
            ],
            "text/html": [
              "\n",
              "  <div id=\"df-43ddafe9-8b53-411e-a949-5a9d642ff528\" class=\"colab-df-container\">\n",
              "    <div>\n",
              "<style scoped>\n",
              "    .dataframe tbody tr th:only-of-type {\n",
              "        vertical-align: middle;\n",
              "    }\n",
              "\n",
              "    .dataframe tbody tr th {\n",
              "        vertical-align: top;\n",
              "    }\n",
              "\n",
              "    .dataframe thead th {\n",
              "        text-align: right;\n",
              "    }\n",
              "</style>\n",
              "<table border=\"1\" class=\"dataframe\">\n",
              "  <thead>\n",
              "    <tr style=\"text-align: right;\">\n",
              "      <th></th>\n",
              "      <th>index</th>\n",
              "      <th>Unnamed: 0</th>\n",
              "      <th>prompt</th>\n",
              "      <th>comments</th>\n",
              "      <th>prompt_&amp;_comment</th>\n",
              "      <th>comments_gen</th>\n",
              "    </tr>\n",
              "  </thead>\n",
              "  <tbody>\n",
              "    <tr>\n",
              "      <th>0</th>\n",
              "      <td>42172</td>\n",
              "      <td>42172</td>\n",
              "      <td>The customer date of birth  and watch person  year of birth is 1980/09/11['1964', '1965', '1966', '1967', '1968'] respectively,with their date of birth similarity score as 0.0.Their names are MUHAIMI BIN HARUN and SUHAIMI HARUN respectively, with  their string based name matching scores as 2.917718289197068e-09, 93.0 and sound based name matching score as 0.6333333333333333.Thus, customer and watchlist are a mis-match.</td>\n",
              "      <td>Mismatch Year of Birth (YOB)</td>\n",
              "      <td>The customer date of birth  and watch person  year of birth is 1980/09/11['1964', '1965', '1966', '1967', '1968'] respectively,with their date of birth similarity score as 0.0.Their names are MUHAIMI BIN HARUN and SUHAIMI HARUN respectively, with  their string based name matching scores as 2.917718289197068e-09, 93.0 and sound based name matching score as 0.6333333333333333.Thus, customer and watchlist are a mis-match.Mismatch Year of Birth (YOB)</td>\n",
              "      <td></td>\n",
              "    </tr>\n",
              "    <tr>\n",
              "      <th>1</th>\n",
              "      <td>10474</td>\n",
              "      <td>10474</td>\n",
              "      <td>The customer and watch person date of birth is 1984/10/24 and  respectively, with their date of birth similarity score as -1.0.Their names are MUHAMMAD ASIM and MUHAMMAD QASIM respectively, with  their string based name matching scores as 6.294637255876978e-09, 90.0 and sound based name matching score as 0.8846153846153846.Thus, customer and watchlist are a mis-match.</td>\n",
              "      <td>Mismatch Full Legal Name_Name Does Not Sound Similar</td>\n",
              "      <td>The customer and watch person date of birth is 1984/10/24 and  respectively, with their date of birth similarity score as -1.0.Their names are MUHAMMAD ASIM and MUHAMMAD QASIM respectively, with  their string based name matching scores as 6.294637255876978e-09, 90.0 and sound based name matching score as 0.8846153846153846.Thus, customer and watchlist are a mis-match.Mismatch Full Legal Name_Name Does Not Sound Similar</td>\n",
              "      <td></td>\n",
              "    </tr>\n",
              "  </tbody>\n",
              "</table>\n",
              "</div>\n",
              "    <div class=\"colab-df-buttons\">\n",
              "\n",
              "  <div class=\"colab-df-container\">\n",
              "    <button class=\"colab-df-convert\" onclick=\"convertToInteractive('df-43ddafe9-8b53-411e-a949-5a9d642ff528')\"\n",
              "            title=\"Convert this dataframe to an interactive table.\"\n",
              "            style=\"display:none;\">\n",
              "\n",
              "  <svg xmlns=\"http://www.w3.org/2000/svg\" height=\"24px\" viewBox=\"0 -960 960 960\">\n",
              "    <path d=\"M120-120v-720h720v720H120Zm60-500h600v-160H180v160Zm220 220h160v-160H400v160Zm0 220h160v-160H400v160ZM180-400h160v-160H180v160Zm440 0h160v-160H620v160ZM180-180h160v-160H180v160Zm440 0h160v-160H620v160Z\"/>\n",
              "  </svg>\n",
              "    </button>\n",
              "\n",
              "  <style>\n",
              "    .colab-df-container {\n",
              "      display:flex;\n",
              "      gap: 12px;\n",
              "    }\n",
              "\n",
              "    .colab-df-convert {\n",
              "      background-color: #E8F0FE;\n",
              "      border: none;\n",
              "      border-radius: 50%;\n",
              "      cursor: pointer;\n",
              "      display: none;\n",
              "      fill: #1967D2;\n",
              "      height: 32px;\n",
              "      padding: 0 0 0 0;\n",
              "      width: 32px;\n",
              "    }\n",
              "\n",
              "    .colab-df-convert:hover {\n",
              "      background-color: #E2EBFA;\n",
              "      box-shadow: 0px 1px 2px rgba(60, 64, 67, 0.3), 0px 1px 3px 1px rgba(60, 64, 67, 0.15);\n",
              "      fill: #174EA6;\n",
              "    }\n",
              "\n",
              "    .colab-df-buttons div {\n",
              "      margin-bottom: 4px;\n",
              "    }\n",
              "\n",
              "    [theme=dark] .colab-df-convert {\n",
              "      background-color: #3B4455;\n",
              "      fill: #D2E3FC;\n",
              "    }\n",
              "\n",
              "    [theme=dark] .colab-df-convert:hover {\n",
              "      background-color: #434B5C;\n",
              "      box-shadow: 0px 1px 3px 1px rgba(0, 0, 0, 0.15);\n",
              "      filter: drop-shadow(0px 1px 2px rgba(0, 0, 0, 0.3));\n",
              "      fill: #FFFFFF;\n",
              "    }\n",
              "  </style>\n",
              "\n",
              "    <script>\n",
              "      const buttonEl =\n",
              "        document.querySelector('#df-43ddafe9-8b53-411e-a949-5a9d642ff528 button.colab-df-convert');\n",
              "      buttonEl.style.display =\n",
              "        google.colab.kernel.accessAllowed ? 'block' : 'none';\n",
              "\n",
              "      async function convertToInteractive(key) {\n",
              "        const element = document.querySelector('#df-43ddafe9-8b53-411e-a949-5a9d642ff528');\n",
              "        const dataTable =\n",
              "          await google.colab.kernel.invokeFunction('convertToInteractive',\n",
              "                                                    [key], {});\n",
              "        if (!dataTable) return;\n",
              "\n",
              "        const docLinkHtml = 'Like what you see? Visit the ' +\n",
              "          '<a target=\"_blank\" href=https://colab.research.google.com/notebooks/data_table.ipynb>data table notebook</a>'\n",
              "          + ' to learn more about interactive tables.';\n",
              "        element.innerHTML = '';\n",
              "        dataTable['output_type'] = 'display_data';\n",
              "        await google.colab.output.renderOutput(dataTable, element);\n",
              "        const docLink = document.createElement('div');\n",
              "        docLink.innerHTML = docLinkHtml;\n",
              "        element.appendChild(docLink);\n",
              "      }\n",
              "    </script>\n",
              "  </div>\n",
              "\n",
              "\n",
              "<div id=\"df-5fdd5120-d799-489b-a5a7-cffda3e363a4\">\n",
              "  <button class=\"colab-df-quickchart\" onclick=\"quickchart('df-5fdd5120-d799-489b-a5a7-cffda3e363a4')\"\n",
              "            title=\"Suggest charts\"\n",
              "            style=\"display:none;\">\n",
              "\n",
              "<svg xmlns=\"http://www.w3.org/2000/svg\" height=\"24px\"viewBox=\"0 0 24 24\"\n",
              "     width=\"24px\">\n",
              "    <g>\n",
              "        <path d=\"M19 3H5c-1.1 0-2 .9-2 2v14c0 1.1.9 2 2 2h14c1.1 0 2-.9 2-2V5c0-1.1-.9-2-2-2zM9 17H7v-7h2v7zm4 0h-2V7h2v10zm4 0h-2v-4h2v4z\"/>\n",
              "    </g>\n",
              "</svg>\n",
              "  </button>\n",
              "\n",
              "<style>\n",
              "  .colab-df-quickchart {\n",
              "      --bg-color: #E8F0FE;\n",
              "      --fill-color: #1967D2;\n",
              "      --hover-bg-color: #E2EBFA;\n",
              "      --hover-fill-color: #174EA6;\n",
              "      --disabled-fill-color: #AAA;\n",
              "      --disabled-bg-color: #DDD;\n",
              "  }\n",
              "\n",
              "  [theme=dark] .colab-df-quickchart {\n",
              "      --bg-color: #3B4455;\n",
              "      --fill-color: #D2E3FC;\n",
              "      --hover-bg-color: #434B5C;\n",
              "      --hover-fill-color: #FFFFFF;\n",
              "      --disabled-bg-color: #3B4455;\n",
              "      --disabled-fill-color: #666;\n",
              "  }\n",
              "\n",
              "  .colab-df-quickchart {\n",
              "    background-color: var(--bg-color);\n",
              "    border: none;\n",
              "    border-radius: 50%;\n",
              "    cursor: pointer;\n",
              "    display: none;\n",
              "    fill: var(--fill-color);\n",
              "    height: 32px;\n",
              "    padding: 0;\n",
              "    width: 32px;\n",
              "  }\n",
              "\n",
              "  .colab-df-quickchart:hover {\n",
              "    background-color: var(--hover-bg-color);\n",
              "    box-shadow: 0 1px 2px rgba(60, 64, 67, 0.3), 0 1px 3px 1px rgba(60, 64, 67, 0.15);\n",
              "    fill: var(--button-hover-fill-color);\n",
              "  }\n",
              "\n",
              "  .colab-df-quickchart-complete:disabled,\n",
              "  .colab-df-quickchart-complete:disabled:hover {\n",
              "    background-color: var(--disabled-bg-color);\n",
              "    fill: var(--disabled-fill-color);\n",
              "    box-shadow: none;\n",
              "  }\n",
              "\n",
              "  .colab-df-spinner {\n",
              "    border: 2px solid var(--fill-color);\n",
              "    border-color: transparent;\n",
              "    border-bottom-color: var(--fill-color);\n",
              "    animation:\n",
              "      spin 1s steps(1) infinite;\n",
              "  }\n",
              "\n",
              "  @keyframes spin {\n",
              "    0% {\n",
              "      border-color: transparent;\n",
              "      border-bottom-color: var(--fill-color);\n",
              "      border-left-color: var(--fill-color);\n",
              "    }\n",
              "    20% {\n",
              "      border-color: transparent;\n",
              "      border-left-color: var(--fill-color);\n",
              "      border-top-color: var(--fill-color);\n",
              "    }\n",
              "    30% {\n",
              "      border-color: transparent;\n",
              "      border-left-color: var(--fill-color);\n",
              "      border-top-color: var(--fill-color);\n",
              "      border-right-color: var(--fill-color);\n",
              "    }\n",
              "    40% {\n",
              "      border-color: transparent;\n",
              "      border-right-color: var(--fill-color);\n",
              "      border-top-color: var(--fill-color);\n",
              "    }\n",
              "    60% {\n",
              "      border-color: transparent;\n",
              "      border-right-color: var(--fill-color);\n",
              "    }\n",
              "    80% {\n",
              "      border-color: transparent;\n",
              "      border-right-color: var(--fill-color);\n",
              "      border-bottom-color: var(--fill-color);\n",
              "    }\n",
              "    90% {\n",
              "      border-color: transparent;\n",
              "      border-bottom-color: var(--fill-color);\n",
              "    }\n",
              "  }\n",
              "</style>\n",
              "\n",
              "  <script>\n",
              "    async function quickchart(key) {\n",
              "      const quickchartButtonEl =\n",
              "        document.querySelector('#' + key + ' button');\n",
              "      quickchartButtonEl.disabled = true;  // To prevent multiple clicks.\n",
              "      quickchartButtonEl.classList.add('colab-df-spinner');\n",
              "      try {\n",
              "        const charts = await google.colab.kernel.invokeFunction(\n",
              "            'suggestCharts', [key], {});\n",
              "      } catch (error) {\n",
              "        console.error('Error during call to suggestCharts:', error);\n",
              "      }\n",
              "      quickchartButtonEl.classList.remove('colab-df-spinner');\n",
              "      quickchartButtonEl.classList.add('colab-df-quickchart-complete');\n",
              "    }\n",
              "    (() => {\n",
              "      let quickchartButtonEl =\n",
              "        document.querySelector('#df-5fdd5120-d799-489b-a5a7-cffda3e363a4 button');\n",
              "      quickchartButtonEl.style.display =\n",
              "        google.colab.kernel.accessAllowed ? 'block' : 'none';\n",
              "    })();\n",
              "  </script>\n",
              "</div>\n",
              "\n",
              "  <div id=\"id_b0af90b9-83bc-4490-aba7-dbe2f65797f9\">\n",
              "    <style>\n",
              "      .colab-df-generate {\n",
              "        background-color: #E8F0FE;\n",
              "        border: none;\n",
              "        border-radius: 50%;\n",
              "        cursor: pointer;\n",
              "        display: none;\n",
              "        fill: #1967D2;\n",
              "        height: 32px;\n",
              "        padding: 0 0 0 0;\n",
              "        width: 32px;\n",
              "      }\n",
              "\n",
              "      .colab-df-generate:hover {\n",
              "        background-color: #E2EBFA;\n",
              "        box-shadow: 0px 1px 2px rgba(60, 64, 67, 0.3), 0px 1px 3px 1px rgba(60, 64, 67, 0.15);\n",
              "        fill: #174EA6;\n",
              "      }\n",
              "\n",
              "      [theme=dark] .colab-df-generate {\n",
              "        background-color: #3B4455;\n",
              "        fill: #D2E3FC;\n",
              "      }\n",
              "\n",
              "      [theme=dark] .colab-df-generate:hover {\n",
              "        background-color: #434B5C;\n",
              "        box-shadow: 0px 1px 3px 1px rgba(0, 0, 0, 0.15);\n",
              "        filter: drop-shadow(0px 1px 2px rgba(0, 0, 0, 0.3));\n",
              "        fill: #FFFFFF;\n",
              "      }\n",
              "    </style>\n",
              "    <button class=\"colab-df-generate\" onclick=\"generateWithVariable('l_test_2')\"\n",
              "            title=\"Generate code using this dataframe.\"\n",
              "            style=\"display:none;\">\n",
              "\n",
              "  <svg xmlns=\"http://www.w3.org/2000/svg\" height=\"24px\"viewBox=\"0 0 24 24\"\n",
              "       width=\"24px\">\n",
              "    <path d=\"M7,19H8.4L18.45,9,17,7.55,7,17.6ZM5,21V16.75L18.45,3.32a2,2,0,0,1,2.83,0l1.4,1.43a1.91,1.91,0,0,1,.58,1.4,1.91,1.91,0,0,1-.58,1.4L9.25,21ZM18.45,9,17,7.55Zm-12,3A5.31,5.31,0,0,0,4.9,8.1,5.31,5.31,0,0,0,1,6.5,5.31,5.31,0,0,0,4.9,4.9,5.31,5.31,0,0,0,6.5,1,5.31,5.31,0,0,0,8.1,4.9,5.31,5.31,0,0,0,12,6.5,5.46,5.46,0,0,0,6.5,12Z\"/>\n",
              "  </svg>\n",
              "    </button>\n",
              "    <script>\n",
              "      (() => {\n",
              "      const buttonEl =\n",
              "        document.querySelector('#id_b0af90b9-83bc-4490-aba7-dbe2f65797f9 button.colab-df-generate');\n",
              "      buttonEl.style.display =\n",
              "        google.colab.kernel.accessAllowed ? 'block' : 'none';\n",
              "\n",
              "      buttonEl.onclick = () => {\n",
              "        google.colab.notebook.generateWithVariable('l_test_2');\n",
              "      }\n",
              "      })();\n",
              "    </script>\n",
              "  </div>\n",
              "\n",
              "    </div>\n",
              "  </div>\n"
            ],
            "application/vnd.google.colaboratory.intrinsic+json": {
              "type": "dataframe",
              "variable_name": "l_test_2",
              "summary": "{\n  \"name\": \"l_test_2\",\n  \"rows\": 2,\n  \"fields\": [\n    {\n      \"column\": \"index\",\n      \"properties\": {\n        \"dtype\": \"number\",\n        \"std\": 22413,\n        \"min\": 10474,\n        \"max\": 42172,\n        \"num_unique_values\": 2,\n        \"samples\": [\n          10474,\n          42172\n        ],\n        \"semantic_type\": \"\",\n        \"description\": \"\"\n      }\n    },\n    {\n      \"column\": \"Unnamed: 0\",\n      \"properties\": {\n        \"dtype\": \"number\",\n        \"std\": 22413,\n        \"min\": 10474,\n        \"max\": 42172,\n        \"num_unique_values\": 2,\n        \"samples\": [\n          10474,\n          42172\n        ],\n        \"semantic_type\": \"\",\n        \"description\": \"\"\n      }\n    },\n    {\n      \"column\": \"prompt\",\n      \"properties\": {\n        \"dtype\": \"string\",\n        \"num_unique_values\": 2,\n        \"samples\": [\n          \"The customer and watch person date of birth is 1984/10/24 and  respectively, with their date of birth similarity score as -1.0.Their names are MUHAMMAD ASIM and MUHAMMAD QASIM respectively, with  their string based name matching scores as 6.294637255876978e-09, 90.0 and sound based name matching score as 0.8846153846153846.Thus, customer and watchlist are a mis-match.\",\n          \"The customer date of birth  and watch person  year of birth is 1980/09/11['1964', '1965', '1966', '1967', '1968'] respectively,with their date of birth similarity score as 0.0.Their names are MUHAIMI BIN HARUN and SUHAIMI HARUN respectively, with  their string based name matching scores as 2.917718289197068e-09, 93.0 and sound based name matching score as 0.6333333333333333.Thus, customer and watchlist are a mis-match.\"\n        ],\n        \"semantic_type\": \"\",\n        \"description\": \"\"\n      }\n    },\n    {\n      \"column\": \"comments\",\n      \"properties\": {\n        \"dtype\": \"string\",\n        \"num_unique_values\": 2,\n        \"samples\": [\n          \"Mismatch Full Legal Name_Name Does Not Sound Similar\",\n          \"Mismatch Year of Birth (YOB)\"\n        ],\n        \"semantic_type\": \"\",\n        \"description\": \"\"\n      }\n    },\n    {\n      \"column\": \"prompt_&_comment\",\n      \"properties\": {\n        \"dtype\": \"string\",\n        \"num_unique_values\": 2,\n        \"samples\": [\n          \"The customer and watch person date of birth is 1984/10/24 and  respectively, with their date of birth similarity score as -1.0.Their names are MUHAMMAD ASIM and MUHAMMAD QASIM respectively, with  their string based name matching scores as 6.294637255876978e-09, 90.0 and sound based name matching score as 0.8846153846153846.Thus, customer and watchlist are a mis-match.Mismatch Full Legal Name_Name Does Not Sound Similar\",\n          \"The customer date of birth  and watch person  year of birth is 1980/09/11['1964', '1965', '1966', '1967', '1968'] respectively,with their date of birth similarity score as 0.0.Their names are MUHAIMI BIN HARUN and SUHAIMI HARUN respectively, with  their string based name matching scores as 2.917718289197068e-09, 93.0 and sound based name matching score as 0.6333333333333333.Thus, customer and watchlist are a mis-match.Mismatch Year of Birth (YOB)\"\n        ],\n        \"semantic_type\": \"\",\n        \"description\": \"\"\n      }\n    },\n    {\n      \"column\": \"comments_gen\",\n      \"properties\": {\n        \"dtype\": \"object\",\n        \"num_unique_values\": 1,\n        \"samples\": [\n          \"\"\n        ],\n        \"semantic_type\": \"\",\n        \"description\": \"\"\n      }\n    }\n  ]\n}"
            }
          },
          "metadata": {},
          "execution_count": 35
        }
      ]
    },
    {
      "cell_type": "code",
      "source": [
        "#Run the functions to generate the\n",
        "l_test_2[\"comments_gen\"]=\"\"\n",
        "l_test_2[\"comments_gen\"].loc[:1]=text_generation(l_test_2)"
      ],
      "metadata": {
        "colab": {
          "base_uri": "https://localhost:8080/"
        },
        "id": "xUC9wVlt02wF",
        "outputId": "cb393ca5-a3cc-4ddb-9552-a5b41a8f7129"
      },
      "execution_count": 36,
      "outputs": [
        {
          "output_type": "stream",
          "name": "stderr",
          "text": [
            "<ipython-input-36-201263e2d242>:2: SettingWithCopyWarning: \n",
            "A value is trying to be set on a copy of a slice from a DataFrame.\n",
            "Try using .loc[row_indexer,col_indexer] = value instead\n",
            "\n",
            "See the caveats in the documentation: https://pandas.pydata.org/pandas-docs/stable/user_guide/indexing.html#returning-a-view-versus-a-copy\n",
            "  l_test_2[\"comments_gen\"]=\"\"\n",
            "100%|██████████| 1/1 [00:40<00:00, 40.20s/it]\n",
            "100%|██████████| 1/1 [00:25<00:00, 25.82s/it]\n",
            "<ipython-input-36-201263e2d242>:3: SettingWithCopyWarning: \n",
            "A value is trying to be set on a copy of a slice from a DataFrame\n",
            "\n",
            "See the caveats in the documentation: https://pandas.pydata.org/pandas-docs/stable/user_guide/indexing.html#returning-a-view-versus-a-copy\n",
            "  l_test_2[\"comments_gen\"].loc[:1]=text_generation(l_test_2)\n"
          ]
        }
      ]
    },
    {
      "cell_type": "code",
      "source": [
        "l_test_2[\"comments_gen\"].loc[:1]\n",
        "# l_test[\"comments_gen\"].apply(lambda x: x.split(\"match.\",1)[1])[0]"
      ],
      "metadata": {
        "colab": {
          "base_uri": "https://localhost:8080/"
        },
        "id": "7opqiTqW06Kp",
        "outputId": "7c8195e8-db30-408b-a63e-e87e4d4adfcc"
      },
      "execution_count": 37,
      "outputs": [
        {
          "output_type": "execute_result",
          "data": {
            "text/plain": [
              "0    [The customer date of birth  and watch person  year of birth is 1980/09/11['1964', '1965', '1966', '1967', '1968'] respectively,with their date of birth similarity score as 0.0.Their names are MUHAIMI BIN HARUN and SUHAIMI HARUN respectively, with  their string based name matching scores as 2.917718289197068e-09, 93.0 and sound based name matching score as 0.6333333333333333.Thus, customer and watchlist are a mis-match.Mismatch Year of Birth (YOB)\"\\n41492,\"The customer date of birth  and watch person  year of birth is 1954/10/03['1964', '1965', '1966', '1967', '1968'] respectively,<|endoftext|>]\n",
              "1                                                                             [The customer and watch person date of birth is 1984/10/24 and  respectively, with their date of birth similarity score as -1.0.Their names are MUHAMMAD ASIM and MUHAMMAD QASIM respectively, with  their string based name matching scores as 6.294637255876978e-09, 90.0 and sound based name matching score as 0.8846153846153846.Thus, customer and watchlist are a mis-match.Mismatch Year of Birth (YOB)\"\\n4978,\"The customer date of birth  and watch person  year of birth is 1994/01/10['1954', '1955', '1956', '1957', '<|endoftext|>]\n",
              "Name: comments_gen, dtype: object"
            ]
          },
          "metadata": {},
          "execution_count": 37
        }
      ]
    },
    {
      "cell_type": "code",
      "source": [
        "l_test[\"Only_comments_gen\"]=l_test[\"comments_gen\"].apply(lambda x: x.split(\"match.\",1)[1].rstrip('<|endoftext|>'))"
      ],
      "metadata": {
        "id": "8XaXqqJ-08gM"
      },
      "execution_count": null,
      "outputs": []
    },
    {
      "cell_type": "markdown",
      "source": [
        "T5 model"
      ],
      "metadata": {
        "id": "B-t7Dlzit9SL"
      }
    },
    {
      "cell_type": "code",
      "source": [
        "from transformers import T5Tokenizer,T5ForConditionalGeneration\n"
      ],
      "metadata": {
        "id": "knZAPvXDuMG5"
      },
      "execution_count": 7,
      "outputs": []
    },
    {
      "cell_type": "code",
      "source": [
        "tokenizer=T5Tokenizer.from_pretrained(\"t5-base\")\n",
        "model_t5 = T5ForConditionalGeneration.from_pretrained(\"t5-base\")\n"
      ],
      "metadata": {
        "colab": {
          "base_uri": "https://localhost:8080/"
        },
        "id": "0rH7foufuei0",
        "outputId": "eb821ed1-eff1-48c3-8559-86f99b4d85fc"
      },
      "execution_count": 8,
      "outputs": [
        {
          "output_type": "stream",
          "name": "stderr",
          "text": [
            "/usr/local/lib/python3.10/dist-packages/huggingface_hub/utils/_token.py:89: UserWarning: \n",
            "The secret `HF_TOKEN` does not exist in your Colab secrets.\n",
            "To authenticate with the Hugging Face Hub, create a token in your settings tab (https://huggingface.co/settings/tokens), set it as secret in your Google Colab and restart your session.\n",
            "You will be able to reuse this secret in all of your notebooks.\n",
            "Please note that authentication is recommended but still optional to access public models or datasets.\n",
            "  warnings.warn(\n",
            "You are using the default legacy behaviour of the <class 'transformers.models.t5.tokenization_t5.T5Tokenizer'>. This is expected, and simply means that the `legacy` (previous) behavior will be used so nothing changes for you. If you want to use the new behaviour, set `legacy=False`. This should only be set if you understand what it means, and thoroughly read the reason why this was added as explained in https://github.com/huggingface/transformers/pull/24565\n",
            "Special tokens have been added in the vocabulary, make sure the associated word embeddings are fine-tuned or trained.\n"
          ]
        }
      ]
    },
    {
      "cell_type": "code",
      "source": [
        "training_args_t5 = TrainingArguments(\n",
        "    output_dir=\"./t5-finetuned\",\n",
        "    overwrite_output_dir=True,\n",
        "    num_train_epochs=3,\n",
        "    per_device_train_batch_size=4,\n",
        "    save_steps=10_000,\n",
        "    save_total_limit=2,\n",
        ")\n",
        "\n"
      ],
      "metadata": {
        "id": "jJYbc88Vv5Wv"
      },
      "execution_count": 9,
      "outputs": []
    },
    {
      "cell_type": "code",
      "source": [
        "trainer_t5 = Trainer(\n",
        "    model=model_t5,\n",
        "    args=training_args_t5,\n",
        "    data_collator=data_collator,\n",
        "    train_dataset=train_dataset,\n",
        ")"
      ],
      "metadata": {
        "id": "SVyyrqxQGfoO"
      },
      "execution_count": 17,
      "outputs": []
    },
    {
      "cell_type": "code",
      "source": [
        "trainer_t5.train()\n",
        "model.save_pretrained(\"./t5-finetuned\")"
      ],
      "metadata": {
        "id": "9rfRknQSwN7y",
        "colab": {
          "base_uri": "https://localhost:8080/",
          "height": 158
        },
        "outputId": "2888ae49-fc54-4e63-bb49-f4389ee5c262"
      },
      "execution_count": 1,
      "outputs": [
        {
          "output_type": "error",
          "ename": "NameError",
          "evalue": "name 'trainer_t5' is not defined",
          "traceback": [
            "\u001b[0;31m---------------------------------------------------------------------------\u001b[0m",
            "\u001b[0;31mNameError\u001b[0m                                 Traceback (most recent call last)",
            "\u001b[0;32m<ipython-input-1-509fe082dfc1>\u001b[0m in \u001b[0;36m<cell line: 1>\u001b[0;34m()\u001b[0m\n\u001b[0;32m----> 1\u001b[0;31m \u001b[0mtrainer_t5\u001b[0m\u001b[0;34m.\u001b[0m\u001b[0mtrain\u001b[0m\u001b[0;34m(\u001b[0m\u001b[0;34m)\u001b[0m\u001b[0;34m\u001b[0m\u001b[0;34m\u001b[0m\u001b[0m\n\u001b[0m\u001b[1;32m      2\u001b[0m \u001b[0mmodel\u001b[0m\u001b[0;34m.\u001b[0m\u001b[0msave_pretrained\u001b[0m\u001b[0;34m(\u001b[0m\u001b[0;34m\"./t5-finetuned\"\u001b[0m\u001b[0;34m)\u001b[0m\u001b[0;34m\u001b[0m\u001b[0;34m\u001b[0m\u001b[0m\n",
            "\u001b[0;31mNameError\u001b[0m: name 'trainer_t5' is not defined"
          ]
        }
      ]
    },
    {
      "cell_type": "code",
      "source": [
        "#Run the functions to generate the\n",
        "l_test[\"comments_gen\"]=\"\"\n",
        "l_test[\"comments_gen\"].loc[:1]=text_generation(l_test)"
      ],
      "metadata": {
        "id": "bopo0WYGcsHR"
      },
      "execution_count": null,
      "outputs": []
    },
    {
      "cell_type": "code",
      "source": [],
      "metadata": {
        "id": "J9uELjEUc367"
      },
      "execution_count": null,
      "outputs": []
    },
    {
      "cell_type": "code",
      "execution_count": null,
      "metadata": {
        "id": "083f1b82"
      },
      "outputs": [],
      "source": [
        "\n",
        "# input_text = l_test[\"prompt\"].loc[0]\n",
        "# input_ids = tokenizer.encode(input_text,max_length=900,Truncation=True ,return_tensors=\"pt\")\n",
        "\n",
        "# output = model.generate(input_ids, max_length=100, num_return_sequences=1,early_stopping=True,num_beams=5,\n",
        "#           early_stopping=True,pad_token_id=tokenizer.eos_token_id)\n",
        "\n",
        "\n",
        "# generated_text = tokenizer.decode(output[0], skip_special_tokens=True)\n",
        "# print(\"Generated text:\", generated_text)"
      ]
    },
    {
      "cell_type": "code",
      "source": [],
      "metadata": {
        "id": "6W6KnQBZak54"
      },
      "execution_count": null,
      "outputs": []
    },
    {
      "cell_type": "code",
      "source": [
        "outputs"
      ],
      "metadata": {
        "id": "GNH-Awdnaz6S"
      },
      "execution_count": null,
      "outputs": []
    }
  ]
}