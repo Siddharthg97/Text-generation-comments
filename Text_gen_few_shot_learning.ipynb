{
  "cells": [
    {
      "cell_type": "markdown",
      "metadata": {
        "id": "view-in-github",
        "colab_type": "text"
      },
      "source": [
        "<a href=\"https://colab.research.google.com/github/Siddharthg97/Text-generation-comments/blob/main/Text_gen_few_shot_learning.ipynb\" target=\"_parent\"><img src=\"https://colab.research.google.com/assets/colab-badge.svg\" alt=\"Open In Colab\"/></a>"
      ]
    },
    {
      "cell_type": "code",
      "execution_count": 1,
      "metadata": {
        "id": "j_aSa1NXkjnE"
      },
      "outputs": [],
      "source": [
        "import pandas as pd\n",
        "from transformers import GPT2LMHeadModel, GPT2Tokenizer\n",
        "import numpy as np\n",
        "import random\n",
        "import torch\n",
        "from torch.utils.data import Dataset, DataLoader\n",
        "from transformers import GPT2Tokenizer, GPT2LMHeadModel, AdamW, get_linear_schedule_with_warmup\n",
        "from tqdm import tqdm, trange\n",
        "import torch.nn.functional as F\n",
        "import csv\n",
        "import os\n",
        "import re"
      ]
    },
    {
      "cell_type": "code",
      "execution_count": 4,
      "metadata": {
        "id": "cQXS-yvvdmQL"
      },
      "outputs": [],
      "source": [
        "### GPT2"
      ]
    },
    {
      "cell_type": "markdown",
      "source": [],
      "metadata": {
        "id": "xQqQxSYJEd7X"
      }
    },
    {
      "cell_type": "code",
      "execution_count": 5,
      "metadata": {
        "id": "2RQU6YyVlFyj"
      },
      "outputs": [],
      "source": [
        "from transformers import GPT2Tokenizer, GPT2LMHeadModel\n",
        "import torch"
      ]
    },
    {
      "cell_type": "code",
      "execution_count": 6,
      "metadata": {
        "id": "TxQG4Kqvzgdu"
      },
      "outputs": [],
      "source": [
        "from transformers import GPT2Tokenizer, GPT2LMHeadModel,BertTokenizer\n",
        "import torch\n"
      ]
    },
    {
      "cell_type": "code",
      "source": [
        "We shall be going to work on text completion using decoder based model - GPT-2 , Falcon and encoder & decoder based T5 & BART"
      ],
      "metadata": {
        "id": "6GIeaElViyot"
      },
      "execution_count": null,
      "outputs": []
    },
    {
      "cell_type": "code",
      "execution_count": null,
      "metadata": {
        "id": "-7yoZ0hlnkGJ"
      },
      "outputs": [],
      "source": []
    },
    {
      "cell_type": "code",
      "execution_count": null,
      "metadata": {
        "colab": {
          "base_uri": "https://localhost:8080/"
        },
        "id": "IjVhktjznO9_",
        "outputId": "bd45765f-ecdc-4731-8f67-06458584e4a4"
      },
      "outputs": [
        {
          "data": {
            "text/plain": [
              "2528"
            ]
          },
          "execution_count": 56,
          "metadata": {},
          "output_type": "execute_result"
        }
      ],
      "source": [
        "Example 1:\n",
        "Input: Mismatch Date of Birth (DOB) is good, customer date of birth is 28/10/1971 from MDM and watchlist date of birth is 00/00/1970 from Refinitv.Mismatch ID,customer ID is 686866 from MDM and watchlist ID is 14557408 from Refinitv.Match Full Legal Name, customer name is ZAW MIN  obtained from MDM and watchlist name is ZAW MIN obtained from Refinitv .Mismatch profile/occupation is good,customer is a MANUFACTURING LABOURERS at BEYONICS PRECISION (M) SDN BHD, MANUFACTURING sector while watch person as a Director General of Prison Department of Ministry of Home Affairs. Mismatch gender. Mismatch Nationality\n",
        "Output: Mismatch Date of birth and profile/occupation.Customer date of birth is 28/10/1971 and is a MANUFACTURING LABOURERS at BEYONICS PRECISION (M) SDN BHD, while watch person  has date of birth is 00/00/1970 and is a Director General of Prison Department of Ministry of Home Affairs, appointed by the State Administration Council (SAC).\n",
        "\n",
        "Example 2:\n",
        "Input: Mismatch Date of Birth (DOB), customer date of birth is 20/08/1959 from MDM and watchlist date of birth is 00/00/1958 from Refinitv.Mismatch ID NRIC,customer NRIC is 590820016183 from\n",
        "MDM and watchlist ID is 9705 from Refinitv.Mismatch Full Legal Name is good,Word count difference as customer name is JAMAL BIN SALLEH obtained\n",
        "from MDM and watchlist name is JAMAL TAL ABDUL SALEH  MOHD SALEH obtained from Refinitv and Name not sounding similiar as, customer name is\n",
        "JAMAL BIN SALLEH obtained from MDM and watchlist name is JAMAL TAL ABDUL SALEH obtained from Refinitv.Mismatch nationality is good.Mismatch\n",
        "profile/occupation MANUFACTURING LABOURERS AT GENTING MALAYSIA BERHAD, GAMBLING/BETTING ACTIVITIES/JUNKET /CASINO/GAMING HOUSE SECTOR while watchlist is MEMBER OF\n",
        "THE BOARD OF DIRECTORS OF GUANGXI GUIGANG FINANCIAL INVESTMENT AND DEVELOPMENT GROUP CO LTD (SOE) (JAN 2021 - ).\n",
        "\n",
        "Output: Mismatch name Word count difference , Name not sounding similiar and mismatch nationality.Customer name is JAMAL BIN SALLEH and nationality\n",
        "is Indian where as watch person name is JAMAL TAL ABDUL SALEH  MOHD SALEH and nationality is African\n",
        "\n",
        "Example 3:\n",
        "Input: Mismatch Date of Birth (DOB),customer date of birth is 20/08/1981 from MDM and watchlist date of birth is 04/08/1970 from Refinitv.\n",
        "Mismatch ID passport is good,customer ID is K3995661 from MDM and watchlist ID is AIDPV3575A from Refinitv.\n",
        "Match Full Legal Name is good, customer name is SUNIL KUMAR obtained from MDM and watchlist name is SUNIL KUMAR obtained from Refinitv.Mismatch profile/occupation is good, customer is MANAGING DIRECTORS AND CHIEF EXECUTIVES AT ARAB MONETARY FUND ABU DHABI, FINANCIAL INSTITUITION SECTOR while watchperson isDIRECTOR OF COOPERATION AT THE MINISTRY OF FINANCE ALTERNATE MEMBER OF THE BOARD OF GOVERNORS OF THE ASIAN INFRASTRUCTURE DEVELOPMENT BANK (AIIB) ALTERNATE MEMBER OF THE BOARD OF GOVERNORS OF THE INTERNATIONAL BANK\n",
        "FOR RECONSTRUCTION AND DEVELOPMENT (IBRD) (DEC 2020 - ). ALTERNATE MEMBER OF THE BOARD OF GOVERNORS OF INTERNATIONAL FINANCE CORPORATION (IFC) (DEC 2020 - ). ALTERNATE MEMBER OF THE BOARD OF GOVERNORS OF THE INTERNATIONAL DEVELOPMENT ASSOCIATION (IDA) (DEC 2020 - ). ALTERNATE MEMBER OF THE BOARD OF GOVERNORS OF MULTILATERAL INVESTMENT GUARANTEE AGENCY (MIGA) (DEC 2020 - ). ALTERNATE REPRESENTATIVE OF THE ADMINISTRATIVE COUNCIL OF INTERNATIONAL CENTRE FOR SETTLEMENT OF INVESTMENT DISPUTES (ICSID) (DEC 2020 - ). MEMBER OF THE BOARD OF EXECUTIVE DIRECTORS OF ARAB MONETARY FUND (NOV 2020 - ).\n",
        "\n",
        "Output:Mismatch ID passport and occupation. customer has id K3995661 and works as MANAGING DIRECTORS AND CHIEF EXECUTIVES AT ARAB MONETARY FUND ABU DHABI, FINANCIAL INSTITUITION SECTOR while watchperson is DIRECTOR OF COOPERATION AT THE MINISTRY OF FINANCE ALTERNATE MEMBER OF THE BOARD OF GOVERNORS OF THE ASIAN INFRASTRUCTURE DEVELOPMENT BANK (AIIB) ALTERNATE MEMBER OF THE BOARD OF GOVERNORS OF THE INTERNATIONAL BANK FOR RECONSTRUCTION AND DEVELOPMENT (IBRD) (DEC 2020 - ).\n",
        "as while watchlist ID is AIDPV3575A and works as  DIRECTOR OF COOPERATION AT THE MINISTRY OF FINANCE ALTERNATE MEMBER OF THE BOARD OF GOVERNORS OF THE ASIAN INFRASTRUCTURE DEVELOPMENT BANK (AIIB)\n",
        "ALTERNATE MEMBER OF THE BOARD OF GOVERNORS OF THE INTERNATIONAL BANK FOR RECONSTRUCTION AND DEVELOPMENT (IBRD) (DEC 2020 - ). ALTERNATE MEMBER OF THE BOARD OF GOVERNORS OF INTERNATIONAL FINANCE CORPORATION (IFC) (DEC 2020 - ). ALTERNATE MEMBER OF THE BOARD OF GOVERNORS OF THE INTERNATIONAL DEVELOPMENT ASSOCIATION (IDA) (DEC 2020 - ). ALTERNATE MEMBER OF THE BOARD OF GOVERNORS OF MULTILATERAL INVESTMENT GUARANTEE AGENCY (MIGA) (DEC 2020 - ). ALTERNATE REPRESENTATIVE OF THE ADMINISTRATIVE COUNCIL OF INTERNATIONAL CENTRE FOR SETTLEMENT OF INVESTMENT DISPUTES (ICSID) (DEC 2020 - ). MEMBER OF THE BOARD OF EXECUTIVE DIRECTORS OF ARAB MONETARY FUND (NOV 2020 - ).\n",
        "\n",
        "\n",
        "\n",
        "Now, continue the following text:\n",
        "Input: Match DOB is good,customer date of birth is 25/06/1973 from MDM and watchlist date of birth is 25/06/1973 from Refinitv.Match ID NRIC,customer NRIC is 730625145117 from MDM and watchlist NRIC is 730625145117 from Refinitv.Match occupation/profile is good, customer is MANAGING DIRECTORS AND CHIEF EXECUTIVES AT ASCENSION ENGINEERING SERVICES PTE LTD, CONSTRUCTION SECTOR. while watch person is DIRECTOR OF ASCENSION ENGINEERING SERVICES PTE LTD\n",
        "Output: Match DOB and occupation.Customer date of birth 25/06/1973 and works as MANAGING DIRECTORS AND CHIEF EXECUTIVES AT ASCENSION ENGINEERING SERVICES PTE LTD while watchlist date of birth is 25/06/1973 and works as DIRECTOR OF ASCENSION ENGINEERING SERVICES PTE LTD\n",
        "\n",
        "\n",
        "\n",
        "Input:Match DOB is good ,customer date of birth is 22/02/1988 from MDM and watchlist date of birth is 22/02/1988 from Refinitv.Match ID NRIC is good,customer NRIC is 531211715069  from MDM and watchlist NRIC is 531211715069 from Refinitv .Mismatch Full Legal Name.Customer name is MUHAMAD SYAZWANUDDIN BIN SAHIMI obtained from MDM & watch-list name is SAHIMI MUHAMAD SYAZWANUDDIN BIN obtained from Refinitv.Match occupation is good, customer works as MANAGING DIRECTORS AND CHIEF EXECUTIVES AT FORTE INSURANCE (CAMBODIA) PLC, FINANCIAL AND INSURANCE/ TAKAFUL ACTIVITIES SECTOR\tMANAGING DIRECTORS AND CHIEF EXECUTIVES AT FORTE INSURANCE (CAMBODIA) PLC, FINANCIAL AND INSURANCE/ TAKAFUL ACTIVITIES SECTOR. MEMBER OF THE BOARD OF DIRECTORS OF CAMBODIAN while watch person works as MEMBER OF THE BOARD OF DIRECTORS OF CAMBODIAN REINSURANCE COMPANY (SOE) (2019 - ). GROUP CEO OF FORTE INSURANCE PLC (CAMBODIA).\n",
        "Output: Match ID Nric and date of birth.Customer dob is 22/02/1988 and nric id is NRIC is 531211715069 while watchlist date of birth is 22/02/1988 and nric is 531211715069\n",
        "\n"
      ]
    },
    {
      "cell_type": "code",
      "execution_count": 2,
      "metadata": {
        "id": "Sj5ZZ34YzhSW"
      },
      "outputs": [],
      "source": [
        "prompt = \"\"\"\n",
        "Example 1:\n",
        "Input: Mismatch Date of Birth (DOB) is good, customer date of birth is 28/10/1971 from MDM and watchlist date of birth is 00/00/1970 from Refinitv.Mismatch ID,customer ID is 686866 from MDM and watchlist ID is 14557408 from Refinitv.Match Full Legal Name, customer name is ZAW MIN  obtained from MDM and watchlist name is ZAW MIN obtained from Refinitv .Mismatch profile/occupation is good,customer is a MANUFACTURING LABOURERS at BEYONICS PRECISION (M) SDN BHD, MANUFACTURING sector while watch person as a Director General of Prison Department of Ministry of Home Affairs. Mismatch gender. Mismatch Nationality\n",
        "Output: Mismatch Date of birth and profile/occupation.Customer date of birth is 28/10/1971 and is a MANUFACTURING LABOURERS at BEYONICS PRECISION (M) SDN BHD, while watch person  has date of birth is 00/00/1970 and is a Director General of Prison Department of Ministry of Home Affairs, appointed by the State Administration Council (SAC).\n",
        "\n",
        "Example 2:\n",
        "Input: Match DOB is good,customer date of birth is 25/06/1973 from MDM and watchlist date of birth is 25/06/1973 from Refinitv.Match ID NRIC,customer NRIC is 730625145117 from MDM and watchlist NRIC is 730625145117 from Refinitv.Match occupation/profile is good, customer is MANAGING DIRECTORS AND CHIEF EXECUTIVES AT ASCENSION ENGINEERING SERVICES PTE LTD, CONSTRUCTION SECTOR. while watch person is DIRECTOR OF ASCENSION ENGINEERING SERVICES PTE LTD\n",
        "Output: Match DOB and occupation.Customer date of birth 25/06/1973 and works as MANAGING DIRECTORS AND CHIEF EXECUTIVES AT ASCENSION ENGINEERING SERVICES PTE LTD while watchlist date of birth is 25/06/1973 and works as DIRECTOR OF ASCENSION ENGINEERING SERVICES PTE LTD\n",
        "\n",
        "\n",
        "Example 3:\n",
        "Input: Match DOB is good,customer date of birth is 25/06/1973 from MDM and watchlist date of birth is25/06/1973 from Refinitv.Match ID NRIC,customer NRIC is 730625145117 from MDM and watchlist NRIC is 730625145117 from Refinitv.Match occupation/profile is good, customer is MANAGING DIRECTORS AND CHIEF EXECUTIVES AT ASCENSION ENGINEERING SERVICES PTE LTD, CONSTRUCTION SECTOR. while watch person is DIRECTOR OF ASCENSION ENGINEERING SERVICES PTE LTD\n",
        "Output: Match DOB and occupation.Customer date of birth 25/06/1973 and works as MANAGING DIRECTORS AND CHIEF EXECUTIVES AT ASCENSION ENGINEERING SERVICES PTE LTD while watchlist date of birth is 25/06/1973 and works as DIRECTOR OF ASCENSION ENGINEERING SERVICES PTE LTD\n",
        "\n",
        "\n",
        "Input:Mismatch DOB is good ,customer date of birth is 22/02/1988 from MDM and watchlist date of birth is 22/06/1988 from Refinitv.Mismatch ID NRIC is good,customer NRIC is 531211715069  from MDM and watchlist NRIC is 531211715068 from Refinitv .Mismatch Full Legal Name.Customer name is MUHAMAD SYAZWANUDDIN BIN SAHIMI obtained from MDM & watch-list name is SAHIMI MUHAMAD SYAZWANUDDIN BIN obtained from Refinitv.\n",
        "Output:\n",
        "\"\"\""
      ]
    },
    {
      "cell_type": "code",
      "execution_count": 8,
      "metadata": {
        "id": "zMaRkya_zvCv",
        "colab": {
          "base_uri": "https://localhost:8080/",
          "height": 400,
          "referenced_widgets": [
            "59407651506840a5959e704be7dde7d9",
            "425959cb11de46089769f26defd9f8a3",
            "48c33031c6b7412dad6985921dc0c27d",
            "fb8af39bd33c47f59cd69e117084c513",
            "542642b1440e40929b5a99fab25d68b0",
            "21894b68e0434a5bb8835d4e92147a20",
            "4bf1fe0856d648f2881d3e169d8ed315",
            "6dbad1dcfbd0409b9779139abd4584d0",
            "b5a84d9ab4f64c2a9c99f81a4f976017",
            "0f5ba641a03d4ef9bd3c98e40f4ba9e4",
            "2250e7aa43b74b13bc0a61dca1f4215f",
            "69abdb20922747548c8faaac9a91eb41",
            "e6683bea79f7485e937086f35009e328",
            "14abe2c3b4b945df81510370364b21d8",
            "8604925ec9a9472b832200d6bbd076af",
            "e525121e48ac481fb55d5fdfd20a2c64",
            "19dac87937514ceb830f83c37e253104",
            "cbc23f1b4f6a4631b45e4c0d241fce11",
            "5257debcf47f45d1b80db606f6e4c9c2",
            "269d7daf76474cb9a2da88d3172df89d",
            "500bd9d2c3e3482e91011cc2f25d1538",
            "b8a5a9be2842442684848d6c308bcada",
            "10d1a17f4d8d45528b91f083a8b0cd7e",
            "90963e1993f94c60b824cb330571db25",
            "a2c0141f55984ba090eb5675e26f1dc2",
            "60a4d3f2edc040b0bb95ce2cf995b2d4",
            "c7baa49556184eb9892efc16d2802878",
            "c0c5bbe45d6349eb9f4b51cc161fab7b",
            "f64d88aad9e1489b86eb825ddb4b77a9",
            "3bc2761f534043629dd426e5c4bfa51c",
            "c57075a4b7724151aa2c860d0546e804",
            "1d0719a6e1014b25abb4b3aeb8c232d7",
            "f62ea651993f44cfa21d52d707b5050b",
            "86ff40c41ed242a6ace81d90e933d158",
            "7a9a97f72c00426e89f97b51b3472a63",
            "e9623c3d90714a2680577010d2bb1592",
            "190699dc84b84bf3927a4a642df70707",
            "d67a0f7b28fa4fbe84acf845114f2ffa",
            "90d7978ad0e0425dbee250b2e351371b",
            "e530961b87de44d79aa4a06c52e27d79",
            "bcbabf96b08f49ab982792f55d2dcf41",
            "5787709f9a4e4947a31af377e653a20a",
            "082b3e1fb47f42ba9ce5ccb1e528629e",
            "658c45cdb9784ed684f054008d3dce07",
            "f10fef14054a43fabbc6f773dd3d79e9",
            "379116831d274703b13e2a721e8277e3",
            "7574336e4ea843f98a2c4fd2128c33b7",
            "346f12bc74ed43abb68a602d6fe8a88a",
            "c1dbb6abcc524cd698361b1f3a64a6f1",
            "89de0db6ce7b44b7bc1222b3544c2e1d",
            "7fd3ceb4b44c447abc50423c05c02a43",
            "9d83372dbc064e71b273d38339aa691c",
            "6f5cc1b98369428393bbfedeab8c7764",
            "c79ab95efec042ad86d718666ef2f30c",
            "6523f669854340eb977148790822b14f",
            "ecb15b1b8c41452a8aee4f83149af27e",
            "b1f4dba5789d4d0bb2708624c78afcb9",
            "6ce6db15d9064cf6b4bc821c2b2ba2ae",
            "1882dec585c8421694c1d9d6d804d87b",
            "0e71dbe06e43400da3af4b15ae0aea79",
            "9b65d0082a8946e2ba5ff8f8aff37e6c",
            "d73f51869803449ab82312cdc3b75c76",
            "6cfa8d3782644db2adac47414d0cf61a",
            "f83d2eb0bbd9436280a64db5a738afa6",
            "ead67d5089d84d71b435b95c8ef864eb",
            "f6f8257457944552a8d071e3a284eae0",
            "a3cae479df8b4caeaf24ccfa40de3e87",
            "a4973ee4e195471f8675b2254ab5f78c",
            "4234b4a05b1d433a939ea374123cde33",
            "0860912ab15a4e588517411037410639",
            "0a8deaac3d714211846a2086f1099db6",
            "020ff90ff4a644a09f89913494f5cbeb",
            "19ef0fa46aa24331858819c8aec9622d",
            "615f9adcb65a4286a6873550056539d8",
            "ec5957c65bc44d9d9f46c82a16ac6758",
            "e4b9a0ecdaaa496dab1e7d84d1853703",
            "b80a485a54a4424a89f182dc2f9ea085"
          ]
        },
        "outputId": "77709bae-d1c1-4531-ea2e-4a4a960fc927"
      },
      "outputs": [
        {
          "output_type": "stream",
          "name": "stderr",
          "text": [
            "/usr/local/lib/python3.10/dist-packages/huggingface_hub/utils/_token.py:89: UserWarning: \n",
            "The secret `HF_TOKEN` does not exist in your Colab secrets.\n",
            "To authenticate with the Hugging Face Hub, create a token in your settings tab (https://huggingface.co/settings/tokens), set it as secret in your Google Colab and restart your session.\n",
            "You will be able to reuse this secret in all of your notebooks.\n",
            "Please note that authentication is recommended but still optional to access public models or datasets.\n",
            "  warnings.warn(\n"
          ]
        },
        {
          "output_type": "display_data",
          "data": {
            "text/plain": [
              "tokenizer_config.json:   0%|          | 0.00/26.0 [00:00<?, ?B/s]"
            ],
            "application/vnd.jupyter.widget-view+json": {
              "version_major": 2,
              "version_minor": 0,
              "model_id": "59407651506840a5959e704be7dde7d9"
            }
          },
          "metadata": {}
        },
        {
          "output_type": "display_data",
          "data": {
            "text/plain": [
              "vocab.json:   0%|          | 0.00/1.04M [00:00<?, ?B/s]"
            ],
            "application/vnd.jupyter.widget-view+json": {
              "version_major": 2,
              "version_minor": 0,
              "model_id": "69abdb20922747548c8faaac9a91eb41"
            }
          },
          "metadata": {}
        },
        {
          "output_type": "display_data",
          "data": {
            "text/plain": [
              "merges.txt:   0%|          | 0.00/456k [00:00<?, ?B/s]"
            ],
            "application/vnd.jupyter.widget-view+json": {
              "version_major": 2,
              "version_minor": 0,
              "model_id": "10d1a17f4d8d45528b91f083a8b0cd7e"
            }
          },
          "metadata": {}
        },
        {
          "output_type": "display_data",
          "data": {
            "text/plain": [
              "tokenizer.json:   0%|          | 0.00/1.36M [00:00<?, ?B/s]"
            ],
            "application/vnd.jupyter.widget-view+json": {
              "version_major": 2,
              "version_minor": 0,
              "model_id": "86ff40c41ed242a6ace81d90e933d158"
            }
          },
          "metadata": {}
        },
        {
          "output_type": "stream",
          "name": "stderr",
          "text": [
            "/usr/local/lib/python3.10/dist-packages/huggingface_hub/file_download.py:1132: FutureWarning: `resume_download` is deprecated and will be removed in version 1.0.0. Downloads always resume when possible. If you want to force a new download, use `force_download=True`.\n",
            "  warnings.warn(\n"
          ]
        },
        {
          "output_type": "display_data",
          "data": {
            "text/plain": [
              "config.json:   0%|          | 0.00/665 [00:00<?, ?B/s]"
            ],
            "application/vnd.jupyter.widget-view+json": {
              "version_major": 2,
              "version_minor": 0,
              "model_id": "f10fef14054a43fabbc6f773dd3d79e9"
            }
          },
          "metadata": {}
        },
        {
          "output_type": "display_data",
          "data": {
            "text/plain": [
              "model.safetensors:   0%|          | 0.00/548M [00:00<?, ?B/s]"
            ],
            "application/vnd.jupyter.widget-view+json": {
              "version_major": 2,
              "version_minor": 0,
              "model_id": "ecb15b1b8c41452a8aee4f83149af27e"
            }
          },
          "metadata": {}
        },
        {
          "output_type": "display_data",
          "data": {
            "text/plain": [
              "generation_config.json:   0%|          | 0.00/124 [00:00<?, ?B/s]"
            ],
            "application/vnd.jupyter.widget-view+json": {
              "version_major": 2,
              "version_minor": 0,
              "model_id": "a3cae479df8b4caeaf24ccfa40de3e87"
            }
          },
          "metadata": {}
        }
      ],
      "source": [
        "model_name = 'gpt2'  # You can also use 'gpt2-medium', 'gpt2-large', or 'gpt2-xl'\n",
        "tokenizer = GPT2Tokenizer.from_pretrained(model_name)\n",
        "# tokenizer=BertTokenizer.from_pretrained(\"bert-base-uncased\")\n",
        "model = GPT2LMHeadModel.from_pretrained(model_name)\n",
        "# model.eval()"
      ]
    },
    {
      "cell_type": "code",
      "execution_count": 9,
      "metadata": {
        "colab": {
          "base_uri": "https://localhost:8080/"
        },
        "id": "rTwvdSroK6_Z",
        "outputId": "9542f266-a802-4d99-af3d-609e438e0eeb"
      },
      "outputs": [
        {
          "output_type": "stream",
          "name": "stderr",
          "text": [
            "Truncation was not explicitly activated but `max_length` is provided a specific value, please use `truncation=True` to explicitly truncate examples to max length. Defaulting to 'longest_first' truncation strategy. If you encode pairs of sequences (GLUE-style) with the tokenizer you can select this strategy more precisely by providing a specific strategy to `truncation`.\n"
          ]
        }
      ],
      "source": [
        "# Encode the prompt\n",
        "inputs = tokenizer(prompt, max_length=900,return_tensors='pt')"
      ]
    },
    {
      "cell_type": "code",
      "execution_count": 10,
      "metadata": {
        "colab": {
          "base_uri": "https://localhost:8080/"
        },
        "id": "WmB34EC1u_2w",
        "outputId": "454a45ee-9603-4d60-9693-21b8519f369a"
      },
      "outputs": [
        {
          "output_type": "stream",
          "name": "stdout",
          "text": [
            "['Ċ', 'Example', 'Ġ1', ':', 'Ċ', 'Input', ':', 'ĠM', 'ism', 'atch', 'ĠDate', 'Ġof', 'ĠBirth', 'Ġ(', 'D', 'OB', ')', 'Ġis', 'Ġgood', ',', 'Ġcustomer', 'Ġdate', 'Ġof', 'Ġbirth', 'Ġis', 'Ġ28', '/', '10', '/', '1971', 'Ġfrom', 'ĠMD', 'M', 'Ġand', 'Ġwatch', 'list', 'Ġdate', 'Ġof', 'Ġbirth', 'Ġis', 'Ġ00', '/', '00', '/', '1970', 'Ġfrom', 'ĠRef', 'init', 'v', '.', 'M', 'ism', 'atch', 'ĠID', ',', 'custom', 'er', 'ĠID', 'Ġis', 'Ġ68', '68', '66', 'Ġfrom', 'ĠMD', 'M', 'Ġand', 'Ġwatch', 'list', 'ĠID', 'Ġis', 'Ġ14', '557', '408', 'Ġfrom', 'ĠRef', 'init', 'v', '.', 'Match', 'ĠFull', 'ĠLegal', 'ĠName', ',', 'Ġcustomer', 'Ġname', 'Ġis', 'ĠZ', 'AW', 'ĠMIN', 'Ġ', 'Ġobtained', 'Ġfrom', 'ĠMD', 'M', 'Ġand', 'Ġwatch', 'list', 'Ġname', 'Ġis', 'ĠZ', 'AW', 'ĠMIN', 'Ġobtained', 'Ġfrom', 'ĠRef', 'init', 'v', 'Ġ.', 'M', 'ism', 'atch', 'Ġprofile', '/', 'occup', 'ation', 'Ġis', 'Ġgood', ',', 'custom', 'er', 'Ġis', 'Ġa', 'ĠMAN', 'UF', 'ACT', 'UR', 'ING', 'ĠL', 'AB', 'OUR', 'ERS', 'Ġat', 'ĠBE', 'Y', 'ON', 'ICS', 'ĠPRE', 'C', 'ISION', 'Ġ(', 'M', ')', 'ĠSD', 'N', 'ĠB', 'HD', ',', 'ĠMAN', 'UF', 'ACT', 'UR', 'ING', 'Ġsector', 'Ġwhile', 'Ġwatch', 'Ġperson', 'Ġas', 'Ġa', 'ĠDirector', 'ĠGeneral', 'Ġof', 'ĠPrison', 'ĠDepartment', 'Ġof', 'ĠMinistry', 'Ġof', 'ĠHome', 'ĠAffairs', '.', 'ĠM', 'ism', 'atch', 'Ġgender', '.', 'ĠM', 'ism', 'atch', 'ĠNational', 'ity', 'Ċ', 'Output', ':', 'ĠM', 'ism', 'atch', 'ĠDate', 'Ġof', 'Ġbirth', 'Ġand', 'Ġprofile', '/', 'occup', 'ation', '.', 'Customer', 'Ġdate', 'Ġof', 'Ġbirth', 'Ġis', 'Ġ28', '/', '10', '/', '1971', 'Ġand', 'Ġis', 'Ġa', 'ĠMAN', 'UF', 'ACT', 'UR', 'ING', 'ĠL', 'AB', 'OUR', 'ERS', 'Ġat', 'ĠBE', 'Y', 'ON', 'ICS', 'ĠPRE', 'C', 'ISION', 'Ġ(', 'M', ')', 'ĠSD', 'N', 'ĠB', 'HD', ',', 'Ġwhile', 'Ġwatch', 'Ġperson', 'Ġ', 'Ġhas', 'Ġdate', 'Ġof', 'Ġbirth', 'Ġis', 'Ġ00', '/', '00', '/', '1970', 'Ġand', 'Ġis', 'Ġa', 'ĠDirector', 'ĠGeneral', 'Ġof', 'ĠPrison', 'ĠDepartment', 'Ġof', 'ĠMinistry', 'Ġof', 'ĠHome', 'ĠAffairs', ',', 'Ġappointed', 'Ġby', 'Ġthe', 'ĠState', 'ĠAdministration', 'ĠCouncil', 'Ġ(', 'S', 'AC', ').', 'Ċ', 'Ċ', 'Example', 'Ġ2', ':', 'Ċ', 'Input', ':', 'ĠMatch', 'ĠDO', 'B', 'Ġis', 'Ġgood', ',', 'custom', 'er', 'Ġdate', 'Ġof', 'Ġbirth', 'Ġis', 'Ġ25', '/', '06', '/', '1973', 'Ġfrom', 'ĠMD', 'M', 'Ġand', 'Ġwatch', 'list', 'Ġdate', 'Ġof', 'Ġbirth', 'Ġis', 'Ġ25', '/', '06', '/', '1973', 'Ġfrom', 'ĠRef', 'init', 'v', '.', 'Match', 'ĠID', 'ĠNR', 'IC', ',', 'custom', 'er', 'ĠNR', 'IC', 'Ġis', 'Ġ7', '306', '25', '145', '117', 'Ġfrom', 'ĠMD', 'M', 'Ġand', 'Ġwatch', 'list', 'ĠNR', 'IC', 'Ġis', 'Ġ7', '306', '25', '145', '117', 'Ġfrom', 'ĠRef', 'init', 'v', '.', 'Match', 'Ġoccupation', '/', 'profile', 'Ġis', 'Ġgood', ',', 'Ġcustomer', 'Ġis', 'ĠMAN', 'AG', 'ING', 'ĠDIRECT', 'ORS', 'ĠAND', 'ĠCH', 'IE', 'F', 'ĠEX', 'EC', 'UT', 'IVES', 'ĠAT', 'ĠASC', 'ENS', 'ION', 'ĠENG', 'INE', 'ER', 'ING', 'ĠSERVICES', 'ĠP', 'TE', 'ĠLTD', ',', 'ĠCON', 'STRUCT', 'ION', 'ĠS', 'ECT', 'OR', '.', 'Ġwhile', 'Ġwatch', 'Ġperson', 'Ġis', 'ĠDIRECT', 'OR', 'ĠOF', 'ĠASC', 'ENS', 'ION', 'ĠENG', 'INE', 'ER', 'ING', 'ĠSERVICES', 'ĠP', 'TE', 'ĠLTD', 'Ċ', 'Output', ':', 'ĠMatch', 'ĠDO', 'B', 'Ġand', 'Ġoccupation', '.', 'Customer', 'Ġdate', 'Ġof', 'Ġbirth', 'Ġ25', '/', '06', '/', '1973', 'Ġand', 'Ġworks', 'Ġas', 'ĠMAN', 'AG', 'ING', 'ĠDIRECT', 'ORS', 'ĠAND', 'ĠCH', 'IE', 'F', 'ĠEX', 'EC', 'UT', 'IVES', 'ĠAT', 'ĠASC', 'ENS', 'ION', 'ĠENG', 'INE', 'ER', 'ING', 'ĠSERVICES', 'ĠP', 'TE', 'ĠLTD', 'Ġwhile', 'Ġwatch', 'list', 'Ġdate', 'Ġof', 'Ġbirth', 'Ġis', 'Ġ25', '/', '06', '/', '1973', 'Ġand', 'Ġworks', 'Ġas', 'ĠDIRECT', 'OR', 'ĠOF', 'ĠASC', 'ENS', 'ION', 'ĠENG', 'INE', 'ER', 'ING', 'ĠSERVICES', 'ĠP', 'TE', 'ĠLTD', 'ĊĊ', 'Ċ', 'Example', 'Ġ3', ':', 'Ċ', 'Input', ':', 'ĠMatch', 'ĠDO', 'B', 'Ġis', 'Ġgood', ',', 'custom', 'er', 'Ġdate', 'Ġof', 'Ġbirth', 'Ġis', 'Ġ25', '/', '06', '/', '1973', 'Ġfrom', 'ĠMD', 'M', 'Ġand', 'Ġwatch', 'list', 'Ġdate', 'Ġof', 'Ġbirth', 'Ġis', '25', '/', '06', '/', '1973', 'Ġfrom', 'ĠRef', 'init', 'v', '.', 'Match', 'ĠID', 'ĠNR', 'IC', ',', 'custom', 'er', 'ĠNR', 'IC', 'Ġis', 'Ġ7', '306', '25', '145', '117', 'Ġfrom', 'ĠMD', 'M', 'Ġand', 'Ġwatch', 'list', 'ĠNR', 'IC', 'Ġis', 'Ġ7', '306', '25', '145', '117', 'Ġfrom', 'ĠRef', 'init', 'v', '.', 'Match', 'Ġoccupation', '/', 'profile', 'Ġis', 'Ġgood', ',', 'Ġcustomer', 'Ġis', 'ĠMAN', 'AG', 'ING', 'ĠDIRECT', 'ORS', 'ĠAND', 'ĠCH', 'IE', 'F', 'ĠEX', 'EC', 'UT', 'IVES', 'ĠAT', 'ĠASC', 'ENS', 'ION', 'ĠENG', 'INE', 'ER', 'ING', 'ĠSERVICES', 'ĠP', 'TE', 'ĠLTD', ',', 'ĠCON', 'STRUCT', 'ION', 'ĠS', 'ECT', 'OR', '.', 'Ġwhile', 'Ġwatch', 'Ġperson', 'Ġis', 'ĠDIRECT', 'OR', 'ĠOF', 'ĠASC', 'ENS', 'ION', 'ĠENG', 'INE', 'ER', 'ING', 'ĠSERVICES', 'ĠP', 'TE', 'ĠLTD', 'Ċ', 'Output', ':', 'ĠMatch', 'ĠDO', 'B', 'Ġand', 'Ġoccupation', '.', 'Customer', 'Ġdate', 'Ġof', 'Ġbirth', 'Ġ25', '/', '06', '/', '1973', 'Ġand', 'Ġworks', 'Ġas', 'ĠMAN', 'AG', 'ING', 'ĠDIRECT', 'ORS', 'ĠAND', 'ĠCH', 'IE', 'F', 'ĠEX', 'EC', 'UT', 'IVES', 'ĠAT', 'ĠASC', 'ENS', 'ION', 'ĠENG', 'INE', 'ER', 'ING', 'ĠSERVICES', 'ĠP', 'TE', 'ĠLTD', 'Ġwhile', 'Ġwatch', 'list', 'Ġdate', 'Ġof', 'Ġbirth', 'Ġis', 'Ġ25', '/', '06', '/', '1973', 'Ġand', 'Ġworks', 'Ġas', 'ĠDIRECT', 'OR', 'ĠOF', 'ĠASC', 'ENS', 'ION', 'ĠENG', 'INE', 'ER', 'ING', 'ĠSERVICES', 'ĠP', 'TE', 'ĠLTD', 'ĊĊ', 'Ċ', 'Input', ':', 'M', 'ism', 'atch', 'ĠDO', 'B', 'Ġis', 'Ġgood', 'Ġ,', 'custom', 'er', 'Ġdate', 'Ġof', 'Ġbirth', 'Ġis', 'Ġ22', '/', '02', '/', '1988', 'Ġfrom', 'ĠMD', 'M', 'Ġand', 'Ġwatch', 'list', 'Ġdate', 'Ġof', 'Ġbirth', 'Ġis', 'Ġ22', '/', '06', '/', '1988', 'Ġfrom', 'ĠRef', 'init', 'v', '.', 'M', 'ism', 'atch', 'ĠID', 'ĠNR', 'IC', 'Ġis', 'Ġgood', ',', 'custom', 'er', 'ĠNR', 'IC', 'Ġis', 'Ġ53', '12', '11', '71', '50', '69', 'Ġ', 'Ġfrom', 'ĠMD', 'M', 'Ġand', 'Ġwatch', 'list', 'ĠNR', 'IC', 'Ġis', 'Ġ53', '12', '11', '71', '50', '68', 'Ġfrom', 'ĠRef', 'init', 'v', 'Ġ.', 'M', 'ism', 'atch', 'ĠFull', 'ĠLegal', 'ĠName', '.', 'Customer', 'Ġname', 'Ġis', 'ĠMU', 'HAM', 'AD', 'ĠSY', 'AZ', 'W', 'AN', 'UD', 'D', 'IN', 'ĠB', 'IN', 'ĠSA', 'H', 'IM', 'I', 'Ġobtained', 'Ġfrom', 'ĠMD', 'M', 'Ġ&', 'Ġwatch', '-', 'list', 'Ġname', 'Ġis', 'ĠSA', 'H', 'IM', 'I', 'ĠMU', 'HAM', 'AD', 'ĠSY', 'AZ', 'W', 'AN', 'UD', 'D', 'IN', 'ĠB', 'IN', 'Ġobtained', 'Ġfrom', 'ĠRef', 'init', 'v', '.', 'Ċ', 'Output', ':', 'Ċ']\n"
          ]
        }
      ],
      "source": [
        "print(tokenizer.convert_ids_to_tokens(inputs.input_ids[0]))"
      ]
    },
    {
      "cell_type": "code",
      "execution_count": 12,
      "metadata": {
        "colab": {
          "base_uri": "https://localhost:8080/"
        },
        "id": "fFlbSXUFcGRh",
        "outputId": "0dc3eec2-9cc5-4ad3-a329-455dcf893fbc"
      },
      "outputs": [
        {
          "output_type": "stream",
          "name": "stderr",
          "text": [
            "/usr/local/lib/python3.10/dist-packages/transformers/generation/configuration_utils.py:515: UserWarning: `do_sample` is set to `False`. However, `temperature` is set to `0.2` -- this flag is only used in sample-based generation modes. You should set `do_sample=True` or unset `temperature`.\n",
            "  warnings.warn(\n"
          ]
        }
      ],
      "source": [
        "# outputs = model.generate(\n",
        "#         inputs.input_ids,\n",
        "#         max_length=150,  # Maximum length of the generated text\n",
        "#         num_beams=5,     # Beam search for better quality\n",
        "#         no_repeat_ngram_size=2,  # Prevent repetition\n",
        "#         early_stopping=True,\n",
        "#         pad_token_id=tokenizer.eos_token_id\n",
        "#     )\n",
        "with torch.no_grad():\n",
        "     outputs = model.generate(\n",
        "        inputs.input_ids,\n",
        "        max_new_tokens=100,  # Maximum number of new tokens to generate\n",
        "        num_beams=5,        # Beam search for better quality\n",
        "        no_repeat_ngram_size=2,  # Prevent repetition\n",
        "        early_stopping=True,\n",
        "        temperature= 0.2,\n",
        "        pad_token_id=tokenizer.eos_token_id\n",
        "    )"
      ]
    },
    {
      "cell_type": "code",
      "execution_count": 13,
      "metadata": {
        "id": "Yimr_h6kmS7i"
      },
      "outputs": [],
      "source": [
        "# outputs[0]"
      ]
    },
    {
      "cell_type": "code",
      "execution_count": 16,
      "metadata": {
        "id": "mjfA9SNsmNDu"
      },
      "outputs": [],
      "source": [
        "generated_text = tokenizer.decode(outputs[0], skip_special_tokens=True)\n"
      ]
    },
    {
      "cell_type": "code",
      "execution_count": 17,
      "metadata": {
        "colab": {
          "base_uri": "https://localhost:8080/",
          "height": 399
        },
        "id": "kMAlhXL6kyUf",
        "outputId": "fed6a80c-c5b7-4309-9d82-ccaaf7fce757"
      },
      "outputs": [
        {
          "output_type": "execute_result",
          "data": {
            "text/plain": [
              "'\\nExample 1:\\nInput: Mismatch Date of Birth (DOB) is good, customer date of birth is 28/10/1971 from MDM and watchlist date of birth is 00/00/1970 from Refinitv.Mismatch ID,customer ID is 686866 from MDM and watchlist ID is 14557408 from Refinitv.Match Full Legal Name, customer name is ZAW MIN  obtained from MDM and watchlist name is ZAW MIN obtained from Refinitv.Mismatch profile/occupation is good,customer is a MANUFACTURING LABOURERS at BEYONICS PRECISION (M) SDN BHD, MANUFACTURING sector while watch person as a Director General of Prison Department of Ministry of Home Affairs. Mismatch gender. Mismatch Nationality\\nOutput: Mismatch Date of birth and profile/occupation.Customer date of birth is 28/10/1971 and is a MANUFACTURING LABOURERS at BEYONICS PRECISION (M) SDN BHD, while watch person  has date of birth is 00/00/1970 and is a Director General of Prison Department of Ministry of Home Affairs, appointed by the State Administration Council (SAC).\\n\\nExample 2:\\nInput: Match DOB is good,customer date of birth is 25/06/1973 from MDM and watchlist date of birth is 25/06/1973 from Refinitv.Match ID NRIC,customer NRIC is 730625145117 from MDM and watchlist NRIC is 730625145117 from Refinitv.Match occupation/profile is good, customer is MANAGING DIRECTORS AND CHIEF EXECUTIVES AT ASCENSION ENGINEERING SERVICES PTE LTD, CONSTRUCTION SECTOR. while watch person is DIRECTOR OF ASCENSION ENGINEERING SERVICES PTE LTD\\nOutput: Match DOB and occupation.Customer date of birth 25/06/1973 and works as MANAGING DIRECTORS AND CHIEF EXECUTIVES AT ASCENSION ENGINEERING SERVICES PTE LTD while watchlist date of birth is 25/06/1973 and works as DIRECTOR OF ASCENSION ENGINEERING SERVICES PTE LTD\\n\\n\\nExample 3:\\nInput: Match DOB is good,customer date of birth is 25/06/1973 from MDM and watchlist date of birth is25/06/1973 from Refinitv.Match ID NRIC,customer NRIC is 730625145117 from MDM and watchlist NRIC is 730625145117 from Refinitv.Match occupation/profile is good, customer is MANAGING DIRECTORS AND CHIEF EXECUTIVES AT ASCENSION ENGINEERING SERVICES PTE LTD, CONSTRUCTION SECTOR. while watch person is DIRECTOR OF ASCENSION ENGINEERING SERVICES PTE LTD\\nOutput: Match DOB and occupation.Customer date of birth 25/06/1973 and works as MANAGING DIRECTORS AND CHIEF EXECUTIVES AT ASCENSION ENGINEERING SERVICES PTE LTD while watchlist date of birth is 25/06/1973 and works as DIRECTOR OF ASCENSION ENGINEERING SERVICES PTE LTD\\n\\n\\nInput:Mismatch DOB is good,customer date of birth is 22/02/1988 from MDM and watchlist date of birth is 22/06/1988 from Refinitv.Mismatch ID NRIC is good,customer NRIC is 531211715069  from MDM and watchlist NRIC is 531211715068 from Refinitv.Mismatch Full Legal Name.Customer name is MUHAMAD SYAZWANUDDIN BIN SAHIMI obtained from MDM & watch-list name is SAHIMI MUHAMAD SYAZWANUDDIN BIN obtained from Refinitv.\\nOutput:\\n,Customer Name is Muhamad Syazwanuddin Bin SAhimi. Customer name  is MOHAMAD SADDHURANADINBINBAI. customer-name is MAHMUD DIBANDAI, Customer-Name is BISHOP KARACHI (BJP). Customer Name \\xa0is MURAT MAHUNAI BJP,Customer Name\\xa0 is SUDDHARANADA BENGAL.'"
            ],
            "application/vnd.google.colaboratory.intrinsic+json": {
              "type": "string"
            }
          },
          "metadata": {},
          "execution_count": 17
        }
      ],
      "source": [
        "generated_text"
      ]
    },
    {
      "cell_type": "code",
      "execution_count": null,
      "metadata": {
        "id": "sxD7ep7FUaEe"
      },
      "outputs": [],
      "source": [
        "# Input:Mismatch DOB is good ,customer date of birth is 22/02/1988 from MDM and watchlist date of birth is 22/06/1988 from Refinitv.Mismatch ID NRIC is good,customer NRIC is 531211715069  from MDM and watchlist NRIC is 531211715068 from Refinitv .Mismatch Full Legal Name.Customer name is MUHAMAD SYAZWANUDDIN BIN SAHIMI obtained from MDM & watch-list name is SAHIMI MUHAMAD SYAZWANUDDIN BIN obtained from Refinitv.\n"
      ]
    },
    {
      "cell_type": "code",
      "source": [
        "#Falcon - cannot load model in notebook"
      ],
      "metadata": {
        "id": "qA2gfY5CkIDc"
      },
      "execution_count": 19,
      "outputs": []
    },
    {
      "cell_type": "code",
      "source": [
        "from transformers import AutoTokenizer, AutoModelForCausalLM\n",
        "\n",
        "# Load the Falcon model and tokenizer\n",
        "model_name = 'falcon-model-name'  # Replace with the actual model name\n",
        "tokenizer = AutoTokenizer.from_pretrained(\"tiiuae/falcon-7b\")\n",
        "model = AutoModelForCausalLM.from_pretrained(\"tiiuae/falcon-7b\")"
      ],
      "metadata": {
        "colab": {
          "base_uri": "https://localhost:8080/",
          "height": 173,
          "referenced_widgets": [
            "68798bbe46c341b49e111d9f738c4cac",
            "00447585f0994085a0aa0d4280abf74f",
            "9de56db2908f4b83b4bab5db4c473c8d",
            "04b404ce39c04143a5ba1f12c0ab8ea6",
            "32bab267cb86405a9cffc4119009830a",
            "f5aa5a471ed6452c829a4bfbc09bd55b",
            "11eca82535d44e3683673b11982951c5",
            "b8210c4583c1424b8c91dbfb927b1422",
            "ac33abcba1c54e3092e417c42a2fe052",
            "e7158cb4f8634cadb69825ba5b3cbc28",
            "89488fc7d5c14d1697a269a1e1038048"
          ]
        },
        "id": "WaI02Sr8kJgP",
        "outputId": "5b6d3ad3-0933-47ef-b2d9-3ce47bb262db"
      },
      "execution_count": null,
      "outputs": [
        {
          "output_type": "stream",
          "name": "stderr",
          "text": [
            "/usr/local/lib/python3.10/dist-packages/huggingface_hub/utils/_token.py:89: UserWarning: \n",
            "The secret `HF_TOKEN` does not exist in your Colab secrets.\n",
            "To authenticate with the Hugging Face Hub, create a token in your settings tab (https://huggingface.co/settings/tokens), set it as secret in your Google Colab and restart your session.\n",
            "You will be able to reuse this secret in all of your notebooks.\n",
            "Please note that authentication is recommended but still optional to access public models or datasets.\n",
            "  warnings.warn(\n"
          ]
        },
        {
          "output_type": "display_data",
          "data": {
            "text/plain": [
              "Loading checkpoint shards:   0%|          | 0/2 [00:00<?, ?it/s]"
            ],
            "application/vnd.jupyter.widget-view+json": {
              "version_major": 2,
              "version_minor": 0,
              "model_id": "68798bbe46c341b49e111d9f738c4cac"
            }
          },
          "metadata": {}
        }
      ]
    },
    {
      "cell_type": "code",
      "source": [
        "inputs = tokenizer(prompt, return_tensors='pt') # max tokens is 2048\n",
        "# Generate the continuation\n",
        "with torch.no_grad():\n",
        "    outputs = model.generate(\n",
        "        inputs.input_ids,\n",
        "        max_new_tokens=100,  # Maximum number of new tokens to generate\n",
        "        num_beams=5,        # Beam search for better quality\n",
        "        no_repeat_ngram_size=2,  # Prevent repetition\n",
        "        early_stopping=True\n",
        "    )\n",
        "\n",
        "# Decode the generated text\n",
        "generated_text = tokenizer.decode(outputs[0], skip_special_tokens=True)\n",
        "print(generated_text)"
      ],
      "metadata": {
        "colab": {
          "base_uri": "https://localhost:8080/",
          "height": 211
        },
        "id": "uSOVMB18lk64",
        "outputId": "29232df5-faf6-4964-a023-4a7879942557"
      },
      "execution_count": 2,
      "outputs": [
        {
          "output_type": "error",
          "ename": "NameError",
          "evalue": "name 'tokenizer' is not defined",
          "traceback": [
            "\u001b[0;31m---------------------------------------------------------------------------\u001b[0m",
            "\u001b[0;31mNameError\u001b[0m                                 Traceback (most recent call last)",
            "\u001b[0;32m<ipython-input-2-aa74b3075da8>\u001b[0m in \u001b[0;36m<cell line: 1>\u001b[0;34m()\u001b[0m\n\u001b[0;32m----> 1\u001b[0;31m \u001b[0minputs\u001b[0m \u001b[0;34m=\u001b[0m \u001b[0mtokenizer\u001b[0m\u001b[0;34m(\u001b[0m\u001b[0mprompt\u001b[0m\u001b[0;34m,\u001b[0m \u001b[0mreturn_tensors\u001b[0m\u001b[0;34m=\u001b[0m\u001b[0;34m'pt'\u001b[0m\u001b[0;34m)\u001b[0m \u001b[0;31m# max tokens is 2048\u001b[0m\u001b[0;34m\u001b[0m\u001b[0;34m\u001b[0m\u001b[0m\n\u001b[0m\u001b[1;32m      2\u001b[0m \u001b[0;31m# Generate the continuation\u001b[0m\u001b[0;34m\u001b[0m\u001b[0;34m\u001b[0m\u001b[0m\n\u001b[1;32m      3\u001b[0m \u001b[0;32mwith\u001b[0m \u001b[0mtorch\u001b[0m\u001b[0;34m.\u001b[0m\u001b[0mno_grad\u001b[0m\u001b[0;34m(\u001b[0m\u001b[0;34m)\u001b[0m\u001b[0;34m:\u001b[0m\u001b[0;34m\u001b[0m\u001b[0;34m\u001b[0m\u001b[0m\n\u001b[1;32m      4\u001b[0m     outputs = model.generate(\n\u001b[1;32m      5\u001b[0m         \u001b[0minputs\u001b[0m\u001b[0;34m.\u001b[0m\u001b[0minput_ids\u001b[0m\u001b[0;34m,\u001b[0m\u001b[0;34m\u001b[0m\u001b[0;34m\u001b[0m\u001b[0m\n",
            "\u001b[0;31mNameError\u001b[0m: name 'tokenizer' is not defined"
          ]
        }
      ]
    },
    {
      "cell_type": "code",
      "source": [
        "#T5 - we need to reduce prompt size more certainly otherwise"
      ],
      "metadata": {
        "id": "P5XYXdStkKVV"
      },
      "execution_count": 3,
      "outputs": []
    },
    {
      "cell_type": "code",
      "execution_count": 11,
      "metadata": {
        "colab": {
          "base_uri": "https://localhost:8080/"
        },
        "id": "TvVBsiYeM8C5",
        "outputId": "5079da06-db3c-40a6-922c-e9cae1a444a7"
      },
      "outputs": [
        {
          "output_type": "stream",
          "name": "stderr",
          "text": [
            "You are using the default legacy behaviour of the <class 'transformers.models.t5.tokenization_t5.T5Tokenizer'>. This is expected, and simply means that the `legacy` (previous) behavior will be used so nothing changes for you. If you want to use the new behaviour, set `legacy=False`. This should only be set if you understand what it means, and thoroughly read the reason why this was added as explained in https://github.com/huggingface/transformers/pull/24565\n",
            "Special tokens have been added in the vocabulary, make sure the associated word embeddings are fine-tuned or trained.\n"
          ]
        }
      ],
      "source": [
        "from transformers import T5Tokenizer,T5ForConditionalGeneration\n",
        "model_name = 't5-large'\n",
        "tokenizer = T5Tokenizer.from_pretrained(model_name)\n",
        "model = T5ForConditionalGeneration.from_pretrained(model_name)"
      ]
    },
    {
      "cell_type": "markdown",
      "metadata": {
        "id": "JF31xckT2PUl"
      },
      "source": []
    },
    {
      "cell_type": "code",
      "execution_count": 12,
      "metadata": {
        "id": "-Y1kdq6WUYOg",
        "colab": {
          "base_uri": "https://localhost:8080/"
        },
        "outputId": "313c9325-a04b-463f-a7eb-a11e4bbbffbf"
      },
      "outputs": [
        {
          "output_type": "stream",
          "name": "stderr",
          "text": [
            "Truncation was not explicitly activated but `max_length` is provided a specific value, please use `truncation=True` to explicitly truncate examples to max length. Defaulting to 'longest_first' truncation strategy. If you encode pairs of sequences (GLUE-style) with the tokenizer you can select this strategy more precisely by providing a specific strategy to `truncation`.\n"
          ]
        }
      ],
      "source": [
        "# Encode the prompt\n",
        "input_ids = tokenizer(prompt,max_length=900,return_tensors='pt').input_ids"
      ]
    },
    {
      "cell_type": "code",
      "execution_count": 10,
      "metadata": {
        "colab": {
          "base_uri": "https://localhost:8080/"
        },
        "id": "myb0PEf9R9fu",
        "outputId": "0dd76655-dba9-47df-f4e8-85fbb0f19501"
      },
      "outputs": [
        {
          "output_type": "stream",
          "name": "stdout",
          "text": [
            "['▁Example', '▁1', ':', '▁In', 'put', ':', '▁Mis', 'match', '▁Date', '▁of', '▁Birth', '▁(', 'DO', 'B', ')', '▁is', '▁good', ',', '▁customer', '▁date', '▁of', '▁birth', '▁is', '▁28', '/10', '/19', '71', '▁from', '▁M', 'DM', '▁and', '▁watch', 'list', '▁date', '▁of', '▁birth', '▁is', '▁', '00', '/', '00', '/19', '70', '▁from', '▁Re', 'fini', 't', 'v', '.', 'M', 'is', 'match', '▁ID', ',', 'custom', 'er', '▁ID', '▁is', '▁6', '86', '866', '▁from', '▁M', 'DM', '▁and', '▁watch', 'list', '▁ID', '▁is', '▁14', '55', '74', '08', '▁from', '▁Re', 'fini', 't', 'v', '.', 'M', 'atch', '▁Full', '▁Legal', '▁Name', ',', '▁customer', '▁name', '▁is', '▁Z', 'AW', '▁', 'MIN', '▁obtained', '▁from', '▁M', 'DM', '▁and', '▁watch', 'list', '▁name', '▁is', '▁Z', 'AW', '▁', 'MIN', '▁obtained', '▁from', '▁Re', 'fini', 't', 'v', '▁', '.', 'M', 'is', 'match', '▁profile', '/', 'occupation', '▁is', '▁good', ',', 'custom', 'er', '▁is', '▁', 'a', '▁', 'MAN', 'UF', 'ACT', 'UR', 'ING', '▁', 'LAB', 'OUR', 'ERS', '▁at', '▁BE', 'Y', 'ON', 'ICS', '▁PRE', 'CIS', 'ION', '▁(', 'M', ')', '▁S', 'DN', '▁B', 'HD', ',', '▁', 'MAN', 'UF', 'ACT', 'UR', 'ING', '▁sector', '▁while', '▁watch', '▁person', '▁as', '▁', 'a', '▁Director', '▁General', '▁of', '▁Prison', '▁Department', '▁of', '▁Ministry', '▁of', '▁Home', '▁Affairs', '.', '▁Mis', 'match', '▁gender', '.', '▁Mis', 'match', '▁National', 'ity', '▁Out', 'put', ':', '▁Mis', 'match', '▁Date', '▁of', '▁birth', '▁and', '▁profile', '/', 'occupation', '.', 'Custom', 'er', '▁date', '▁of', '▁birth', '▁is', '▁28', '/10', '/19', '71', '▁and', '▁is', '▁', 'a', '▁', 'MAN', 'UF', 'ACT', 'UR', 'ING', '▁', 'LAB', 'OUR', 'ERS', '▁at', '▁BE', 'Y', 'ON', 'ICS', '▁PRE', 'CIS', 'ION', '▁(', 'M', ')', '▁S', 'DN', '▁B', 'HD', ',', '▁while', '▁watch', '▁person', '▁has', '▁date', '▁of', '▁birth', '▁is', '▁', '00', '/', '00', '/19', '70', '▁and', '▁is', '▁', 'a', '▁Director', '▁General', '▁of', '▁Prison', '▁Department', '▁of', '▁Ministry', '▁of', '▁Home', '▁Affairs', ',', '▁appointed', '▁by', '▁the', '▁State', '▁Administration', '▁Council', '▁(', 'S', 'AC', ').', '▁Example', '▁2', ':', '▁In', 'put', ':', '▁Match', '▁DO', 'B', '▁is', '▁good', ',', 'custom', 'er', '▁date', '▁of', '▁birth', '▁is', '▁25', '/', '06', '/19', '73', '▁from', '▁M', 'DM', '▁and', '▁watch', 'list', '▁date', '▁of', '▁birth', '▁is', '▁25', '/', '06', '/19', '73', '▁from', '▁Re', 'fini', 't', 'v', '.', 'M', 'atch', '▁ID', '▁N', 'RIC', ',', 'custom', 'er', '▁N', 'RIC', '▁is', '▁', '73', '06', '25', '145', '117', '▁from', '▁M', 'DM', '▁and', '▁watch', 'list', '▁N', 'RIC', '▁is', '▁', '73', '06', '25', '145', '117', '▁from', '▁Re', 'fini', 't', 'v', '.', 'M', 'atch', '▁occupation', '/', 'profile', '▁is', '▁good', ',', '▁customer', '▁is', '▁', 'MAN', 'AG', 'ING', '▁', 'DIRECT', 'ORS', '▁AND', '▁', 'CHI', 'EF', '▁E', 'X', 'EC', 'UT', 'IVE', 'S', '▁AT', '▁A', 'SC', 'ENS', 'ION', '▁', 'ENG', 'INE', 'ER', 'ING', '▁SERVICES', '▁P', 'TE', '▁LTD', ',', '▁CON', 'STR', 'UC', 'TION', '▁S', 'ECT', 'OR', '.', '▁while', '▁watch', '▁person', '▁is', '▁', 'DIRECT', 'OR', '▁OF', '▁A', 'SC', 'ENS', 'ION', '▁', 'ENG', 'INE', 'ER', 'ING', '▁SERVICES', '▁P', 'TE', '▁LTD', '▁Out', 'put', ':', '▁Match', '▁DO', 'B', '▁and', '▁occupation', '.', 'Custom', 'er', '▁date', '▁of', '▁birth', '▁25', '/', '06', '/19', '73', '▁and', '▁works', '▁as', '▁', 'MAN', 'AG', 'ING', '▁', 'DIRECT', 'ORS', '▁AND', '▁', 'CHI', 'EF', '▁E', 'X', 'EC', 'UT', 'IVE', 'S', '▁AT', '▁A', 'SC', 'ENS', 'ION', '▁', 'ENG', 'INE', 'ER', 'ING', '▁SERVICES', '▁P', 'TE', '▁LTD', '▁while', '▁watch', 'list', '▁date', '▁of', '▁birth', '▁is', '▁25', '/', '06', '/19', '73', '▁and', '▁works', '▁as', '▁', 'DIRECT', 'OR', '▁OF', '▁A', 'SC', 'ENS', 'ION', '▁', 'ENG', 'INE', 'ER', 'ING', '▁SERVICES', '▁P', 'TE', '▁LTD', '▁Example', '▁3', ':', '▁In', 'put', ':', '▁Match', '▁DO', 'B', '▁is', '▁good', ',', 'custom', 'er', '▁date', '▁of', '▁birth', '▁is', '▁25', '/', '06', '/19', '73', '▁from', '▁M', 'DM', '▁and', '▁watch', 'list', '▁date', '▁of', '▁birth', '▁is', '25', '/', '06', '/19', '73', '▁from', '▁Re', 'fini', 't', 'v', '.', 'M', 'atch', '▁ID', '▁N', 'RIC', ',', 'custom', 'er', '▁N', 'RIC', '▁is', '▁', '73', '06', '25', '145', '117', '▁from', '▁M', 'DM', '▁and', '▁watch', 'list', '▁N', 'RIC', '▁is', '▁', '73', '06', '25', '145', '117', '▁from', '▁Re', 'fini', 't', 'v', '.', 'M', 'atch', '▁occupation', '/', 'profile', '▁is', '▁good', ',', '▁customer', '▁is', '▁', 'MAN', 'AG', 'ING', '▁', 'DIRECT', 'ORS', '▁AND', '▁', 'CHI', 'EF', '▁E', 'X', 'EC', 'UT', 'IVE', 'S', '▁AT', '▁A', 'SC', 'ENS', 'ION', '▁', 'ENG', 'INE', 'ER', 'ING', '▁SERVICES', '▁P', 'TE', '▁LTD', ',', '▁CON', 'STR', 'UC', 'TION', '▁S', 'ECT', 'OR', '.', '▁while', '▁watch', '▁person', '▁is', '▁', 'DIRECT', 'OR', '▁OF', '▁A', 'SC', 'ENS', 'ION', '▁', 'ENG', 'INE', 'ER', 'ING', '▁SERVICES', '▁P', 'TE', '▁LTD', '▁Out', 'put', ':', '▁Match', '▁DO', 'B', '▁and', '▁occupation', '.', 'Custom', 'er', '▁date', '▁of', '▁birth', '▁25', '/', '06', '/19', '73', '▁and', '▁works', '▁as', '▁', 'MAN', 'AG', 'ING', '▁', 'DIRECT', 'ORS', '▁AND', '▁', 'CHI', 'EF', '▁E', 'X', 'EC', 'UT', 'IVE', 'S', '▁AT', '▁A', 'SC', 'ENS', 'ION', '▁', 'ENG', 'INE', 'ER', 'ING', '▁SERVICES', '▁P', 'TE', '▁LTD', '▁while', '▁watch', 'list', '▁date', '▁of', '▁birth', '▁is', '▁25', '/', '06', '/19', '73', '▁and', '▁works', '▁as', '▁', 'DIRECT', 'OR', '▁OF', '▁A', 'SC', 'ENS', 'ION', '▁', 'ENG', 'INE', 'ER', 'ING', '▁SERVICES', '▁P', 'TE', '▁LTD', '▁In', 'put', ':', 'M', 'is', 'match', '▁DO', 'B', '▁is', '▁good', '▁', ',', 'custom', 'er', '▁date', '▁of', '▁birth', '▁is', '▁22', '/', '02', '/19', '88', '▁from', '▁M', 'DM', '▁and', '▁watch', 'list', '▁date', '▁of', '▁birth', '▁is', '▁22', '/', '06', '/19', '88', '▁from', '▁Re', 'fini', 't', 'v', '.', 'M', 'is', 'match', '▁ID', '▁N', 'RIC', '▁is', '▁good', ',', 'custom', 'er', '▁N', 'RIC', '▁is', '▁53', '12', '117', '150', '69', '▁from', '▁M', 'DM', '▁and', '▁watch', 'list', '▁N', 'RIC', '▁is', '▁53', '12', '117', '150', '68', '▁from', '▁Re', 'fini', 't', 'v', '▁', '.', 'M', 'is', 'match', '▁Full', '▁Legal', '▁Name', '.', 'Custom', 'er', '▁name', '▁is', '▁', 'MU', 'HAM', 'AD', '▁S', 'Y', 'AZ', 'WAN', 'UD', 'D', 'IN', '▁B', 'IN', '▁SA', 'HI', 'MI', '▁obtained', '▁from', '▁M', 'DM', '▁', '&', '▁watch', '-', 'list', '▁name', '▁is', '▁SA', 'HI', 'MI', '▁', 'MU', 'HAM', 'AD', '▁S', 'Y', 'AZ', 'WAN', 'UD', 'D', 'IN', '▁B', 'IN', '▁obtained', '▁from', '▁Re', 'fini', 't', 'v', '.', '▁Out', 'put', ':', '</s>']\n"
          ]
        }
      ],
      "source": [
        "print(tokenizer.convert_ids_to_tokens(input_ids[0]))"
      ]
    },
    {
      "cell_type": "code",
      "execution_count": null,
      "metadata": {
        "id": "so319y1SPH6m"
      },
      "outputs": [],
      "source": [
        "# Generate the continuation\n",
        "with torch.no_grad():\n",
        "    outputs = model.generate(\n",
        "        input_ids,\n",
        "        max_new_tokens=100,  # Maximum number of new tokens to generate\n",
        "        num_beams=5,        # Beam search for better quality\n",
        "        no_repeat_ngram_size=2,  # Prevent repetition\n",
        "        early_stopping=True,\n",
        "        pad_token_id=tokenizer.eos_token_id\n",
        "    )\n"
      ]
    },
    {
      "cell_type": "code",
      "execution_count": null,
      "metadata": {
        "id": "rcMlBzKDQRog"
      },
      "outputs": [],
      "source": [
        "generated_text = tokenizer.decode(outputs[0], skip_special_tokens=True)\n",
        "generated_text\n",
        "\n",
        "completion_start = generated_text.find(\"Input:Mismatch DOB is good ,customer date of birth is 22/02/1988 from MDM and watchlist date of birth is 22/06/1988 from Refinitv.Mismatch ID NRIC is good,customer NRIC is 531211715069  from MDM and watchlist NRIC is 531211715068 from Refinitv .Mismatch Full Legal Name.Customer name is MUHAMAD SYAZWANUDDIN BIN SAHIMI obtained from MDM & watch-list name is SAHIMI MUHAMAD SYAZWANUDDIN BIN obtained from Refinitv.\\nOutput:\") + len(\"Input:Mismatch DOB is good ,customer date of birth is 22/02/1988 from MDM and watchlist date of birth is 22/06/1988 from Refinitv.Mismatch ID NRIC is good,customer NRIC is 531211715069  from MDM and watchlist NRIC is 531211715068 from Refinitv .Mismatch Full Legal Name.Customer name is MUHAMAD SYAZWANUDDIN BIN SAHIMI obtained from MDM & watch-list name is SAHIMI MUHAMAD SYAZWANUDDIN BIN obtained from Refinitv.\\nOutput:\")\n",
        "completion = generated_text[completion_start:].strip()\n",
        "print(generated_text)\n",
        "print(completion)"
      ]
    },
    {
      "cell_type": "code",
      "execution_count": null,
      "metadata": {
        "id": "6nYJWc_URjTW"
      },
      "outputs": [],
      "source": [
        "Input:Mismatch DOB is good ,customer date of birth is 22/02/1988 from MDM and watchlist date of birth is 22/06/1988 from Refinitv.Mismatch ID NRIC is good,customer NRIC is 531211715069  from MDM and watchlist NRIC is 531211715068 from Refinitv .Mismatch Full Legal Name.Customer name is MUHAMAD SYAZWANUDDIN BIN SAHIMI obtained from MDM & watch-list name is SAHIMI MUHAMAD SYAZWANUDDIN BIN obtained from Refinitv.\n",
        "Output:"
      ]
    },
    {
      "cell_type": "code",
      "source": [
        "#FlanT5"
      ],
      "metadata": {
        "id": "ehI6V1hhlBdG"
      },
      "execution_count": 20,
      "outputs": []
    },
    {
      "cell_type": "code",
      "execution_count": 13,
      "metadata": {
        "id": "rTrlQm3GlqSr"
      },
      "outputs": [],
      "source": [
        "### BART"
      ]
    },
    {
      "cell_type": "code",
      "execution_count": 3,
      "metadata": {
        "colab": {
          "base_uri": "https://localhost:8080/"
        },
        "id": "SekHXROE2epQ",
        "outputId": "bf06fccb-46f8-4364-9bf0-4241ec237b9d"
      },
      "outputs": [
        {
          "output_type": "stream",
          "name": "stderr",
          "text": [
            "/usr/local/lib/python3.10/dist-packages/huggingface_hub/utils/_token.py:89: UserWarning: \n",
            "The secret `HF_TOKEN` does not exist in your Colab secrets.\n",
            "To authenticate with the Hugging Face Hub, create a token in your settings tab (https://huggingface.co/settings/tokens), set it as secret in your Google Colab and restart your session.\n",
            "You will be able to reuse this secret in all of your notebooks.\n",
            "Please note that authentication is recommended but still optional to access public models or datasets.\n",
            "  warnings.warn(\n"
          ]
        }
      ],
      "source": [
        "from transformers import BartTokenizer, BartForConditionalGeneration\n",
        "\n",
        "# Load the tokenizer and model\n",
        "tokenizer = BartTokenizer.from_pretrained('facebook/bart-large')\n",
        "model = BartForConditionalGeneration.from_pretrained('facebook/bart-large')\n"
      ]
    },
    {
      "cell_type": "code",
      "execution_count": 22,
      "metadata": {
        "id": "scH5LKgX2miy"
      },
      "outputs": [],
      "source": []
    },
    {
      "cell_type": "code",
      "execution_count": 4,
      "metadata": {
        "id": "EMfg6WHP2SsP",
        "colab": {
          "base_uri": "https://localhost:8080/"
        },
        "outputId": "78156eae-5bf7-4c7f-a8c8-aefa370558a2"
      },
      "outputs": [
        {
          "output_type": "stream",
          "name": "stderr",
          "text": [
            "Truncation was not explicitly activated but `max_length` is provided a specific value, please use `truncation=True` to explicitly truncate examples to max length. Defaulting to 'longest_first' truncation strategy. If you encode pairs of sequences (GLUE-style) with the tokenizer you can select this strategy more precisely by providing a specific strategy to `truncation`.\n"
          ]
        }
      ],
      "source": [
        "# Encode the prompt\n",
        "input_ids = tokenizer(prompt,max_length=900,return_tensors='pt').input_ids"
      ]
    },
    {
      "cell_type": "code",
      "execution_count": null,
      "metadata": {
        "id": "x_v_Ugxt2UYh"
      },
      "outputs": [],
      "source": []
    },
    {
      "cell_type": "code",
      "execution_count": 5,
      "metadata": {
        "id": "JaV_rw33ltpX"
      },
      "outputs": [],
      "source": [
        "# Generate text completion - max tokens\n",
        "with torch.no_grad():\n",
        "    outputs = model.generate(\n",
        "        input_ids,\n",
        "        max_new_tokens=100,  # Maximum number of new tokens to generate\n",
        "        num_beams=5,        # Beam search for better quality\n",
        "        no_repeat_ngram_size=2,  # Prevent repetition\n",
        "        early_stopping=True,\n",
        "        pad_token_id=tokenizer.eos_token_id\n",
        "    )\n",
        "\n",
        "\n",
        "# Decode the generated text\n",
        "completed_text = tokenizer.decode(outputs[0], skip_special_tokens=True)"
      ]
    },
    {
      "cell_type": "code",
      "execution_count": 6,
      "metadata": {
        "colab": {
          "base_uri": "https://localhost:8080/",
          "height": 70
        },
        "id": "QbAdMaBQ25cY",
        "outputId": "6d82ed93-911e-4d87-d806-3784553ee1fe"
      },
      "outputs": [
        {
          "output_type": "execute_result",
          "data": {
            "text/plain": [
              "'Output: Match DOB and occupation.Customer date of birth is 28/10/1971 and is a MANUFACTURING LABOURERS at BEYONICS PRECISION (M) SDN BHD, while watch person  is 00/00/1970.Match occupation/profile is good, customer is MANAGING DIRECTORS AND CHIEF EXECUTIVES AT ASCENSION ENGINEERING SERVICES PTE LTD, CONSTRUCTION SECTOR'"
            ],
            "application/vnd.google.colaboratory.intrinsic+json": {
              "type": "string"
            }
          },
          "metadata": {},
          "execution_count": 6
        }
      ],
      "source": [
        "completed_text"
      ]
    },
    {
      "cell_type": "code",
      "source": [
        "prompt"
      ],
      "metadata": {
        "colab": {
          "base_uri": "https://localhost:8080/",
          "height": 139
        },
        "id": "LaK2gCmk8vFM",
        "outputId": "f3506aa7-4bf3-473a-9be3-3e3e43979c3a"
      },
      "execution_count": 26,
      "outputs": [
        {
          "output_type": "execute_result",
          "data": {
            "text/plain": [
              "'\\nExample 1:\\nInput: Mismatch Date of Birth (DOB) is good, customer date of birth is 28/10/1971 from MDM and watchlist date of birth is 00/00/1970 from Refinitv.Mismatch ID,customer ID is 686866 from MDM and watchlist ID is 14557408 from Refinitv.Match Full Legal Name, customer name is ZAW MIN  obtained from MDM and watchlist name is ZAW MIN obtained from Refinitv .Mismatch profile/occupation is good,customer is a MANUFACTURING LABOURERS at BEYONICS PRECISION (M) SDN BHD, MANUFACTURING sector while watch person as a Director General of Prison Department of Ministry of Home Affairs. Mismatch gender. Mismatch Nationality\\nOutput: Mismatch Date of birth and profile/occupation.Customer date of birth is 28/10/1971 and is a MANUFACTURING LABOURERS at BEYONICS PRECISION (M) SDN BHD, while watch person  has date of birth is 00/00/1970 and is a Director General of Prison Department of Ministry of Home Affairs, appointed by the State Administration Council (SAC).\\n\\nExample 2:\\nInput: Match DOB is good,customer date of birth is 25/06/1973 from MDM and watchlist date of birth is 25/06/1973 from Refinitv.Match ID NRIC,customer NRIC is 730625145117 from MDM and watchlist NRIC is 730625145117 from Refinitv.Match occupation/profile is good, customer is MANAGING DIRECTORS AND CHIEF EXECUTIVES AT ASCENSION ENGINEERING SERVICES PTE LTD, CONSTRUCTION SECTOR. while watch person is DIRECTOR OF ASCENSION ENGINEERING SERVICES PTE LTD\\nOutput: Match DOB and occupation.Customer date of birth 25/06/1973 and works as MANAGING DIRECTORS AND CHIEF EXECUTIVES AT ASCENSION ENGINEERING SERVICES PTE LTD while watchlist date of birth is 25/06/1973 and works as DIRECTOR OF ASCENSION ENGINEERING SERVICES PTE LTD\\n\\n\\nExample 3:\\nInput: Match DOB is good,customer date of birth is 25/06/1973 from MDM and watchlist date of birth is25/06/1973 from Refinitv.Match ID NRIC,customer NRIC is 730625145117 from MDM and watchlist NRIC is 730625145117 from Refinitv.Match occupation/profile is good, customer is MANAGING DIRECTORS AND CHIEF EXECUTIVES AT ASCENSION ENGINEERING SERVICES PTE LTD, CONSTRUCTION SECTOR. while watch person is DIRECTOR OF ASCENSION ENGINEERING SERVICES PTE LTD\\nOutput: Match DOB and occupation.Customer date of birth 25/06/1973 and works as MANAGING DIRECTORS AND CHIEF EXECUTIVES AT ASCENSION ENGINEERING SERVICES PTE LTD while watchlist date of birth is 25/06/1973 and works as DIRECTOR OF ASCENSION ENGINEERING SERVICES PTE LTD\\n\\n\\nInput:Mismatch DOB is good ,customer date of birth is 22/02/1988 from MDM and watchlist date of birth is 22/06/1988 from Refinitv.Mismatch ID NRIC is good,customer NRIC is 531211715069  from MDM and watchlist NRIC is 531211715068 from Refinitv .Mismatch Full Legal Name.Customer name is MUHAMAD SYAZWANUDDIN BIN SAHIMI obtained from MDM & watch-list name is SAHIMI MUHAMAD SYAZWANUDDIN BIN obtained from Refinitv.\\nOutput:\\n'"
            ],
            "application/vnd.google.colaboratory.intrinsic+json": {
              "type": "string"
            }
          },
          "metadata": {},
          "execution_count": 26
        }
      ]
    },
    {
      "cell_type": "code",
      "execution_count": null,
      "metadata": {
        "id": "gnisLEfI8CDO"
      },
      "outputs": [],
      "source": [
        "Input:Mismatch DOB is good ,customer date of birth is 22/02/1988 from MDM and watchlist date of birth is 22/06/1988 from Refinitv.Mismatch ID NRIC is good,customer NRIC is 531211715069  from MDM and watchlist NRIC is 531211715068 from Refinitv .Mismatch Full Legal Name.Customer name is MUHAMAD SYAZWANUDDIN BIN SAHIMI obtained from MDM & watch-list name is SAHIMI MUHAMAD SYAZWANUDDIN BIN obtained from Refinitv.\n",
        "Output:"
      ]
    },
    {
      "cell_type": "code",
      "execution_count": 8,
      "metadata": {
        "id": "_uJFlONVXPQd"
      },
      "outputs": [],
      "source": [
        "# Generate the continuation - max length\n",
        "with torch.no_grad():\n",
        "    outputs = model.generate(\n",
        "        input_ids,\n",
        "        max_length=150,  # Maximum length of the generated text\n",
        "        num_beams=5,     # Beam search for better quality\n",
        "        no_repeat_ngram_size=2,  # Prevent repetition\n",
        "        early_stopping=True,\n",
        "        pad_token_id=tokenizer.eos_token_id\n",
        "    )\n",
        "\n",
        "\n",
        "# with torch.no_grad():\n",
        "#     outputs = model.generate(\n",
        "#           input, max_length=100, num_return_sequences=1,\n",
        "#           pad_token_id=tokenizer.eos_token_id\n",
        "\n",
        "#     )"
      ]
    },
    {
      "cell_type": "code",
      "source": [
        "\n",
        "# Decode the generated text\n",
        "completed_text = tokenizer.decode(outputs[0], skip_special_tokens=True)"
      ],
      "metadata": {
        "id": "gbDVTgWX_Ebm"
      },
      "execution_count": 9,
      "outputs": []
    },
    {
      "cell_type": "code",
      "source": [
        "completed_text"
      ],
      "metadata": {
        "colab": {
          "base_uri": "https://localhost:8080/",
          "height": 87
        },
        "id": "btowk9VJ_Fub",
        "outputId": "7315fb08-1ecf-4ed3-c28c-03b97e0aec46"
      },
      "execution_count": 10,
      "outputs": [
        {
          "output_type": "execute_result",
          "data": {
            "text/plain": [
              "'Output: Match DOB and occupation.Customer date of birth is 28/10/1971 and is a MANUFACTURING LABOURERS at BEYONICS PRECISION (M) SDN BHD, while watch person  is 00/00/1970.Match occupation/profile is good, customer is MANAGING DIRECTORS AND CHIEF EXECUTIVES AT ASCENSION ENGINEERING SERVICES PTE LTD, CONSTRUCTION SECTOR. Mismatch Full Legal Name.Example 1:¯¯¯¯¯¯¯¯¯¯Example 2:¯¯¯¯¯¯Input: MISMatch Date of Birth and profile/occupation. customer name is MUHAMAD SYAZWANUDDIN BIN SAH'"
            ],
            "application/vnd.google.colaboratory.intrinsic+json": {
              "type": "string"
            }
          },
          "metadata": {},
          "execution_count": 10
        }
      ]
    }
  ],
  "metadata": {
    "colab": {
      "provenance": [],
      "authorship_tag": "ABX9TyPrFI4ck1th+6pwhQxhxPcY",
      "include_colab_link": true
    },
    "kernelspec": {
      "display_name": "Python 3",
      "name": "python3"
    },
    "language_info": {
      "name": "python"
    },
    "widgets": {
      "application/vnd.jupyter.widget-state+json": {
        "59407651506840a5959e704be7dde7d9": {
          "model_module": "@jupyter-widgets/controls",
          "model_name": "HBoxModel",
          "model_module_version": "1.5.0",
          "state": {
            "_dom_classes": [],
            "_model_module": "@jupyter-widgets/controls",
            "_model_module_version": "1.5.0",
            "_model_name": "HBoxModel",
            "_view_count": null,
            "_view_module": "@jupyter-widgets/controls",
            "_view_module_version": "1.5.0",
            "_view_name": "HBoxView",
            "box_style": "",
            "children": [
              "IPY_MODEL_425959cb11de46089769f26defd9f8a3",
              "IPY_MODEL_48c33031c6b7412dad6985921dc0c27d",
              "IPY_MODEL_fb8af39bd33c47f59cd69e117084c513"
            ],
            "layout": "IPY_MODEL_542642b1440e40929b5a99fab25d68b0"
          }
        },
        "425959cb11de46089769f26defd9f8a3": {
          "model_module": "@jupyter-widgets/controls",
          "model_name": "HTMLModel",
          "model_module_version": "1.5.0",
          "state": {
            "_dom_classes": [],
            "_model_module": "@jupyter-widgets/controls",
            "_model_module_version": "1.5.0",
            "_model_name": "HTMLModel",
            "_view_count": null,
            "_view_module": "@jupyter-widgets/controls",
            "_view_module_version": "1.5.0",
            "_view_name": "HTMLView",
            "description": "",
            "description_tooltip": null,
            "layout": "IPY_MODEL_21894b68e0434a5bb8835d4e92147a20",
            "placeholder": "​",
            "style": "IPY_MODEL_4bf1fe0856d648f2881d3e169d8ed315",
            "value": "tokenizer_config.json: 100%"
          }
        },
        "48c33031c6b7412dad6985921dc0c27d": {
          "model_module": "@jupyter-widgets/controls",
          "model_name": "FloatProgressModel",
          "model_module_version": "1.5.0",
          "state": {
            "_dom_classes": [],
            "_model_module": "@jupyter-widgets/controls",
            "_model_module_version": "1.5.0",
            "_model_name": "FloatProgressModel",
            "_view_count": null,
            "_view_module": "@jupyter-widgets/controls",
            "_view_module_version": "1.5.0",
            "_view_name": "ProgressView",
            "bar_style": "success",
            "description": "",
            "description_tooltip": null,
            "layout": "IPY_MODEL_6dbad1dcfbd0409b9779139abd4584d0",
            "max": 26,
            "min": 0,
            "orientation": "horizontal",
            "style": "IPY_MODEL_b5a84d9ab4f64c2a9c99f81a4f976017",
            "value": 26
          }
        },
        "fb8af39bd33c47f59cd69e117084c513": {
          "model_module": "@jupyter-widgets/controls",
          "model_name": "HTMLModel",
          "model_module_version": "1.5.0",
          "state": {
            "_dom_classes": [],
            "_model_module": "@jupyter-widgets/controls",
            "_model_module_version": "1.5.0",
            "_model_name": "HTMLModel",
            "_view_count": null,
            "_view_module": "@jupyter-widgets/controls",
            "_view_module_version": "1.5.0",
            "_view_name": "HTMLView",
            "description": "",
            "description_tooltip": null,
            "layout": "IPY_MODEL_0f5ba641a03d4ef9bd3c98e40f4ba9e4",
            "placeholder": "​",
            "style": "IPY_MODEL_2250e7aa43b74b13bc0a61dca1f4215f",
            "value": " 26.0/26.0 [00:00&lt;00:00, 491B/s]"
          }
        },
        "542642b1440e40929b5a99fab25d68b0": {
          "model_module": "@jupyter-widgets/base",
          "model_name": "LayoutModel",
          "model_module_version": "1.2.0",
          "state": {
            "_model_module": "@jupyter-widgets/base",
            "_model_module_version": "1.2.0",
            "_model_name": "LayoutModel",
            "_view_count": null,
            "_view_module": "@jupyter-widgets/base",
            "_view_module_version": "1.2.0",
            "_view_name": "LayoutView",
            "align_content": null,
            "align_items": null,
            "align_self": null,
            "border": null,
            "bottom": null,
            "display": null,
            "flex": null,
            "flex_flow": null,
            "grid_area": null,
            "grid_auto_columns": null,
            "grid_auto_flow": null,
            "grid_auto_rows": null,
            "grid_column": null,
            "grid_gap": null,
            "grid_row": null,
            "grid_template_areas": null,
            "grid_template_columns": null,
            "grid_template_rows": null,
            "height": null,
            "justify_content": null,
            "justify_items": null,
            "left": null,
            "margin": null,
            "max_height": null,
            "max_width": null,
            "min_height": null,
            "min_width": null,
            "object_fit": null,
            "object_position": null,
            "order": null,
            "overflow": null,
            "overflow_x": null,
            "overflow_y": null,
            "padding": null,
            "right": null,
            "top": null,
            "visibility": null,
            "width": null
          }
        },
        "21894b68e0434a5bb8835d4e92147a20": {
          "model_module": "@jupyter-widgets/base",
          "model_name": "LayoutModel",
          "model_module_version": "1.2.0",
          "state": {
            "_model_module": "@jupyter-widgets/base",
            "_model_module_version": "1.2.0",
            "_model_name": "LayoutModel",
            "_view_count": null,
            "_view_module": "@jupyter-widgets/base",
            "_view_module_version": "1.2.0",
            "_view_name": "LayoutView",
            "align_content": null,
            "align_items": null,
            "align_self": null,
            "border": null,
            "bottom": null,
            "display": null,
            "flex": null,
            "flex_flow": null,
            "grid_area": null,
            "grid_auto_columns": null,
            "grid_auto_flow": null,
            "grid_auto_rows": null,
            "grid_column": null,
            "grid_gap": null,
            "grid_row": null,
            "grid_template_areas": null,
            "grid_template_columns": null,
            "grid_template_rows": null,
            "height": null,
            "justify_content": null,
            "justify_items": null,
            "left": null,
            "margin": null,
            "max_height": null,
            "max_width": null,
            "min_height": null,
            "min_width": null,
            "object_fit": null,
            "object_position": null,
            "order": null,
            "overflow": null,
            "overflow_x": null,
            "overflow_y": null,
            "padding": null,
            "right": null,
            "top": null,
            "visibility": null,
            "width": null
          }
        },
        "4bf1fe0856d648f2881d3e169d8ed315": {
          "model_module": "@jupyter-widgets/controls",
          "model_name": "DescriptionStyleModel",
          "model_module_version": "1.5.0",
          "state": {
            "_model_module": "@jupyter-widgets/controls",
            "_model_module_version": "1.5.0",
            "_model_name": "DescriptionStyleModel",
            "_view_count": null,
            "_view_module": "@jupyter-widgets/base",
            "_view_module_version": "1.2.0",
            "_view_name": "StyleView",
            "description_width": ""
          }
        },
        "6dbad1dcfbd0409b9779139abd4584d0": {
          "model_module": "@jupyter-widgets/base",
          "model_name": "LayoutModel",
          "model_module_version": "1.2.0",
          "state": {
            "_model_module": "@jupyter-widgets/base",
            "_model_module_version": "1.2.0",
            "_model_name": "LayoutModel",
            "_view_count": null,
            "_view_module": "@jupyter-widgets/base",
            "_view_module_version": "1.2.0",
            "_view_name": "LayoutView",
            "align_content": null,
            "align_items": null,
            "align_self": null,
            "border": null,
            "bottom": null,
            "display": null,
            "flex": null,
            "flex_flow": null,
            "grid_area": null,
            "grid_auto_columns": null,
            "grid_auto_flow": null,
            "grid_auto_rows": null,
            "grid_column": null,
            "grid_gap": null,
            "grid_row": null,
            "grid_template_areas": null,
            "grid_template_columns": null,
            "grid_template_rows": null,
            "height": null,
            "justify_content": null,
            "justify_items": null,
            "left": null,
            "margin": null,
            "max_height": null,
            "max_width": null,
            "min_height": null,
            "min_width": null,
            "object_fit": null,
            "object_position": null,
            "order": null,
            "overflow": null,
            "overflow_x": null,
            "overflow_y": null,
            "padding": null,
            "right": null,
            "top": null,
            "visibility": null,
            "width": null
          }
        },
        "b5a84d9ab4f64c2a9c99f81a4f976017": {
          "model_module": "@jupyter-widgets/controls",
          "model_name": "ProgressStyleModel",
          "model_module_version": "1.5.0",
          "state": {
            "_model_module": "@jupyter-widgets/controls",
            "_model_module_version": "1.5.0",
            "_model_name": "ProgressStyleModel",
            "_view_count": null,
            "_view_module": "@jupyter-widgets/base",
            "_view_module_version": "1.2.0",
            "_view_name": "StyleView",
            "bar_color": null,
            "description_width": ""
          }
        },
        "0f5ba641a03d4ef9bd3c98e40f4ba9e4": {
          "model_module": "@jupyter-widgets/base",
          "model_name": "LayoutModel",
          "model_module_version": "1.2.0",
          "state": {
            "_model_module": "@jupyter-widgets/base",
            "_model_module_version": "1.2.0",
            "_model_name": "LayoutModel",
            "_view_count": null,
            "_view_module": "@jupyter-widgets/base",
            "_view_module_version": "1.2.0",
            "_view_name": "LayoutView",
            "align_content": null,
            "align_items": null,
            "align_self": null,
            "border": null,
            "bottom": null,
            "display": null,
            "flex": null,
            "flex_flow": null,
            "grid_area": null,
            "grid_auto_columns": null,
            "grid_auto_flow": null,
            "grid_auto_rows": null,
            "grid_column": null,
            "grid_gap": null,
            "grid_row": null,
            "grid_template_areas": null,
            "grid_template_columns": null,
            "grid_template_rows": null,
            "height": null,
            "justify_content": null,
            "justify_items": null,
            "left": null,
            "margin": null,
            "max_height": null,
            "max_width": null,
            "min_height": null,
            "min_width": null,
            "object_fit": null,
            "object_position": null,
            "order": null,
            "overflow": null,
            "overflow_x": null,
            "overflow_y": null,
            "padding": null,
            "right": null,
            "top": null,
            "visibility": null,
            "width": null
          }
        },
        "2250e7aa43b74b13bc0a61dca1f4215f": {
          "model_module": "@jupyter-widgets/controls",
          "model_name": "DescriptionStyleModel",
          "model_module_version": "1.5.0",
          "state": {
            "_model_module": "@jupyter-widgets/controls",
            "_model_module_version": "1.5.0",
            "_model_name": "DescriptionStyleModel",
            "_view_count": null,
            "_view_module": "@jupyter-widgets/base",
            "_view_module_version": "1.2.0",
            "_view_name": "StyleView",
            "description_width": ""
          }
        },
        "69abdb20922747548c8faaac9a91eb41": {
          "model_module": "@jupyter-widgets/controls",
          "model_name": "HBoxModel",
          "model_module_version": "1.5.0",
          "state": {
            "_dom_classes": [],
            "_model_module": "@jupyter-widgets/controls",
            "_model_module_version": "1.5.0",
            "_model_name": "HBoxModel",
            "_view_count": null,
            "_view_module": "@jupyter-widgets/controls",
            "_view_module_version": "1.5.0",
            "_view_name": "HBoxView",
            "box_style": "",
            "children": [
              "IPY_MODEL_e6683bea79f7485e937086f35009e328",
              "IPY_MODEL_14abe2c3b4b945df81510370364b21d8",
              "IPY_MODEL_8604925ec9a9472b832200d6bbd076af"
            ],
            "layout": "IPY_MODEL_e525121e48ac481fb55d5fdfd20a2c64"
          }
        },
        "e6683bea79f7485e937086f35009e328": {
          "model_module": "@jupyter-widgets/controls",
          "model_name": "HTMLModel",
          "model_module_version": "1.5.0",
          "state": {
            "_dom_classes": [],
            "_model_module": "@jupyter-widgets/controls",
            "_model_module_version": "1.5.0",
            "_model_name": "HTMLModel",
            "_view_count": null,
            "_view_module": "@jupyter-widgets/controls",
            "_view_module_version": "1.5.0",
            "_view_name": "HTMLView",
            "description": "",
            "description_tooltip": null,
            "layout": "IPY_MODEL_19dac87937514ceb830f83c37e253104",
            "placeholder": "​",
            "style": "IPY_MODEL_cbc23f1b4f6a4631b45e4c0d241fce11",
            "value": "vocab.json: 100%"
          }
        },
        "14abe2c3b4b945df81510370364b21d8": {
          "model_module": "@jupyter-widgets/controls",
          "model_name": "FloatProgressModel",
          "model_module_version": "1.5.0",
          "state": {
            "_dom_classes": [],
            "_model_module": "@jupyter-widgets/controls",
            "_model_module_version": "1.5.0",
            "_model_name": "FloatProgressModel",
            "_view_count": null,
            "_view_module": "@jupyter-widgets/controls",
            "_view_module_version": "1.5.0",
            "_view_name": "ProgressView",
            "bar_style": "success",
            "description": "",
            "description_tooltip": null,
            "layout": "IPY_MODEL_5257debcf47f45d1b80db606f6e4c9c2",
            "max": 1042301,
            "min": 0,
            "orientation": "horizontal",
            "style": "IPY_MODEL_269d7daf76474cb9a2da88d3172df89d",
            "value": 1042301
          }
        },
        "8604925ec9a9472b832200d6bbd076af": {
          "model_module": "@jupyter-widgets/controls",
          "model_name": "HTMLModel",
          "model_module_version": "1.5.0",
          "state": {
            "_dom_classes": [],
            "_model_module": "@jupyter-widgets/controls",
            "_model_module_version": "1.5.0",
            "_model_name": "HTMLModel",
            "_view_count": null,
            "_view_module": "@jupyter-widgets/controls",
            "_view_module_version": "1.5.0",
            "_view_name": "HTMLView",
            "description": "",
            "description_tooltip": null,
            "layout": "IPY_MODEL_500bd9d2c3e3482e91011cc2f25d1538",
            "placeholder": "​",
            "style": "IPY_MODEL_b8a5a9be2842442684848d6c308bcada",
            "value": " 1.04M/1.04M [00:00&lt;00:00, 4.31MB/s]"
          }
        },
        "e525121e48ac481fb55d5fdfd20a2c64": {
          "model_module": "@jupyter-widgets/base",
          "model_name": "LayoutModel",
          "model_module_version": "1.2.0",
          "state": {
            "_model_module": "@jupyter-widgets/base",
            "_model_module_version": "1.2.0",
            "_model_name": "LayoutModel",
            "_view_count": null,
            "_view_module": "@jupyter-widgets/base",
            "_view_module_version": "1.2.0",
            "_view_name": "LayoutView",
            "align_content": null,
            "align_items": null,
            "align_self": null,
            "border": null,
            "bottom": null,
            "display": null,
            "flex": null,
            "flex_flow": null,
            "grid_area": null,
            "grid_auto_columns": null,
            "grid_auto_flow": null,
            "grid_auto_rows": null,
            "grid_column": null,
            "grid_gap": null,
            "grid_row": null,
            "grid_template_areas": null,
            "grid_template_columns": null,
            "grid_template_rows": null,
            "height": null,
            "justify_content": null,
            "justify_items": null,
            "left": null,
            "margin": null,
            "max_height": null,
            "max_width": null,
            "min_height": null,
            "min_width": null,
            "object_fit": null,
            "object_position": null,
            "order": null,
            "overflow": null,
            "overflow_x": null,
            "overflow_y": null,
            "padding": null,
            "right": null,
            "top": null,
            "visibility": null,
            "width": null
          }
        },
        "19dac87937514ceb830f83c37e253104": {
          "model_module": "@jupyter-widgets/base",
          "model_name": "LayoutModel",
          "model_module_version": "1.2.0",
          "state": {
            "_model_module": "@jupyter-widgets/base",
            "_model_module_version": "1.2.0",
            "_model_name": "LayoutModel",
            "_view_count": null,
            "_view_module": "@jupyter-widgets/base",
            "_view_module_version": "1.2.0",
            "_view_name": "LayoutView",
            "align_content": null,
            "align_items": null,
            "align_self": null,
            "border": null,
            "bottom": null,
            "display": null,
            "flex": null,
            "flex_flow": null,
            "grid_area": null,
            "grid_auto_columns": null,
            "grid_auto_flow": null,
            "grid_auto_rows": null,
            "grid_column": null,
            "grid_gap": null,
            "grid_row": null,
            "grid_template_areas": null,
            "grid_template_columns": null,
            "grid_template_rows": null,
            "height": null,
            "justify_content": null,
            "justify_items": null,
            "left": null,
            "margin": null,
            "max_height": null,
            "max_width": null,
            "min_height": null,
            "min_width": null,
            "object_fit": null,
            "object_position": null,
            "order": null,
            "overflow": null,
            "overflow_x": null,
            "overflow_y": null,
            "padding": null,
            "right": null,
            "top": null,
            "visibility": null,
            "width": null
          }
        },
        "cbc23f1b4f6a4631b45e4c0d241fce11": {
          "model_module": "@jupyter-widgets/controls",
          "model_name": "DescriptionStyleModel",
          "model_module_version": "1.5.0",
          "state": {
            "_model_module": "@jupyter-widgets/controls",
            "_model_module_version": "1.5.0",
            "_model_name": "DescriptionStyleModel",
            "_view_count": null,
            "_view_module": "@jupyter-widgets/base",
            "_view_module_version": "1.2.0",
            "_view_name": "StyleView",
            "description_width": ""
          }
        },
        "5257debcf47f45d1b80db606f6e4c9c2": {
          "model_module": "@jupyter-widgets/base",
          "model_name": "LayoutModel",
          "model_module_version": "1.2.0",
          "state": {
            "_model_module": "@jupyter-widgets/base",
            "_model_module_version": "1.2.0",
            "_model_name": "LayoutModel",
            "_view_count": null,
            "_view_module": "@jupyter-widgets/base",
            "_view_module_version": "1.2.0",
            "_view_name": "LayoutView",
            "align_content": null,
            "align_items": null,
            "align_self": null,
            "border": null,
            "bottom": null,
            "display": null,
            "flex": null,
            "flex_flow": null,
            "grid_area": null,
            "grid_auto_columns": null,
            "grid_auto_flow": null,
            "grid_auto_rows": null,
            "grid_column": null,
            "grid_gap": null,
            "grid_row": null,
            "grid_template_areas": null,
            "grid_template_columns": null,
            "grid_template_rows": null,
            "height": null,
            "justify_content": null,
            "justify_items": null,
            "left": null,
            "margin": null,
            "max_height": null,
            "max_width": null,
            "min_height": null,
            "min_width": null,
            "object_fit": null,
            "object_position": null,
            "order": null,
            "overflow": null,
            "overflow_x": null,
            "overflow_y": null,
            "padding": null,
            "right": null,
            "top": null,
            "visibility": null,
            "width": null
          }
        },
        "269d7daf76474cb9a2da88d3172df89d": {
          "model_module": "@jupyter-widgets/controls",
          "model_name": "ProgressStyleModel",
          "model_module_version": "1.5.0",
          "state": {
            "_model_module": "@jupyter-widgets/controls",
            "_model_module_version": "1.5.0",
            "_model_name": "ProgressStyleModel",
            "_view_count": null,
            "_view_module": "@jupyter-widgets/base",
            "_view_module_version": "1.2.0",
            "_view_name": "StyleView",
            "bar_color": null,
            "description_width": ""
          }
        },
        "500bd9d2c3e3482e91011cc2f25d1538": {
          "model_module": "@jupyter-widgets/base",
          "model_name": "LayoutModel",
          "model_module_version": "1.2.0",
          "state": {
            "_model_module": "@jupyter-widgets/base",
            "_model_module_version": "1.2.0",
            "_model_name": "LayoutModel",
            "_view_count": null,
            "_view_module": "@jupyter-widgets/base",
            "_view_module_version": "1.2.0",
            "_view_name": "LayoutView",
            "align_content": null,
            "align_items": null,
            "align_self": null,
            "border": null,
            "bottom": null,
            "display": null,
            "flex": null,
            "flex_flow": null,
            "grid_area": null,
            "grid_auto_columns": null,
            "grid_auto_flow": null,
            "grid_auto_rows": null,
            "grid_column": null,
            "grid_gap": null,
            "grid_row": null,
            "grid_template_areas": null,
            "grid_template_columns": null,
            "grid_template_rows": null,
            "height": null,
            "justify_content": null,
            "justify_items": null,
            "left": null,
            "margin": null,
            "max_height": null,
            "max_width": null,
            "min_height": null,
            "min_width": null,
            "object_fit": null,
            "object_position": null,
            "order": null,
            "overflow": null,
            "overflow_x": null,
            "overflow_y": null,
            "padding": null,
            "right": null,
            "top": null,
            "visibility": null,
            "width": null
          }
        },
        "b8a5a9be2842442684848d6c308bcada": {
          "model_module": "@jupyter-widgets/controls",
          "model_name": "DescriptionStyleModel",
          "model_module_version": "1.5.0",
          "state": {
            "_model_module": "@jupyter-widgets/controls",
            "_model_module_version": "1.5.0",
            "_model_name": "DescriptionStyleModel",
            "_view_count": null,
            "_view_module": "@jupyter-widgets/base",
            "_view_module_version": "1.2.0",
            "_view_name": "StyleView",
            "description_width": ""
          }
        },
        "10d1a17f4d8d45528b91f083a8b0cd7e": {
          "model_module": "@jupyter-widgets/controls",
          "model_name": "HBoxModel",
          "model_module_version": "1.5.0",
          "state": {
            "_dom_classes": [],
            "_model_module": "@jupyter-widgets/controls",
            "_model_module_version": "1.5.0",
            "_model_name": "HBoxModel",
            "_view_count": null,
            "_view_module": "@jupyter-widgets/controls",
            "_view_module_version": "1.5.0",
            "_view_name": "HBoxView",
            "box_style": "",
            "children": [
              "IPY_MODEL_90963e1993f94c60b824cb330571db25",
              "IPY_MODEL_a2c0141f55984ba090eb5675e26f1dc2",
              "IPY_MODEL_60a4d3f2edc040b0bb95ce2cf995b2d4"
            ],
            "layout": "IPY_MODEL_c7baa49556184eb9892efc16d2802878"
          }
        },
        "90963e1993f94c60b824cb330571db25": {
          "model_module": "@jupyter-widgets/controls",
          "model_name": "HTMLModel",
          "model_module_version": "1.5.0",
          "state": {
            "_dom_classes": [],
            "_model_module": "@jupyter-widgets/controls",
            "_model_module_version": "1.5.0",
            "_model_name": "HTMLModel",
            "_view_count": null,
            "_view_module": "@jupyter-widgets/controls",
            "_view_module_version": "1.5.0",
            "_view_name": "HTMLView",
            "description": "",
            "description_tooltip": null,
            "layout": "IPY_MODEL_c0c5bbe45d6349eb9f4b51cc161fab7b",
            "placeholder": "​",
            "style": "IPY_MODEL_f64d88aad9e1489b86eb825ddb4b77a9",
            "value": "merges.txt: 100%"
          }
        },
        "a2c0141f55984ba090eb5675e26f1dc2": {
          "model_module": "@jupyter-widgets/controls",
          "model_name": "FloatProgressModel",
          "model_module_version": "1.5.0",
          "state": {
            "_dom_classes": [],
            "_model_module": "@jupyter-widgets/controls",
            "_model_module_version": "1.5.0",
            "_model_name": "FloatProgressModel",
            "_view_count": null,
            "_view_module": "@jupyter-widgets/controls",
            "_view_module_version": "1.5.0",
            "_view_name": "ProgressView",
            "bar_style": "success",
            "description": "",
            "description_tooltip": null,
            "layout": "IPY_MODEL_3bc2761f534043629dd426e5c4bfa51c",
            "max": 456318,
            "min": 0,
            "orientation": "horizontal",
            "style": "IPY_MODEL_c57075a4b7724151aa2c860d0546e804",
            "value": 456318
          }
        },
        "60a4d3f2edc040b0bb95ce2cf995b2d4": {
          "model_module": "@jupyter-widgets/controls",
          "model_name": "HTMLModel",
          "model_module_version": "1.5.0",
          "state": {
            "_dom_classes": [],
            "_model_module": "@jupyter-widgets/controls",
            "_model_module_version": "1.5.0",
            "_model_name": "HTMLModel",
            "_view_count": null,
            "_view_module": "@jupyter-widgets/controls",
            "_view_module_version": "1.5.0",
            "_view_name": "HTMLView",
            "description": "",
            "description_tooltip": null,
            "layout": "IPY_MODEL_1d0719a6e1014b25abb4b3aeb8c232d7",
            "placeholder": "​",
            "style": "IPY_MODEL_f62ea651993f44cfa21d52d707b5050b",
            "value": " 456k/456k [00:00&lt;00:00, 6.14MB/s]"
          }
        },
        "c7baa49556184eb9892efc16d2802878": {
          "model_module": "@jupyter-widgets/base",
          "model_name": "LayoutModel",
          "model_module_version": "1.2.0",
          "state": {
            "_model_module": "@jupyter-widgets/base",
            "_model_module_version": "1.2.0",
            "_model_name": "LayoutModel",
            "_view_count": null,
            "_view_module": "@jupyter-widgets/base",
            "_view_module_version": "1.2.0",
            "_view_name": "LayoutView",
            "align_content": null,
            "align_items": null,
            "align_self": null,
            "border": null,
            "bottom": null,
            "display": null,
            "flex": null,
            "flex_flow": null,
            "grid_area": null,
            "grid_auto_columns": null,
            "grid_auto_flow": null,
            "grid_auto_rows": null,
            "grid_column": null,
            "grid_gap": null,
            "grid_row": null,
            "grid_template_areas": null,
            "grid_template_columns": null,
            "grid_template_rows": null,
            "height": null,
            "justify_content": null,
            "justify_items": null,
            "left": null,
            "margin": null,
            "max_height": null,
            "max_width": null,
            "min_height": null,
            "min_width": null,
            "object_fit": null,
            "object_position": null,
            "order": null,
            "overflow": null,
            "overflow_x": null,
            "overflow_y": null,
            "padding": null,
            "right": null,
            "top": null,
            "visibility": null,
            "width": null
          }
        },
        "c0c5bbe45d6349eb9f4b51cc161fab7b": {
          "model_module": "@jupyter-widgets/base",
          "model_name": "LayoutModel",
          "model_module_version": "1.2.0",
          "state": {
            "_model_module": "@jupyter-widgets/base",
            "_model_module_version": "1.2.0",
            "_model_name": "LayoutModel",
            "_view_count": null,
            "_view_module": "@jupyter-widgets/base",
            "_view_module_version": "1.2.0",
            "_view_name": "LayoutView",
            "align_content": null,
            "align_items": null,
            "align_self": null,
            "border": null,
            "bottom": null,
            "display": null,
            "flex": null,
            "flex_flow": null,
            "grid_area": null,
            "grid_auto_columns": null,
            "grid_auto_flow": null,
            "grid_auto_rows": null,
            "grid_column": null,
            "grid_gap": null,
            "grid_row": null,
            "grid_template_areas": null,
            "grid_template_columns": null,
            "grid_template_rows": null,
            "height": null,
            "justify_content": null,
            "justify_items": null,
            "left": null,
            "margin": null,
            "max_height": null,
            "max_width": null,
            "min_height": null,
            "min_width": null,
            "object_fit": null,
            "object_position": null,
            "order": null,
            "overflow": null,
            "overflow_x": null,
            "overflow_y": null,
            "padding": null,
            "right": null,
            "top": null,
            "visibility": null,
            "width": null
          }
        },
        "f64d88aad9e1489b86eb825ddb4b77a9": {
          "model_module": "@jupyter-widgets/controls",
          "model_name": "DescriptionStyleModel",
          "model_module_version": "1.5.0",
          "state": {
            "_model_module": "@jupyter-widgets/controls",
            "_model_module_version": "1.5.0",
            "_model_name": "DescriptionStyleModel",
            "_view_count": null,
            "_view_module": "@jupyter-widgets/base",
            "_view_module_version": "1.2.0",
            "_view_name": "StyleView",
            "description_width": ""
          }
        },
        "3bc2761f534043629dd426e5c4bfa51c": {
          "model_module": "@jupyter-widgets/base",
          "model_name": "LayoutModel",
          "model_module_version": "1.2.0",
          "state": {
            "_model_module": "@jupyter-widgets/base",
            "_model_module_version": "1.2.0",
            "_model_name": "LayoutModel",
            "_view_count": null,
            "_view_module": "@jupyter-widgets/base",
            "_view_module_version": "1.2.0",
            "_view_name": "LayoutView",
            "align_content": null,
            "align_items": null,
            "align_self": null,
            "border": null,
            "bottom": null,
            "display": null,
            "flex": null,
            "flex_flow": null,
            "grid_area": null,
            "grid_auto_columns": null,
            "grid_auto_flow": null,
            "grid_auto_rows": null,
            "grid_column": null,
            "grid_gap": null,
            "grid_row": null,
            "grid_template_areas": null,
            "grid_template_columns": null,
            "grid_template_rows": null,
            "height": null,
            "justify_content": null,
            "justify_items": null,
            "left": null,
            "margin": null,
            "max_height": null,
            "max_width": null,
            "min_height": null,
            "min_width": null,
            "object_fit": null,
            "object_position": null,
            "order": null,
            "overflow": null,
            "overflow_x": null,
            "overflow_y": null,
            "padding": null,
            "right": null,
            "top": null,
            "visibility": null,
            "width": null
          }
        },
        "c57075a4b7724151aa2c860d0546e804": {
          "model_module": "@jupyter-widgets/controls",
          "model_name": "ProgressStyleModel",
          "model_module_version": "1.5.0",
          "state": {
            "_model_module": "@jupyter-widgets/controls",
            "_model_module_version": "1.5.0",
            "_model_name": "ProgressStyleModel",
            "_view_count": null,
            "_view_module": "@jupyter-widgets/base",
            "_view_module_version": "1.2.0",
            "_view_name": "StyleView",
            "bar_color": null,
            "description_width": ""
          }
        },
        "1d0719a6e1014b25abb4b3aeb8c232d7": {
          "model_module": "@jupyter-widgets/base",
          "model_name": "LayoutModel",
          "model_module_version": "1.2.0",
          "state": {
            "_model_module": "@jupyter-widgets/base",
            "_model_module_version": "1.2.0",
            "_model_name": "LayoutModel",
            "_view_count": null,
            "_view_module": "@jupyter-widgets/base",
            "_view_module_version": "1.2.0",
            "_view_name": "LayoutView",
            "align_content": null,
            "align_items": null,
            "align_self": null,
            "border": null,
            "bottom": null,
            "display": null,
            "flex": null,
            "flex_flow": null,
            "grid_area": null,
            "grid_auto_columns": null,
            "grid_auto_flow": null,
            "grid_auto_rows": null,
            "grid_column": null,
            "grid_gap": null,
            "grid_row": null,
            "grid_template_areas": null,
            "grid_template_columns": null,
            "grid_template_rows": null,
            "height": null,
            "justify_content": null,
            "justify_items": null,
            "left": null,
            "margin": null,
            "max_height": null,
            "max_width": null,
            "min_height": null,
            "min_width": null,
            "object_fit": null,
            "object_position": null,
            "order": null,
            "overflow": null,
            "overflow_x": null,
            "overflow_y": null,
            "padding": null,
            "right": null,
            "top": null,
            "visibility": null,
            "width": null
          }
        },
        "f62ea651993f44cfa21d52d707b5050b": {
          "model_module": "@jupyter-widgets/controls",
          "model_name": "DescriptionStyleModel",
          "model_module_version": "1.5.0",
          "state": {
            "_model_module": "@jupyter-widgets/controls",
            "_model_module_version": "1.5.0",
            "_model_name": "DescriptionStyleModel",
            "_view_count": null,
            "_view_module": "@jupyter-widgets/base",
            "_view_module_version": "1.2.0",
            "_view_name": "StyleView",
            "description_width": ""
          }
        },
        "86ff40c41ed242a6ace81d90e933d158": {
          "model_module": "@jupyter-widgets/controls",
          "model_name": "HBoxModel",
          "model_module_version": "1.5.0",
          "state": {
            "_dom_classes": [],
            "_model_module": "@jupyter-widgets/controls",
            "_model_module_version": "1.5.0",
            "_model_name": "HBoxModel",
            "_view_count": null,
            "_view_module": "@jupyter-widgets/controls",
            "_view_module_version": "1.5.0",
            "_view_name": "HBoxView",
            "box_style": "",
            "children": [
              "IPY_MODEL_7a9a97f72c00426e89f97b51b3472a63",
              "IPY_MODEL_e9623c3d90714a2680577010d2bb1592",
              "IPY_MODEL_190699dc84b84bf3927a4a642df70707"
            ],
            "layout": "IPY_MODEL_d67a0f7b28fa4fbe84acf845114f2ffa"
          }
        },
        "7a9a97f72c00426e89f97b51b3472a63": {
          "model_module": "@jupyter-widgets/controls",
          "model_name": "HTMLModel",
          "model_module_version": "1.5.0",
          "state": {
            "_dom_classes": [],
            "_model_module": "@jupyter-widgets/controls",
            "_model_module_version": "1.5.0",
            "_model_name": "HTMLModel",
            "_view_count": null,
            "_view_module": "@jupyter-widgets/controls",
            "_view_module_version": "1.5.0",
            "_view_name": "HTMLView",
            "description": "",
            "description_tooltip": null,
            "layout": "IPY_MODEL_90d7978ad0e0425dbee250b2e351371b",
            "placeholder": "​",
            "style": "IPY_MODEL_e530961b87de44d79aa4a06c52e27d79",
            "value": "tokenizer.json: 100%"
          }
        },
        "e9623c3d90714a2680577010d2bb1592": {
          "model_module": "@jupyter-widgets/controls",
          "model_name": "FloatProgressModel",
          "model_module_version": "1.5.0",
          "state": {
            "_dom_classes": [],
            "_model_module": "@jupyter-widgets/controls",
            "_model_module_version": "1.5.0",
            "_model_name": "FloatProgressModel",
            "_view_count": null,
            "_view_module": "@jupyter-widgets/controls",
            "_view_module_version": "1.5.0",
            "_view_name": "ProgressView",
            "bar_style": "success",
            "description": "",
            "description_tooltip": null,
            "layout": "IPY_MODEL_bcbabf96b08f49ab982792f55d2dcf41",
            "max": 1355256,
            "min": 0,
            "orientation": "horizontal",
            "style": "IPY_MODEL_5787709f9a4e4947a31af377e653a20a",
            "value": 1355256
          }
        },
        "190699dc84b84bf3927a4a642df70707": {
          "model_module": "@jupyter-widgets/controls",
          "model_name": "HTMLModel",
          "model_module_version": "1.5.0",
          "state": {
            "_dom_classes": [],
            "_model_module": "@jupyter-widgets/controls",
            "_model_module_version": "1.5.0",
            "_model_name": "HTMLModel",
            "_view_count": null,
            "_view_module": "@jupyter-widgets/controls",
            "_view_module_version": "1.5.0",
            "_view_name": "HTMLView",
            "description": "",
            "description_tooltip": null,
            "layout": "IPY_MODEL_082b3e1fb47f42ba9ce5ccb1e528629e",
            "placeholder": "​",
            "style": "IPY_MODEL_658c45cdb9784ed684f054008d3dce07",
            "value": " 1.36M/1.36M [00:00&lt;00:00, 4.34MB/s]"
          }
        },
        "d67a0f7b28fa4fbe84acf845114f2ffa": {
          "model_module": "@jupyter-widgets/base",
          "model_name": "LayoutModel",
          "model_module_version": "1.2.0",
          "state": {
            "_model_module": "@jupyter-widgets/base",
            "_model_module_version": "1.2.0",
            "_model_name": "LayoutModel",
            "_view_count": null,
            "_view_module": "@jupyter-widgets/base",
            "_view_module_version": "1.2.0",
            "_view_name": "LayoutView",
            "align_content": null,
            "align_items": null,
            "align_self": null,
            "border": null,
            "bottom": null,
            "display": null,
            "flex": null,
            "flex_flow": null,
            "grid_area": null,
            "grid_auto_columns": null,
            "grid_auto_flow": null,
            "grid_auto_rows": null,
            "grid_column": null,
            "grid_gap": null,
            "grid_row": null,
            "grid_template_areas": null,
            "grid_template_columns": null,
            "grid_template_rows": null,
            "height": null,
            "justify_content": null,
            "justify_items": null,
            "left": null,
            "margin": null,
            "max_height": null,
            "max_width": null,
            "min_height": null,
            "min_width": null,
            "object_fit": null,
            "object_position": null,
            "order": null,
            "overflow": null,
            "overflow_x": null,
            "overflow_y": null,
            "padding": null,
            "right": null,
            "top": null,
            "visibility": null,
            "width": null
          }
        },
        "90d7978ad0e0425dbee250b2e351371b": {
          "model_module": "@jupyter-widgets/base",
          "model_name": "LayoutModel",
          "model_module_version": "1.2.0",
          "state": {
            "_model_module": "@jupyter-widgets/base",
            "_model_module_version": "1.2.0",
            "_model_name": "LayoutModel",
            "_view_count": null,
            "_view_module": "@jupyter-widgets/base",
            "_view_module_version": "1.2.0",
            "_view_name": "LayoutView",
            "align_content": null,
            "align_items": null,
            "align_self": null,
            "border": null,
            "bottom": null,
            "display": null,
            "flex": null,
            "flex_flow": null,
            "grid_area": null,
            "grid_auto_columns": null,
            "grid_auto_flow": null,
            "grid_auto_rows": null,
            "grid_column": null,
            "grid_gap": null,
            "grid_row": null,
            "grid_template_areas": null,
            "grid_template_columns": null,
            "grid_template_rows": null,
            "height": null,
            "justify_content": null,
            "justify_items": null,
            "left": null,
            "margin": null,
            "max_height": null,
            "max_width": null,
            "min_height": null,
            "min_width": null,
            "object_fit": null,
            "object_position": null,
            "order": null,
            "overflow": null,
            "overflow_x": null,
            "overflow_y": null,
            "padding": null,
            "right": null,
            "top": null,
            "visibility": null,
            "width": null
          }
        },
        "e530961b87de44d79aa4a06c52e27d79": {
          "model_module": "@jupyter-widgets/controls",
          "model_name": "DescriptionStyleModel",
          "model_module_version": "1.5.0",
          "state": {
            "_model_module": "@jupyter-widgets/controls",
            "_model_module_version": "1.5.0",
            "_model_name": "DescriptionStyleModel",
            "_view_count": null,
            "_view_module": "@jupyter-widgets/base",
            "_view_module_version": "1.2.0",
            "_view_name": "StyleView",
            "description_width": ""
          }
        },
        "bcbabf96b08f49ab982792f55d2dcf41": {
          "model_module": "@jupyter-widgets/base",
          "model_name": "LayoutModel",
          "model_module_version": "1.2.0",
          "state": {
            "_model_module": "@jupyter-widgets/base",
            "_model_module_version": "1.2.0",
            "_model_name": "LayoutModel",
            "_view_count": null,
            "_view_module": "@jupyter-widgets/base",
            "_view_module_version": "1.2.0",
            "_view_name": "LayoutView",
            "align_content": null,
            "align_items": null,
            "align_self": null,
            "border": null,
            "bottom": null,
            "display": null,
            "flex": null,
            "flex_flow": null,
            "grid_area": null,
            "grid_auto_columns": null,
            "grid_auto_flow": null,
            "grid_auto_rows": null,
            "grid_column": null,
            "grid_gap": null,
            "grid_row": null,
            "grid_template_areas": null,
            "grid_template_columns": null,
            "grid_template_rows": null,
            "height": null,
            "justify_content": null,
            "justify_items": null,
            "left": null,
            "margin": null,
            "max_height": null,
            "max_width": null,
            "min_height": null,
            "min_width": null,
            "object_fit": null,
            "object_position": null,
            "order": null,
            "overflow": null,
            "overflow_x": null,
            "overflow_y": null,
            "padding": null,
            "right": null,
            "top": null,
            "visibility": null,
            "width": null
          }
        },
        "5787709f9a4e4947a31af377e653a20a": {
          "model_module": "@jupyter-widgets/controls",
          "model_name": "ProgressStyleModel",
          "model_module_version": "1.5.0",
          "state": {
            "_model_module": "@jupyter-widgets/controls",
            "_model_module_version": "1.5.0",
            "_model_name": "ProgressStyleModel",
            "_view_count": null,
            "_view_module": "@jupyter-widgets/base",
            "_view_module_version": "1.2.0",
            "_view_name": "StyleView",
            "bar_color": null,
            "description_width": ""
          }
        },
        "082b3e1fb47f42ba9ce5ccb1e528629e": {
          "model_module": "@jupyter-widgets/base",
          "model_name": "LayoutModel",
          "model_module_version": "1.2.0",
          "state": {
            "_model_module": "@jupyter-widgets/base",
            "_model_module_version": "1.2.0",
            "_model_name": "LayoutModel",
            "_view_count": null,
            "_view_module": "@jupyter-widgets/base",
            "_view_module_version": "1.2.0",
            "_view_name": "LayoutView",
            "align_content": null,
            "align_items": null,
            "align_self": null,
            "border": null,
            "bottom": null,
            "display": null,
            "flex": null,
            "flex_flow": null,
            "grid_area": null,
            "grid_auto_columns": null,
            "grid_auto_flow": null,
            "grid_auto_rows": null,
            "grid_column": null,
            "grid_gap": null,
            "grid_row": null,
            "grid_template_areas": null,
            "grid_template_columns": null,
            "grid_template_rows": null,
            "height": null,
            "justify_content": null,
            "justify_items": null,
            "left": null,
            "margin": null,
            "max_height": null,
            "max_width": null,
            "min_height": null,
            "min_width": null,
            "object_fit": null,
            "object_position": null,
            "order": null,
            "overflow": null,
            "overflow_x": null,
            "overflow_y": null,
            "padding": null,
            "right": null,
            "top": null,
            "visibility": null,
            "width": null
          }
        },
        "658c45cdb9784ed684f054008d3dce07": {
          "model_module": "@jupyter-widgets/controls",
          "model_name": "DescriptionStyleModel",
          "model_module_version": "1.5.0",
          "state": {
            "_model_module": "@jupyter-widgets/controls",
            "_model_module_version": "1.5.0",
            "_model_name": "DescriptionStyleModel",
            "_view_count": null,
            "_view_module": "@jupyter-widgets/base",
            "_view_module_version": "1.2.0",
            "_view_name": "StyleView",
            "description_width": ""
          }
        },
        "f10fef14054a43fabbc6f773dd3d79e9": {
          "model_module": "@jupyter-widgets/controls",
          "model_name": "HBoxModel",
          "model_module_version": "1.5.0",
          "state": {
            "_dom_classes": [],
            "_model_module": "@jupyter-widgets/controls",
            "_model_module_version": "1.5.0",
            "_model_name": "HBoxModel",
            "_view_count": null,
            "_view_module": "@jupyter-widgets/controls",
            "_view_module_version": "1.5.0",
            "_view_name": "HBoxView",
            "box_style": "",
            "children": [
              "IPY_MODEL_379116831d274703b13e2a721e8277e3",
              "IPY_MODEL_7574336e4ea843f98a2c4fd2128c33b7",
              "IPY_MODEL_346f12bc74ed43abb68a602d6fe8a88a"
            ],
            "layout": "IPY_MODEL_c1dbb6abcc524cd698361b1f3a64a6f1"
          }
        },
        "379116831d274703b13e2a721e8277e3": {
          "model_module": "@jupyter-widgets/controls",
          "model_name": "HTMLModel",
          "model_module_version": "1.5.0",
          "state": {
            "_dom_classes": [],
            "_model_module": "@jupyter-widgets/controls",
            "_model_module_version": "1.5.0",
            "_model_name": "HTMLModel",
            "_view_count": null,
            "_view_module": "@jupyter-widgets/controls",
            "_view_module_version": "1.5.0",
            "_view_name": "HTMLView",
            "description": "",
            "description_tooltip": null,
            "layout": "IPY_MODEL_89de0db6ce7b44b7bc1222b3544c2e1d",
            "placeholder": "​",
            "style": "IPY_MODEL_7fd3ceb4b44c447abc50423c05c02a43",
            "value": "config.json: 100%"
          }
        },
        "7574336e4ea843f98a2c4fd2128c33b7": {
          "model_module": "@jupyter-widgets/controls",
          "model_name": "FloatProgressModel",
          "model_module_version": "1.5.0",
          "state": {
            "_dom_classes": [],
            "_model_module": "@jupyter-widgets/controls",
            "_model_module_version": "1.5.0",
            "_model_name": "FloatProgressModel",
            "_view_count": null,
            "_view_module": "@jupyter-widgets/controls",
            "_view_module_version": "1.5.0",
            "_view_name": "ProgressView",
            "bar_style": "success",
            "description": "",
            "description_tooltip": null,
            "layout": "IPY_MODEL_9d83372dbc064e71b273d38339aa691c",
            "max": 665,
            "min": 0,
            "orientation": "horizontal",
            "style": "IPY_MODEL_6f5cc1b98369428393bbfedeab8c7764",
            "value": 665
          }
        },
        "346f12bc74ed43abb68a602d6fe8a88a": {
          "model_module": "@jupyter-widgets/controls",
          "model_name": "HTMLModel",
          "model_module_version": "1.5.0",
          "state": {
            "_dom_classes": [],
            "_model_module": "@jupyter-widgets/controls",
            "_model_module_version": "1.5.0",
            "_model_name": "HTMLModel",
            "_view_count": null,
            "_view_module": "@jupyter-widgets/controls",
            "_view_module_version": "1.5.0",
            "_view_name": "HTMLView",
            "description": "",
            "description_tooltip": null,
            "layout": "IPY_MODEL_c79ab95efec042ad86d718666ef2f30c",
            "placeholder": "​",
            "style": "IPY_MODEL_6523f669854340eb977148790822b14f",
            "value": " 665/665 [00:00&lt;00:00, 12.6kB/s]"
          }
        },
        "c1dbb6abcc524cd698361b1f3a64a6f1": {
          "model_module": "@jupyter-widgets/base",
          "model_name": "LayoutModel",
          "model_module_version": "1.2.0",
          "state": {
            "_model_module": "@jupyter-widgets/base",
            "_model_module_version": "1.2.0",
            "_model_name": "LayoutModel",
            "_view_count": null,
            "_view_module": "@jupyter-widgets/base",
            "_view_module_version": "1.2.0",
            "_view_name": "LayoutView",
            "align_content": null,
            "align_items": null,
            "align_self": null,
            "border": null,
            "bottom": null,
            "display": null,
            "flex": null,
            "flex_flow": null,
            "grid_area": null,
            "grid_auto_columns": null,
            "grid_auto_flow": null,
            "grid_auto_rows": null,
            "grid_column": null,
            "grid_gap": null,
            "grid_row": null,
            "grid_template_areas": null,
            "grid_template_columns": null,
            "grid_template_rows": null,
            "height": null,
            "justify_content": null,
            "justify_items": null,
            "left": null,
            "margin": null,
            "max_height": null,
            "max_width": null,
            "min_height": null,
            "min_width": null,
            "object_fit": null,
            "object_position": null,
            "order": null,
            "overflow": null,
            "overflow_x": null,
            "overflow_y": null,
            "padding": null,
            "right": null,
            "top": null,
            "visibility": null,
            "width": null
          }
        },
        "89de0db6ce7b44b7bc1222b3544c2e1d": {
          "model_module": "@jupyter-widgets/base",
          "model_name": "LayoutModel",
          "model_module_version": "1.2.0",
          "state": {
            "_model_module": "@jupyter-widgets/base",
            "_model_module_version": "1.2.0",
            "_model_name": "LayoutModel",
            "_view_count": null,
            "_view_module": "@jupyter-widgets/base",
            "_view_module_version": "1.2.0",
            "_view_name": "LayoutView",
            "align_content": null,
            "align_items": null,
            "align_self": null,
            "border": null,
            "bottom": null,
            "display": null,
            "flex": null,
            "flex_flow": null,
            "grid_area": null,
            "grid_auto_columns": null,
            "grid_auto_flow": null,
            "grid_auto_rows": null,
            "grid_column": null,
            "grid_gap": null,
            "grid_row": null,
            "grid_template_areas": null,
            "grid_template_columns": null,
            "grid_template_rows": null,
            "height": null,
            "justify_content": null,
            "justify_items": null,
            "left": null,
            "margin": null,
            "max_height": null,
            "max_width": null,
            "min_height": null,
            "min_width": null,
            "object_fit": null,
            "object_position": null,
            "order": null,
            "overflow": null,
            "overflow_x": null,
            "overflow_y": null,
            "padding": null,
            "right": null,
            "top": null,
            "visibility": null,
            "width": null
          }
        },
        "7fd3ceb4b44c447abc50423c05c02a43": {
          "model_module": "@jupyter-widgets/controls",
          "model_name": "DescriptionStyleModel",
          "model_module_version": "1.5.0",
          "state": {
            "_model_module": "@jupyter-widgets/controls",
            "_model_module_version": "1.5.0",
            "_model_name": "DescriptionStyleModel",
            "_view_count": null,
            "_view_module": "@jupyter-widgets/base",
            "_view_module_version": "1.2.0",
            "_view_name": "StyleView",
            "description_width": ""
          }
        },
        "9d83372dbc064e71b273d38339aa691c": {
          "model_module": "@jupyter-widgets/base",
          "model_name": "LayoutModel",
          "model_module_version": "1.2.0",
          "state": {
            "_model_module": "@jupyter-widgets/base",
            "_model_module_version": "1.2.0",
            "_model_name": "LayoutModel",
            "_view_count": null,
            "_view_module": "@jupyter-widgets/base",
            "_view_module_version": "1.2.0",
            "_view_name": "LayoutView",
            "align_content": null,
            "align_items": null,
            "align_self": null,
            "border": null,
            "bottom": null,
            "display": null,
            "flex": null,
            "flex_flow": null,
            "grid_area": null,
            "grid_auto_columns": null,
            "grid_auto_flow": null,
            "grid_auto_rows": null,
            "grid_column": null,
            "grid_gap": null,
            "grid_row": null,
            "grid_template_areas": null,
            "grid_template_columns": null,
            "grid_template_rows": null,
            "height": null,
            "justify_content": null,
            "justify_items": null,
            "left": null,
            "margin": null,
            "max_height": null,
            "max_width": null,
            "min_height": null,
            "min_width": null,
            "object_fit": null,
            "object_position": null,
            "order": null,
            "overflow": null,
            "overflow_x": null,
            "overflow_y": null,
            "padding": null,
            "right": null,
            "top": null,
            "visibility": null,
            "width": null
          }
        },
        "6f5cc1b98369428393bbfedeab8c7764": {
          "model_module": "@jupyter-widgets/controls",
          "model_name": "ProgressStyleModel",
          "model_module_version": "1.5.0",
          "state": {
            "_model_module": "@jupyter-widgets/controls",
            "_model_module_version": "1.5.0",
            "_model_name": "ProgressStyleModel",
            "_view_count": null,
            "_view_module": "@jupyter-widgets/base",
            "_view_module_version": "1.2.0",
            "_view_name": "StyleView",
            "bar_color": null,
            "description_width": ""
          }
        },
        "c79ab95efec042ad86d718666ef2f30c": {
          "model_module": "@jupyter-widgets/base",
          "model_name": "LayoutModel",
          "model_module_version": "1.2.0",
          "state": {
            "_model_module": "@jupyter-widgets/base",
            "_model_module_version": "1.2.0",
            "_model_name": "LayoutModel",
            "_view_count": null,
            "_view_module": "@jupyter-widgets/base",
            "_view_module_version": "1.2.0",
            "_view_name": "LayoutView",
            "align_content": null,
            "align_items": null,
            "align_self": null,
            "border": null,
            "bottom": null,
            "display": null,
            "flex": null,
            "flex_flow": null,
            "grid_area": null,
            "grid_auto_columns": null,
            "grid_auto_flow": null,
            "grid_auto_rows": null,
            "grid_column": null,
            "grid_gap": null,
            "grid_row": null,
            "grid_template_areas": null,
            "grid_template_columns": null,
            "grid_template_rows": null,
            "height": null,
            "justify_content": null,
            "justify_items": null,
            "left": null,
            "margin": null,
            "max_height": null,
            "max_width": null,
            "min_height": null,
            "min_width": null,
            "object_fit": null,
            "object_position": null,
            "order": null,
            "overflow": null,
            "overflow_x": null,
            "overflow_y": null,
            "padding": null,
            "right": null,
            "top": null,
            "visibility": null,
            "width": null
          }
        },
        "6523f669854340eb977148790822b14f": {
          "model_module": "@jupyter-widgets/controls",
          "model_name": "DescriptionStyleModel",
          "model_module_version": "1.5.0",
          "state": {
            "_model_module": "@jupyter-widgets/controls",
            "_model_module_version": "1.5.0",
            "_model_name": "DescriptionStyleModel",
            "_view_count": null,
            "_view_module": "@jupyter-widgets/base",
            "_view_module_version": "1.2.0",
            "_view_name": "StyleView",
            "description_width": ""
          }
        },
        "ecb15b1b8c41452a8aee4f83149af27e": {
          "model_module": "@jupyter-widgets/controls",
          "model_name": "HBoxModel",
          "model_module_version": "1.5.0",
          "state": {
            "_dom_classes": [],
            "_model_module": "@jupyter-widgets/controls",
            "_model_module_version": "1.5.0",
            "_model_name": "HBoxModel",
            "_view_count": null,
            "_view_module": "@jupyter-widgets/controls",
            "_view_module_version": "1.5.0",
            "_view_name": "HBoxView",
            "box_style": "",
            "children": [
              "IPY_MODEL_b1f4dba5789d4d0bb2708624c78afcb9",
              "IPY_MODEL_6ce6db15d9064cf6b4bc821c2b2ba2ae",
              "IPY_MODEL_1882dec585c8421694c1d9d6d804d87b"
            ],
            "layout": "IPY_MODEL_0e71dbe06e43400da3af4b15ae0aea79"
          }
        },
        "b1f4dba5789d4d0bb2708624c78afcb9": {
          "model_module": "@jupyter-widgets/controls",
          "model_name": "HTMLModel",
          "model_module_version": "1.5.0",
          "state": {
            "_dom_classes": [],
            "_model_module": "@jupyter-widgets/controls",
            "_model_module_version": "1.5.0",
            "_model_name": "HTMLModel",
            "_view_count": null,
            "_view_module": "@jupyter-widgets/controls",
            "_view_module_version": "1.5.0",
            "_view_name": "HTMLView",
            "description": "",
            "description_tooltip": null,
            "layout": "IPY_MODEL_9b65d0082a8946e2ba5ff8f8aff37e6c",
            "placeholder": "​",
            "style": "IPY_MODEL_d73f51869803449ab82312cdc3b75c76",
            "value": "model.safetensors: 100%"
          }
        },
        "6ce6db15d9064cf6b4bc821c2b2ba2ae": {
          "model_module": "@jupyter-widgets/controls",
          "model_name": "FloatProgressModel",
          "model_module_version": "1.5.0",
          "state": {
            "_dom_classes": [],
            "_model_module": "@jupyter-widgets/controls",
            "_model_module_version": "1.5.0",
            "_model_name": "FloatProgressModel",
            "_view_count": null,
            "_view_module": "@jupyter-widgets/controls",
            "_view_module_version": "1.5.0",
            "_view_name": "ProgressView",
            "bar_style": "success",
            "description": "",
            "description_tooltip": null,
            "layout": "IPY_MODEL_6cfa8d3782644db2adac47414d0cf61a",
            "max": 548105171,
            "min": 0,
            "orientation": "horizontal",
            "style": "IPY_MODEL_f83d2eb0bbd9436280a64db5a738afa6",
            "value": 548105171
          }
        },
        "1882dec585c8421694c1d9d6d804d87b": {
          "model_module": "@jupyter-widgets/controls",
          "model_name": "HTMLModel",
          "model_module_version": "1.5.0",
          "state": {
            "_dom_classes": [],
            "_model_module": "@jupyter-widgets/controls",
            "_model_module_version": "1.5.0",
            "_model_name": "HTMLModel",
            "_view_count": null,
            "_view_module": "@jupyter-widgets/controls",
            "_view_module_version": "1.5.0",
            "_view_name": "HTMLView",
            "description": "",
            "description_tooltip": null,
            "layout": "IPY_MODEL_ead67d5089d84d71b435b95c8ef864eb",
            "placeholder": "​",
            "style": "IPY_MODEL_f6f8257457944552a8d071e3a284eae0",
            "value": " 548M/548M [00:07&lt;00:00, 122MB/s]"
          }
        },
        "0e71dbe06e43400da3af4b15ae0aea79": {
          "model_module": "@jupyter-widgets/base",
          "model_name": "LayoutModel",
          "model_module_version": "1.2.0",
          "state": {
            "_model_module": "@jupyter-widgets/base",
            "_model_module_version": "1.2.0",
            "_model_name": "LayoutModel",
            "_view_count": null,
            "_view_module": "@jupyter-widgets/base",
            "_view_module_version": "1.2.0",
            "_view_name": "LayoutView",
            "align_content": null,
            "align_items": null,
            "align_self": null,
            "border": null,
            "bottom": null,
            "display": null,
            "flex": null,
            "flex_flow": null,
            "grid_area": null,
            "grid_auto_columns": null,
            "grid_auto_flow": null,
            "grid_auto_rows": null,
            "grid_column": null,
            "grid_gap": null,
            "grid_row": null,
            "grid_template_areas": null,
            "grid_template_columns": null,
            "grid_template_rows": null,
            "height": null,
            "justify_content": null,
            "justify_items": null,
            "left": null,
            "margin": null,
            "max_height": null,
            "max_width": null,
            "min_height": null,
            "min_width": null,
            "object_fit": null,
            "object_position": null,
            "order": null,
            "overflow": null,
            "overflow_x": null,
            "overflow_y": null,
            "padding": null,
            "right": null,
            "top": null,
            "visibility": null,
            "width": null
          }
        },
        "9b65d0082a8946e2ba5ff8f8aff37e6c": {
          "model_module": "@jupyter-widgets/base",
          "model_name": "LayoutModel",
          "model_module_version": "1.2.0",
          "state": {
            "_model_module": "@jupyter-widgets/base",
            "_model_module_version": "1.2.0",
            "_model_name": "LayoutModel",
            "_view_count": null,
            "_view_module": "@jupyter-widgets/base",
            "_view_module_version": "1.2.0",
            "_view_name": "LayoutView",
            "align_content": null,
            "align_items": null,
            "align_self": null,
            "border": null,
            "bottom": null,
            "display": null,
            "flex": null,
            "flex_flow": null,
            "grid_area": null,
            "grid_auto_columns": null,
            "grid_auto_flow": null,
            "grid_auto_rows": null,
            "grid_column": null,
            "grid_gap": null,
            "grid_row": null,
            "grid_template_areas": null,
            "grid_template_columns": null,
            "grid_template_rows": null,
            "height": null,
            "justify_content": null,
            "justify_items": null,
            "left": null,
            "margin": null,
            "max_height": null,
            "max_width": null,
            "min_height": null,
            "min_width": null,
            "object_fit": null,
            "object_position": null,
            "order": null,
            "overflow": null,
            "overflow_x": null,
            "overflow_y": null,
            "padding": null,
            "right": null,
            "top": null,
            "visibility": null,
            "width": null
          }
        },
        "d73f51869803449ab82312cdc3b75c76": {
          "model_module": "@jupyter-widgets/controls",
          "model_name": "DescriptionStyleModel",
          "model_module_version": "1.5.0",
          "state": {
            "_model_module": "@jupyter-widgets/controls",
            "_model_module_version": "1.5.0",
            "_model_name": "DescriptionStyleModel",
            "_view_count": null,
            "_view_module": "@jupyter-widgets/base",
            "_view_module_version": "1.2.0",
            "_view_name": "StyleView",
            "description_width": ""
          }
        },
        "6cfa8d3782644db2adac47414d0cf61a": {
          "model_module": "@jupyter-widgets/base",
          "model_name": "LayoutModel",
          "model_module_version": "1.2.0",
          "state": {
            "_model_module": "@jupyter-widgets/base",
            "_model_module_version": "1.2.0",
            "_model_name": "LayoutModel",
            "_view_count": null,
            "_view_module": "@jupyter-widgets/base",
            "_view_module_version": "1.2.0",
            "_view_name": "LayoutView",
            "align_content": null,
            "align_items": null,
            "align_self": null,
            "border": null,
            "bottom": null,
            "display": null,
            "flex": null,
            "flex_flow": null,
            "grid_area": null,
            "grid_auto_columns": null,
            "grid_auto_flow": null,
            "grid_auto_rows": null,
            "grid_column": null,
            "grid_gap": null,
            "grid_row": null,
            "grid_template_areas": null,
            "grid_template_columns": null,
            "grid_template_rows": null,
            "height": null,
            "justify_content": null,
            "justify_items": null,
            "left": null,
            "margin": null,
            "max_height": null,
            "max_width": null,
            "min_height": null,
            "min_width": null,
            "object_fit": null,
            "object_position": null,
            "order": null,
            "overflow": null,
            "overflow_x": null,
            "overflow_y": null,
            "padding": null,
            "right": null,
            "top": null,
            "visibility": null,
            "width": null
          }
        },
        "f83d2eb0bbd9436280a64db5a738afa6": {
          "model_module": "@jupyter-widgets/controls",
          "model_name": "ProgressStyleModel",
          "model_module_version": "1.5.0",
          "state": {
            "_model_module": "@jupyter-widgets/controls",
            "_model_module_version": "1.5.0",
            "_model_name": "ProgressStyleModel",
            "_view_count": null,
            "_view_module": "@jupyter-widgets/base",
            "_view_module_version": "1.2.0",
            "_view_name": "StyleView",
            "bar_color": null,
            "description_width": ""
          }
        },
        "ead67d5089d84d71b435b95c8ef864eb": {
          "model_module": "@jupyter-widgets/base",
          "model_name": "LayoutModel",
          "model_module_version": "1.2.0",
          "state": {
            "_model_module": "@jupyter-widgets/base",
            "_model_module_version": "1.2.0",
            "_model_name": "LayoutModel",
            "_view_count": null,
            "_view_module": "@jupyter-widgets/base",
            "_view_module_version": "1.2.0",
            "_view_name": "LayoutView",
            "align_content": null,
            "align_items": null,
            "align_self": null,
            "border": null,
            "bottom": null,
            "display": null,
            "flex": null,
            "flex_flow": null,
            "grid_area": null,
            "grid_auto_columns": null,
            "grid_auto_flow": null,
            "grid_auto_rows": null,
            "grid_column": null,
            "grid_gap": null,
            "grid_row": null,
            "grid_template_areas": null,
            "grid_template_columns": null,
            "grid_template_rows": null,
            "height": null,
            "justify_content": null,
            "justify_items": null,
            "left": null,
            "margin": null,
            "max_height": null,
            "max_width": null,
            "min_height": null,
            "min_width": null,
            "object_fit": null,
            "object_position": null,
            "order": null,
            "overflow": null,
            "overflow_x": null,
            "overflow_y": null,
            "padding": null,
            "right": null,
            "top": null,
            "visibility": null,
            "width": null
          }
        },
        "f6f8257457944552a8d071e3a284eae0": {
          "model_module": "@jupyter-widgets/controls",
          "model_name": "DescriptionStyleModel",
          "model_module_version": "1.5.0",
          "state": {
            "_model_module": "@jupyter-widgets/controls",
            "_model_module_version": "1.5.0",
            "_model_name": "DescriptionStyleModel",
            "_view_count": null,
            "_view_module": "@jupyter-widgets/base",
            "_view_module_version": "1.2.0",
            "_view_name": "StyleView",
            "description_width": ""
          }
        },
        "a3cae479df8b4caeaf24ccfa40de3e87": {
          "model_module": "@jupyter-widgets/controls",
          "model_name": "HBoxModel",
          "model_module_version": "1.5.0",
          "state": {
            "_dom_classes": [],
            "_model_module": "@jupyter-widgets/controls",
            "_model_module_version": "1.5.0",
            "_model_name": "HBoxModel",
            "_view_count": null,
            "_view_module": "@jupyter-widgets/controls",
            "_view_module_version": "1.5.0",
            "_view_name": "HBoxView",
            "box_style": "",
            "children": [
              "IPY_MODEL_a4973ee4e195471f8675b2254ab5f78c",
              "IPY_MODEL_4234b4a05b1d433a939ea374123cde33",
              "IPY_MODEL_0860912ab15a4e588517411037410639"
            ],
            "layout": "IPY_MODEL_0a8deaac3d714211846a2086f1099db6"
          }
        },
        "a4973ee4e195471f8675b2254ab5f78c": {
          "model_module": "@jupyter-widgets/controls",
          "model_name": "HTMLModel",
          "model_module_version": "1.5.0",
          "state": {
            "_dom_classes": [],
            "_model_module": "@jupyter-widgets/controls",
            "_model_module_version": "1.5.0",
            "_model_name": "HTMLModel",
            "_view_count": null,
            "_view_module": "@jupyter-widgets/controls",
            "_view_module_version": "1.5.0",
            "_view_name": "HTMLView",
            "description": "",
            "description_tooltip": null,
            "layout": "IPY_MODEL_020ff90ff4a644a09f89913494f5cbeb",
            "placeholder": "​",
            "style": "IPY_MODEL_19ef0fa46aa24331858819c8aec9622d",
            "value": "generation_config.json: 100%"
          }
        },
        "4234b4a05b1d433a939ea374123cde33": {
          "model_module": "@jupyter-widgets/controls",
          "model_name": "FloatProgressModel",
          "model_module_version": "1.5.0",
          "state": {
            "_dom_classes": [],
            "_model_module": "@jupyter-widgets/controls",
            "_model_module_version": "1.5.0",
            "_model_name": "FloatProgressModel",
            "_view_count": null,
            "_view_module": "@jupyter-widgets/controls",
            "_view_module_version": "1.5.0",
            "_view_name": "ProgressView",
            "bar_style": "success",
            "description": "",
            "description_tooltip": null,
            "layout": "IPY_MODEL_615f9adcb65a4286a6873550056539d8",
            "max": 124,
            "min": 0,
            "orientation": "horizontal",
            "style": "IPY_MODEL_ec5957c65bc44d9d9f46c82a16ac6758",
            "value": 124
          }
        },
        "0860912ab15a4e588517411037410639": {
          "model_module": "@jupyter-widgets/controls",
          "model_name": "HTMLModel",
          "model_module_version": "1.5.0",
          "state": {
            "_dom_classes": [],
            "_model_module": "@jupyter-widgets/controls",
            "_model_module_version": "1.5.0",
            "_model_name": "HTMLModel",
            "_view_count": null,
            "_view_module": "@jupyter-widgets/controls",
            "_view_module_version": "1.5.0",
            "_view_name": "HTMLView",
            "description": "",
            "description_tooltip": null,
            "layout": "IPY_MODEL_e4b9a0ecdaaa496dab1e7d84d1853703",
            "placeholder": "​",
            "style": "IPY_MODEL_b80a485a54a4424a89f182dc2f9ea085",
            "value": " 124/124 [00:00&lt;00:00, 3.26kB/s]"
          }
        },
        "0a8deaac3d714211846a2086f1099db6": {
          "model_module": "@jupyter-widgets/base",
          "model_name": "LayoutModel",
          "model_module_version": "1.2.0",
          "state": {
            "_model_module": "@jupyter-widgets/base",
            "_model_module_version": "1.2.0",
            "_model_name": "LayoutModel",
            "_view_count": null,
            "_view_module": "@jupyter-widgets/base",
            "_view_module_version": "1.2.0",
            "_view_name": "LayoutView",
            "align_content": null,
            "align_items": null,
            "align_self": null,
            "border": null,
            "bottom": null,
            "display": null,
            "flex": null,
            "flex_flow": null,
            "grid_area": null,
            "grid_auto_columns": null,
            "grid_auto_flow": null,
            "grid_auto_rows": null,
            "grid_column": null,
            "grid_gap": null,
            "grid_row": null,
            "grid_template_areas": null,
            "grid_template_columns": null,
            "grid_template_rows": null,
            "height": null,
            "justify_content": null,
            "justify_items": null,
            "left": null,
            "margin": null,
            "max_height": null,
            "max_width": null,
            "min_height": null,
            "min_width": null,
            "object_fit": null,
            "object_position": null,
            "order": null,
            "overflow": null,
            "overflow_x": null,
            "overflow_y": null,
            "padding": null,
            "right": null,
            "top": null,
            "visibility": null,
            "width": null
          }
        },
        "020ff90ff4a644a09f89913494f5cbeb": {
          "model_module": "@jupyter-widgets/base",
          "model_name": "LayoutModel",
          "model_module_version": "1.2.0",
          "state": {
            "_model_module": "@jupyter-widgets/base",
            "_model_module_version": "1.2.0",
            "_model_name": "LayoutModel",
            "_view_count": null,
            "_view_module": "@jupyter-widgets/base",
            "_view_module_version": "1.2.0",
            "_view_name": "LayoutView",
            "align_content": null,
            "align_items": null,
            "align_self": null,
            "border": null,
            "bottom": null,
            "display": null,
            "flex": null,
            "flex_flow": null,
            "grid_area": null,
            "grid_auto_columns": null,
            "grid_auto_flow": null,
            "grid_auto_rows": null,
            "grid_column": null,
            "grid_gap": null,
            "grid_row": null,
            "grid_template_areas": null,
            "grid_template_columns": null,
            "grid_template_rows": null,
            "height": null,
            "justify_content": null,
            "justify_items": null,
            "left": null,
            "margin": null,
            "max_height": null,
            "max_width": null,
            "min_height": null,
            "min_width": null,
            "object_fit": null,
            "object_position": null,
            "order": null,
            "overflow": null,
            "overflow_x": null,
            "overflow_y": null,
            "padding": null,
            "right": null,
            "top": null,
            "visibility": null,
            "width": null
          }
        },
        "19ef0fa46aa24331858819c8aec9622d": {
          "model_module": "@jupyter-widgets/controls",
          "model_name": "DescriptionStyleModel",
          "model_module_version": "1.5.0",
          "state": {
            "_model_module": "@jupyter-widgets/controls",
            "_model_module_version": "1.5.0",
            "_model_name": "DescriptionStyleModel",
            "_view_count": null,
            "_view_module": "@jupyter-widgets/base",
            "_view_module_version": "1.2.0",
            "_view_name": "StyleView",
            "description_width": ""
          }
        },
        "615f9adcb65a4286a6873550056539d8": {
          "model_module": "@jupyter-widgets/base",
          "model_name": "LayoutModel",
          "model_module_version": "1.2.0",
          "state": {
            "_model_module": "@jupyter-widgets/base",
            "_model_module_version": "1.2.0",
            "_model_name": "LayoutModel",
            "_view_count": null,
            "_view_module": "@jupyter-widgets/base",
            "_view_module_version": "1.2.0",
            "_view_name": "LayoutView",
            "align_content": null,
            "align_items": null,
            "align_self": null,
            "border": null,
            "bottom": null,
            "display": null,
            "flex": null,
            "flex_flow": null,
            "grid_area": null,
            "grid_auto_columns": null,
            "grid_auto_flow": null,
            "grid_auto_rows": null,
            "grid_column": null,
            "grid_gap": null,
            "grid_row": null,
            "grid_template_areas": null,
            "grid_template_columns": null,
            "grid_template_rows": null,
            "height": null,
            "justify_content": null,
            "justify_items": null,
            "left": null,
            "margin": null,
            "max_height": null,
            "max_width": null,
            "min_height": null,
            "min_width": null,
            "object_fit": null,
            "object_position": null,
            "order": null,
            "overflow": null,
            "overflow_x": null,
            "overflow_y": null,
            "padding": null,
            "right": null,
            "top": null,
            "visibility": null,
            "width": null
          }
        },
        "ec5957c65bc44d9d9f46c82a16ac6758": {
          "model_module": "@jupyter-widgets/controls",
          "model_name": "ProgressStyleModel",
          "model_module_version": "1.5.0",
          "state": {
            "_model_module": "@jupyter-widgets/controls",
            "_model_module_version": "1.5.0",
            "_model_name": "ProgressStyleModel",
            "_view_count": null,
            "_view_module": "@jupyter-widgets/base",
            "_view_module_version": "1.2.0",
            "_view_name": "StyleView",
            "bar_color": null,
            "description_width": ""
          }
        },
        "e4b9a0ecdaaa496dab1e7d84d1853703": {
          "model_module": "@jupyter-widgets/base",
          "model_name": "LayoutModel",
          "model_module_version": "1.2.0",
          "state": {
            "_model_module": "@jupyter-widgets/base",
            "_model_module_version": "1.2.0",
            "_model_name": "LayoutModel",
            "_view_count": null,
            "_view_module": "@jupyter-widgets/base",
            "_view_module_version": "1.2.0",
            "_view_name": "LayoutView",
            "align_content": null,
            "align_items": null,
            "align_self": null,
            "border": null,
            "bottom": null,
            "display": null,
            "flex": null,
            "flex_flow": null,
            "grid_area": null,
            "grid_auto_columns": null,
            "grid_auto_flow": null,
            "grid_auto_rows": null,
            "grid_column": null,
            "grid_gap": null,
            "grid_row": null,
            "grid_template_areas": null,
            "grid_template_columns": null,
            "grid_template_rows": null,
            "height": null,
            "justify_content": null,
            "justify_items": null,
            "left": null,
            "margin": null,
            "max_height": null,
            "max_width": null,
            "min_height": null,
            "min_width": null,
            "object_fit": null,
            "object_position": null,
            "order": null,
            "overflow": null,
            "overflow_x": null,
            "overflow_y": null,
            "padding": null,
            "right": null,
            "top": null,
            "visibility": null,
            "width": null
          }
        },
        "b80a485a54a4424a89f182dc2f9ea085": {
          "model_module": "@jupyter-widgets/controls",
          "model_name": "DescriptionStyleModel",
          "model_module_version": "1.5.0",
          "state": {
            "_model_module": "@jupyter-widgets/controls",
            "_model_module_version": "1.5.0",
            "_model_name": "DescriptionStyleModel",
            "_view_count": null,
            "_view_module": "@jupyter-widgets/base",
            "_view_module_version": "1.2.0",
            "_view_name": "StyleView",
            "description_width": ""
          }
        },
        "68798bbe46c341b49e111d9f738c4cac": {
          "model_module": "@jupyter-widgets/controls",
          "model_name": "HBoxModel",
          "model_module_version": "1.5.0",
          "state": {
            "_dom_classes": [],
            "_model_module": "@jupyter-widgets/controls",
            "_model_module_version": "1.5.0",
            "_model_name": "HBoxModel",
            "_view_count": null,
            "_view_module": "@jupyter-widgets/controls",
            "_view_module_version": "1.5.0",
            "_view_name": "HBoxView",
            "box_style": "",
            "children": [
              "IPY_MODEL_00447585f0994085a0aa0d4280abf74f",
              "IPY_MODEL_9de56db2908f4b83b4bab5db4c473c8d",
              "IPY_MODEL_04b404ce39c04143a5ba1f12c0ab8ea6"
            ],
            "layout": "IPY_MODEL_32bab267cb86405a9cffc4119009830a"
          }
        },
        "00447585f0994085a0aa0d4280abf74f": {
          "model_module": "@jupyter-widgets/controls",
          "model_name": "HTMLModel",
          "model_module_version": "1.5.0",
          "state": {
            "_dom_classes": [],
            "_model_module": "@jupyter-widgets/controls",
            "_model_module_version": "1.5.0",
            "_model_name": "HTMLModel",
            "_view_count": null,
            "_view_module": "@jupyter-widgets/controls",
            "_view_module_version": "1.5.0",
            "_view_name": "HTMLView",
            "description": "",
            "description_tooltip": null,
            "layout": "IPY_MODEL_f5aa5a471ed6452c829a4bfbc09bd55b",
            "placeholder": "​",
            "style": "IPY_MODEL_11eca82535d44e3683673b11982951c5",
            "value": "Loading checkpoint shards:   0%"
          }
        },
        "9de56db2908f4b83b4bab5db4c473c8d": {
          "model_module": "@jupyter-widgets/controls",
          "model_name": "FloatProgressModel",
          "model_module_version": "1.5.0",
          "state": {
            "_dom_classes": [],
            "_model_module": "@jupyter-widgets/controls",
            "_model_module_version": "1.5.0",
            "_model_name": "FloatProgressModel",
            "_view_count": null,
            "_view_module": "@jupyter-widgets/controls",
            "_view_module_version": "1.5.0",
            "_view_name": "ProgressView",
            "bar_style": "",
            "description": "",
            "description_tooltip": null,
            "layout": "IPY_MODEL_b8210c4583c1424b8c91dbfb927b1422",
            "max": 2,
            "min": 0,
            "orientation": "horizontal",
            "style": "IPY_MODEL_ac33abcba1c54e3092e417c42a2fe052",
            "value": 0
          }
        },
        "04b404ce39c04143a5ba1f12c0ab8ea6": {
          "model_module": "@jupyter-widgets/controls",
          "model_name": "HTMLModel",
          "model_module_version": "1.5.0",
          "state": {
            "_dom_classes": [],
            "_model_module": "@jupyter-widgets/controls",
            "_model_module_version": "1.5.0",
            "_model_name": "HTMLModel",
            "_view_count": null,
            "_view_module": "@jupyter-widgets/controls",
            "_view_module_version": "1.5.0",
            "_view_name": "HTMLView",
            "description": "",
            "description_tooltip": null,
            "layout": "IPY_MODEL_e7158cb4f8634cadb69825ba5b3cbc28",
            "placeholder": "​",
            "style": "IPY_MODEL_89488fc7d5c14d1697a269a1e1038048",
            "value": " 0/2 [00:00&lt;?, ?it/s]"
          }
        },
        "32bab267cb86405a9cffc4119009830a": {
          "model_module": "@jupyter-widgets/base",
          "model_name": "LayoutModel",
          "model_module_version": "1.2.0",
          "state": {
            "_model_module": "@jupyter-widgets/base",
            "_model_module_version": "1.2.0",
            "_model_name": "LayoutModel",
            "_view_count": null,
            "_view_module": "@jupyter-widgets/base",
            "_view_module_version": "1.2.0",
            "_view_name": "LayoutView",
            "align_content": null,
            "align_items": null,
            "align_self": null,
            "border": null,
            "bottom": null,
            "display": null,
            "flex": null,
            "flex_flow": null,
            "grid_area": null,
            "grid_auto_columns": null,
            "grid_auto_flow": null,
            "grid_auto_rows": null,
            "grid_column": null,
            "grid_gap": null,
            "grid_row": null,
            "grid_template_areas": null,
            "grid_template_columns": null,
            "grid_template_rows": null,
            "height": null,
            "justify_content": null,
            "justify_items": null,
            "left": null,
            "margin": null,
            "max_height": null,
            "max_width": null,
            "min_height": null,
            "min_width": null,
            "object_fit": null,
            "object_position": null,
            "order": null,
            "overflow": null,
            "overflow_x": null,
            "overflow_y": null,
            "padding": null,
            "right": null,
            "top": null,
            "visibility": null,
            "width": null
          }
        },
        "f5aa5a471ed6452c829a4bfbc09bd55b": {
          "model_module": "@jupyter-widgets/base",
          "model_name": "LayoutModel",
          "model_module_version": "1.2.0",
          "state": {
            "_model_module": "@jupyter-widgets/base",
            "_model_module_version": "1.2.0",
            "_model_name": "LayoutModel",
            "_view_count": null,
            "_view_module": "@jupyter-widgets/base",
            "_view_module_version": "1.2.0",
            "_view_name": "LayoutView",
            "align_content": null,
            "align_items": null,
            "align_self": null,
            "border": null,
            "bottom": null,
            "display": null,
            "flex": null,
            "flex_flow": null,
            "grid_area": null,
            "grid_auto_columns": null,
            "grid_auto_flow": null,
            "grid_auto_rows": null,
            "grid_column": null,
            "grid_gap": null,
            "grid_row": null,
            "grid_template_areas": null,
            "grid_template_columns": null,
            "grid_template_rows": null,
            "height": null,
            "justify_content": null,
            "justify_items": null,
            "left": null,
            "margin": null,
            "max_height": null,
            "max_width": null,
            "min_height": null,
            "min_width": null,
            "object_fit": null,
            "object_position": null,
            "order": null,
            "overflow": null,
            "overflow_x": null,
            "overflow_y": null,
            "padding": null,
            "right": null,
            "top": null,
            "visibility": null,
            "width": null
          }
        },
        "11eca82535d44e3683673b11982951c5": {
          "model_module": "@jupyter-widgets/controls",
          "model_name": "DescriptionStyleModel",
          "model_module_version": "1.5.0",
          "state": {
            "_model_module": "@jupyter-widgets/controls",
            "_model_module_version": "1.5.0",
            "_model_name": "DescriptionStyleModel",
            "_view_count": null,
            "_view_module": "@jupyter-widgets/base",
            "_view_module_version": "1.2.0",
            "_view_name": "StyleView",
            "description_width": ""
          }
        },
        "b8210c4583c1424b8c91dbfb927b1422": {
          "model_module": "@jupyter-widgets/base",
          "model_name": "LayoutModel",
          "model_module_version": "1.2.0",
          "state": {
            "_model_module": "@jupyter-widgets/base",
            "_model_module_version": "1.2.0",
            "_model_name": "LayoutModel",
            "_view_count": null,
            "_view_module": "@jupyter-widgets/base",
            "_view_module_version": "1.2.0",
            "_view_name": "LayoutView",
            "align_content": null,
            "align_items": null,
            "align_self": null,
            "border": null,
            "bottom": null,
            "display": null,
            "flex": null,
            "flex_flow": null,
            "grid_area": null,
            "grid_auto_columns": null,
            "grid_auto_flow": null,
            "grid_auto_rows": null,
            "grid_column": null,
            "grid_gap": null,
            "grid_row": null,
            "grid_template_areas": null,
            "grid_template_columns": null,
            "grid_template_rows": null,
            "height": null,
            "justify_content": null,
            "justify_items": null,
            "left": null,
            "margin": null,
            "max_height": null,
            "max_width": null,
            "min_height": null,
            "min_width": null,
            "object_fit": null,
            "object_position": null,
            "order": null,
            "overflow": null,
            "overflow_x": null,
            "overflow_y": null,
            "padding": null,
            "right": null,
            "top": null,
            "visibility": null,
            "width": null
          }
        },
        "ac33abcba1c54e3092e417c42a2fe052": {
          "model_module": "@jupyter-widgets/controls",
          "model_name": "ProgressStyleModel",
          "model_module_version": "1.5.0",
          "state": {
            "_model_module": "@jupyter-widgets/controls",
            "_model_module_version": "1.5.0",
            "_model_name": "ProgressStyleModel",
            "_view_count": null,
            "_view_module": "@jupyter-widgets/base",
            "_view_module_version": "1.2.0",
            "_view_name": "StyleView",
            "bar_color": null,
            "description_width": ""
          }
        },
        "e7158cb4f8634cadb69825ba5b3cbc28": {
          "model_module": "@jupyter-widgets/base",
          "model_name": "LayoutModel",
          "model_module_version": "1.2.0",
          "state": {
            "_model_module": "@jupyter-widgets/base",
            "_model_module_version": "1.2.0",
            "_model_name": "LayoutModel",
            "_view_count": null,
            "_view_module": "@jupyter-widgets/base",
            "_view_module_version": "1.2.0",
            "_view_name": "LayoutView",
            "align_content": null,
            "align_items": null,
            "align_self": null,
            "border": null,
            "bottom": null,
            "display": null,
            "flex": null,
            "flex_flow": null,
            "grid_area": null,
            "grid_auto_columns": null,
            "grid_auto_flow": null,
            "grid_auto_rows": null,
            "grid_column": null,
            "grid_gap": null,
            "grid_row": null,
            "grid_template_areas": null,
            "grid_template_columns": null,
            "grid_template_rows": null,
            "height": null,
            "justify_content": null,
            "justify_items": null,
            "left": null,
            "margin": null,
            "max_height": null,
            "max_width": null,
            "min_height": null,
            "min_width": null,
            "object_fit": null,
            "object_position": null,
            "order": null,
            "overflow": null,
            "overflow_x": null,
            "overflow_y": null,
            "padding": null,
            "right": null,
            "top": null,
            "visibility": null,
            "width": null
          }
        },
        "89488fc7d5c14d1697a269a1e1038048": {
          "model_module": "@jupyter-widgets/controls",
          "model_name": "DescriptionStyleModel",
          "model_module_version": "1.5.0",
          "state": {
            "_model_module": "@jupyter-widgets/controls",
            "_model_module_version": "1.5.0",
            "_model_name": "DescriptionStyleModel",
            "_view_count": null,
            "_view_module": "@jupyter-widgets/base",
            "_view_module_version": "1.2.0",
            "_view_name": "StyleView",
            "description_width": ""
          }
        }
      }
    }
  },
  "nbformat": 4,
  "nbformat_minor": 0
}